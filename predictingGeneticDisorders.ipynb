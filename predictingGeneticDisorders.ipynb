{
  "nbformat": 4,
  "nbformat_minor": 0,
  "metadata": {
    "colab": {
      "provenance": []
    },
    "kernelspec": {
      "name": "python3",
      "display_name": "Python 3"
    },
    "language_info": {
      "name": "python"
    }
  },
  "cells": [
    {
      "cell_type": "markdown",
      "source": [
        "Installing PySpark enviroment"
      ],
      "metadata": {
        "id": "hw5YXAS3si3B"
      }
    },
    {
      "cell_type": "code",
      "execution_count": null,
      "metadata": {
        "id": "ZbMUXmEk1HD7",
        "colab": {
          "base_uri": "https://localhost:8080/"
        },
        "outputId": "a0e7f826-3029-46d9-a4bb-6ed19cc391d4"
      },
      "outputs": [
        {
          "output_type": "stream",
          "name": "stdout",
          "text": [
            "\u001b[2K     \u001b[90m━━━━━━━━━━━━━━━━━━━━━━━━━━━━━━━━━━━━━━━\u001b[0m \u001b[32m310.8/310.8 MB\u001b[0m \u001b[31m4.7 MB/s\u001b[0m eta \u001b[36m0:00:00\u001b[0m\n",
            "\u001b[?25h  Preparing metadata (setup.py) ... \u001b[?25l\u001b[?25hdone\n",
            "  Building wheel for pyspark (setup.py) ... \u001b[?25l\u001b[?25hdone\n"
          ]
        }
      ],
      "source": [
        "!pip install -q pyspark"
      ]
    },
    {
      "cell_type": "code",
      "source": [
        "from pyspark import SparkContext, SparkConf\n",
        "from pyspark.sql import SparkSession\n",
        "from pyspark.sql import SQLContext\n",
        "from pyspark.sql.functions import col\n",
        "\n",
        "conf = SparkConf().setAppName('FinalProject3200')\n",
        "sc = SparkContext.getOrCreate(conf = conf)\n",
        "spark = SparkSession.builder.getOrCreate()\n",
        "\n",
        "sqlContext = SparkSession.builder\\\n",
        "        .master(\"local\")\\\n",
        "        .appName(\"Colab\")\\\n",
        "        .config('spark.ui.port', '4050')\\\n",
        "        .getOrCreate()"
      ],
      "metadata": {
        "id": "PzUXpz_eVfKx"
      },
      "execution_count": null,
      "outputs": []
    },
    {
      "cell_type": "markdown",
      "source": [
        "Importing libraries"
      ],
      "metadata": {
        "id": "IeYRuh6tsdyZ"
      }
    },
    {
      "cell_type": "code",
      "source": [
        "import pandas as pd\n",
        "import numpy as np\n",
        "import matplotlib.pyplot as plt\n",
        "from numpy import polyfit"
      ],
      "metadata": {
        "id": "vDEDv7B5VmtD"
      },
      "execution_count": null,
      "outputs": []
    },
    {
      "cell_type": "markdown",
      "source": [
        "Uploading the data"
      ],
      "metadata": {
        "id": "mmgFsAqVsctI"
      }
    },
    {
      "cell_type": "code",
      "source": [
        "train_data = pd.read_csv(\"train.csv\")"
      ],
      "metadata": {
        "id": "4R8gGupSV6vd"
      },
      "execution_count": null,
      "outputs": []
    },
    {
      "cell_type": "markdown",
      "source": [
        "**Cleaning Data**"
      ],
      "metadata": {
        "id": "oIhLz8H1saMA"
      }
    },
    {
      "cell_type": "markdown",
      "source": [
        "Dropping columns that will not be revelant in predicting disorders and protected information such as the Father's Name, Patient First Name, and Institue Name. We will also drop \"Genetic Disorder\" to focus on the subclass of the disorders."
      ],
      "metadata": {
        "id": "5JXTjaors8wS"
      }
    },
    {
      "cell_type": "code",
      "source": [
        "drop_columns = ['Patient Id', \n",
        "                'Patient First Name', \n",
        "                'Family Name', \n",
        "                \"Father's name\", \n",
        "                \"Institute Name\", \n",
        "                \"Location of Institute\", \n",
        "                \"Status\", \n",
        "                \"Parental consent\",\n",
        "                \"Genetic Disorder\"]\n",
        "\n",
        "train_data.drop(columns = drop_columns, inplace=True)"
      ],
      "metadata": {
        "id": "NURVshfuXhn3"
      },
      "execution_count": null,
      "outputs": []
    },
    {
      "cell_type": "markdown",
      "source": [
        "Checking the data types on the columns.\n",
        "Object representing strings.\n",
        "float64 representing numeric values."
      ],
      "metadata": {
        "id": "JIUSR7aJaotk"
      }
    },
    {
      "cell_type": "code",
      "source": [
        "train_data.dtypes"
      ],
      "metadata": {
        "colab": {
          "base_uri": "https://localhost:8080/"
        },
        "id": "r2EdHdwjapZ7",
        "outputId": "2effe1db-8980-46dd-f648-527043846a45"
      },
      "execution_count": null,
      "outputs": [
        {
          "output_type": "execute_result",
          "data": {
            "text/plain": [
              "Patient Age                                         float64\n",
              "Genes in mother's side                               object\n",
              "Inherited from father                                object\n",
              "Maternal gene                                        object\n",
              "Paternal gene                                        object\n",
              "Blood cell count (mcL)                              float64\n",
              "Mother's age                                        float64\n",
              "Father's age                                        float64\n",
              "Respiratory Rate (breaths/min)                       object\n",
              "Heart Rate (rates/min                                object\n",
              "Test 1                                              float64\n",
              "Test 2                                              float64\n",
              "Test 3                                              float64\n",
              "Test 4                                              float64\n",
              "Test 5                                              float64\n",
              "Follow-up                                            object\n",
              "Gender                                               object\n",
              "Birth asphyxia                                       object\n",
              "Autopsy shows birth defect (if applicable)           object\n",
              "Place of birth                                       object\n",
              "Folic acid details (peri-conceptional)               object\n",
              "H/O serious maternal illness                         object\n",
              "H/O radiation exposure (x-ray)                       object\n",
              "H/O substance abuse                                  object\n",
              "Assisted conception IVF/ART                          object\n",
              "History of anomalies in previous pregnancies         object\n",
              "No. of previous abortion                            float64\n",
              "Birth defects                                        object\n",
              "White Blood cell count (thousand per microliter)    float64\n",
              "Blood test result                                    object\n",
              "Symptom 1                                           float64\n",
              "Symptom 2                                           float64\n",
              "Symptom 3                                           float64\n",
              "Symptom 4                                           float64\n",
              "Symptom 5                                           float64\n",
              "Disorder Subclass                                    object\n",
              "dtype: object"
            ]
          },
          "metadata": {},
          "execution_count": 6
        }
      ]
    },
    {
      "cell_type": "markdown",
      "source": [
        "Counting NA in Disorder Subclass"
      ],
      "metadata": {
        "id": "14x3NTNYnKzT"
      }
    },
    {
      "cell_type": "code",
      "source": [
        "subclass_na_count = train_data[\"Disorder Subclass\"].isna().sum()\n",
        "print(subclass_na_count)\n"
      ],
      "metadata": {
        "colab": {
          "base_uri": "https://localhost:8080/"
        },
        "id": "G51I8WxgnKbL",
        "outputId": "e7610c48-d498-4209-be24-182b393b4cfa"
      },
      "execution_count": null,
      "outputs": [
        {
          "output_type": "stream",
          "name": "stdout",
          "text": [
            "2168\n"
          ]
        }
      ]
    },
    {
      "cell_type": "markdown",
      "source": [
        "We will drop the NA values for Disorder Subclass since we need the genetic disorder to build a proper model."
      ],
      "metadata": {
        "id": "B0PejgRAoXmz"
      }
    },
    {
      "cell_type": "code",
      "source": [
        "train_data = train_data.dropna(subset = ['Disorder Subclass'])"
      ],
      "metadata": {
        "id": "XikDMkYIoXAg"
      },
      "execution_count": null,
      "outputs": []
    },
    {
      "cell_type": "markdown",
      "source": [
        "Checking NAs has been dropped"
      ],
      "metadata": {
        "id": "-msYMgLXvqol"
      }
    },
    {
      "cell_type": "code",
      "source": [
        "subclass_na = train_data[\"Disorder Subclass\"].isna().sum()\n",
        "print(subclass_na)"
      ],
      "metadata": {
        "colab": {
          "base_uri": "https://localhost:8080/"
        },
        "id": "sFn_oCKKur8j",
        "outputId": "bf6699ee-0abb-4fd6-9b89-ad9f68141331"
      },
      "execution_count": null,
      "outputs": [
        {
          "output_type": "stream",
          "name": "stdout",
          "text": [
            "0\n"
          ]
        }
      ]
    },
    {
      "cell_type": "markdown",
      "source": [
        "Replace 'NA' values with median in numeric variables since it will not impact the summary statistics as much as the mean would, and allow for the rows to remain valuable.\n",
        "\n",
        "Also, converting some of the float types to int types."
      ],
      "metadata": {
        "id": "p-qudq1QcaGf"
      }
    },
    {
      "cell_type": "code",
      "source": [
        "# Replacing NA in No. of Previous of Abortions with the median of the variable\n",
        "train_data[\"No. of previous abortion\"].fillna(train_data[\"No. of previous abortion\"].median(), inplace=True)\n",
        "train_data[\"No. of previous abortion\"] = train_data[\"No. of previous abortion\"].astype(\"int64\")\n",
        "\n",
        "# Replacing NA in White Blood cell count (thousand per microliter) with the median of the variable\n",
        "train_data[\"White Blood cell count (thousand per microliter)\"].fillna(train_data[\"White Blood cell count (thousand per microliter)\"].median(), inplace=True)\n",
        "\n",
        "# Replacing NA in Patient's age with the median of the variable\n",
        "train_data[\"Patient Age\"].fillna(train_data[\"Patient Age\"].median(), inplace=True)\n",
        "train_data[\"Patient Age\"] = train_data[\"Patient Age\"].astype(\"int64\")\n",
        "\n",
        "# Replacing NA in Blood cell count with the median of the variable\n",
        "train_data[\"Blood cell count (mcL)\"].fillna(train_data[\"Blood cell count (mcL)\"].median(), inplace=True)\n",
        "\n",
        "# Replacing NA in Mother's age with the median of the variable\n",
        "train_data[\"Mother's age\"].fillna(train_data[\"Mother's age\"].median(), inplace=True)\n",
        "train_data[\"Mother's age\"] = train_data[\"Mother's age\"].astype(\"int64\")\n",
        "\n",
        "# Replacing NA in Father's age with the median of the variable\n",
        "train_data[\"Father's age\"].fillna(train_data[\"Father's age\"].median(), inplace=True)\n",
        "train_data[\"Father's age\"] = train_data[\"Father's age\"].astype(\"int64\")\n"
      ],
      "metadata": {
        "id": "pKGYH7FBccZU"
      },
      "execution_count": null,
      "outputs": []
    },
    {
      "cell_type": "markdown",
      "source": [
        "Replacing 'NA' values in the categorical variables with an \"Unknown\" value."
      ],
      "metadata": {
        "id": "c9p7znwjqvhY"
      }
    },
    {
      "cell_type": "code",
      "source": [
        "train_data[[\"Blood test result\", \"Birth defects\", \"Gender\", \"Heart Rate (rates/min\", \"Respiratory Rate (breaths/min)\", \"Follow-up\", \"Place of birth\"]] = train_data[[\"Blood test result\", \"Birth defects\", \"Gender\", \"Heart Rate (rates/min\", \"Respiratory Rate (breaths/min)\", \"Follow-up\", \"Place of birth\"]].fillna('Unknown')"
      ],
      "metadata": {
        "id": "OEg-8ZLUq1yZ"
      },
      "execution_count": null,
      "outputs": []
    },
    {
      "cell_type": "markdown",
      "source": [
        "Adjusting the categorical variables from object type to categorical type. "
      ],
      "metadata": {
        "id": "_j_m9NXJaB_v"
      }
    },
    {
      "cell_type": "code",
      "source": [
        "train_data[[\"Blood test result\", \"Birth defects\", \"Gender\", \"Heart Rate (rates/min\", \"Respiratory Rate (breaths/min)\", \"Follow-up\", \"Place of birth\", \"Disorder Subclass\"]].astype(\"category\")"
      ],
      "metadata": {
        "colab": {
          "base_uri": "https://localhost:8080/",
          "height": 502
        },
        "id": "V4qoDQziaCkn",
        "outputId": "67f50571-005c-4450-c705-ff930910f999"
      },
      "execution_count": null,
      "outputs": [
        {
          "output_type": "execute_result",
          "data": {
            "text/plain": [
              "      Blood test result Birth defects     Gender Heart Rate (rates/min  \\\n",
              "0               Unknown       Unknown    Unknown                Normal   \n",
              "1                normal      Multiple    Unknown                Normal   \n",
              "2                normal      Singular    Unknown           Tachycardia   \n",
              "3          inconclusive      Singular       Male                Normal   \n",
              "4               Unknown      Multiple       Male           Tachycardia   \n",
              "...                 ...           ...        ...                   ...   \n",
              "22078      inconclusive      Multiple     Female           Tachycardia   \n",
              "22079      inconclusive      Multiple  Ambiguous                Normal   \n",
              "22080            normal      Singular       Male                Normal   \n",
              "22081          abnormal      Multiple       Male           Tachycardia   \n",
              "22082            normal      Singular     Female                Normal   \n",
              "\n",
              "      Respiratory Rate (breaths/min) Follow-up Place of birth  \\\n",
              "0                     Normal (30-60)      High      Institute   \n",
              "1                          Tachypnea      High        Unknown   \n",
              "2                     Normal (30-60)       Low        Unknown   \n",
              "3                          Tachypnea      High      Institute   \n",
              "4                          Tachypnea       Low      Institute   \n",
              "...                              ...       ...            ...   \n",
              "22078                 Normal (30-60)      High      Institute   \n",
              "22079                 Normal (30-60)      High      Institute   \n",
              "22080                      Tachypnea      High           Home   \n",
              "22081                      Tachypnea      High           Home   \n",
              "22082                 Normal (30-60)      High      Institute   \n",
              "\n",
              "                         Disorder Subclass  \n",
              "0      Leber's hereditary optic neuropathy  \n",
              "1                          Cystic fibrosis  \n",
              "2                                 Diabetes  \n",
              "3                           Leigh syndrome  \n",
              "4                                   Cancer  \n",
              "...                                    ...  \n",
              "22078                       Leigh syndrome  \n",
              "22079                             Diabetes  \n",
              "22080               Mitochondrial myopathy  \n",
              "22081                       Leigh syndrome  \n",
              "22082                             Diabetes  \n",
              "\n",
              "[19915 rows x 8 columns]"
            ],
            "text/html": [
              "\n",
              "  <div id=\"df-e9e5b0dd-3525-4b98-9302-a10d8c19fd10\">\n",
              "    <div class=\"colab-df-container\">\n",
              "      <div>\n",
              "<style scoped>\n",
              "    .dataframe tbody tr th:only-of-type {\n",
              "        vertical-align: middle;\n",
              "    }\n",
              "\n",
              "    .dataframe tbody tr th {\n",
              "        vertical-align: top;\n",
              "    }\n",
              "\n",
              "    .dataframe thead th {\n",
              "        text-align: right;\n",
              "    }\n",
              "</style>\n",
              "<table border=\"1\" class=\"dataframe\">\n",
              "  <thead>\n",
              "    <tr style=\"text-align: right;\">\n",
              "      <th></th>\n",
              "      <th>Blood test result</th>\n",
              "      <th>Birth defects</th>\n",
              "      <th>Gender</th>\n",
              "      <th>Heart Rate (rates/min</th>\n",
              "      <th>Respiratory Rate (breaths/min)</th>\n",
              "      <th>Follow-up</th>\n",
              "      <th>Place of birth</th>\n",
              "      <th>Disorder Subclass</th>\n",
              "    </tr>\n",
              "  </thead>\n",
              "  <tbody>\n",
              "    <tr>\n",
              "      <th>0</th>\n",
              "      <td>Unknown</td>\n",
              "      <td>Unknown</td>\n",
              "      <td>Unknown</td>\n",
              "      <td>Normal</td>\n",
              "      <td>Normal (30-60)</td>\n",
              "      <td>High</td>\n",
              "      <td>Institute</td>\n",
              "      <td>Leber's hereditary optic neuropathy</td>\n",
              "    </tr>\n",
              "    <tr>\n",
              "      <th>1</th>\n",
              "      <td>normal</td>\n",
              "      <td>Multiple</td>\n",
              "      <td>Unknown</td>\n",
              "      <td>Normal</td>\n",
              "      <td>Tachypnea</td>\n",
              "      <td>High</td>\n",
              "      <td>Unknown</td>\n",
              "      <td>Cystic fibrosis</td>\n",
              "    </tr>\n",
              "    <tr>\n",
              "      <th>2</th>\n",
              "      <td>normal</td>\n",
              "      <td>Singular</td>\n",
              "      <td>Unknown</td>\n",
              "      <td>Tachycardia</td>\n",
              "      <td>Normal (30-60)</td>\n",
              "      <td>Low</td>\n",
              "      <td>Unknown</td>\n",
              "      <td>Diabetes</td>\n",
              "    </tr>\n",
              "    <tr>\n",
              "      <th>3</th>\n",
              "      <td>inconclusive</td>\n",
              "      <td>Singular</td>\n",
              "      <td>Male</td>\n",
              "      <td>Normal</td>\n",
              "      <td>Tachypnea</td>\n",
              "      <td>High</td>\n",
              "      <td>Institute</td>\n",
              "      <td>Leigh syndrome</td>\n",
              "    </tr>\n",
              "    <tr>\n",
              "      <th>4</th>\n",
              "      <td>Unknown</td>\n",
              "      <td>Multiple</td>\n",
              "      <td>Male</td>\n",
              "      <td>Tachycardia</td>\n",
              "      <td>Tachypnea</td>\n",
              "      <td>Low</td>\n",
              "      <td>Institute</td>\n",
              "      <td>Cancer</td>\n",
              "    </tr>\n",
              "    <tr>\n",
              "      <th>...</th>\n",
              "      <td>...</td>\n",
              "      <td>...</td>\n",
              "      <td>...</td>\n",
              "      <td>...</td>\n",
              "      <td>...</td>\n",
              "      <td>...</td>\n",
              "      <td>...</td>\n",
              "      <td>...</td>\n",
              "    </tr>\n",
              "    <tr>\n",
              "      <th>22078</th>\n",
              "      <td>inconclusive</td>\n",
              "      <td>Multiple</td>\n",
              "      <td>Female</td>\n",
              "      <td>Tachycardia</td>\n",
              "      <td>Normal (30-60)</td>\n",
              "      <td>High</td>\n",
              "      <td>Institute</td>\n",
              "      <td>Leigh syndrome</td>\n",
              "    </tr>\n",
              "    <tr>\n",
              "      <th>22079</th>\n",
              "      <td>inconclusive</td>\n",
              "      <td>Multiple</td>\n",
              "      <td>Ambiguous</td>\n",
              "      <td>Normal</td>\n",
              "      <td>Normal (30-60)</td>\n",
              "      <td>High</td>\n",
              "      <td>Institute</td>\n",
              "      <td>Diabetes</td>\n",
              "    </tr>\n",
              "    <tr>\n",
              "      <th>22080</th>\n",
              "      <td>normal</td>\n",
              "      <td>Singular</td>\n",
              "      <td>Male</td>\n",
              "      <td>Normal</td>\n",
              "      <td>Tachypnea</td>\n",
              "      <td>High</td>\n",
              "      <td>Home</td>\n",
              "      <td>Mitochondrial myopathy</td>\n",
              "    </tr>\n",
              "    <tr>\n",
              "      <th>22081</th>\n",
              "      <td>abnormal</td>\n",
              "      <td>Multiple</td>\n",
              "      <td>Male</td>\n",
              "      <td>Tachycardia</td>\n",
              "      <td>Tachypnea</td>\n",
              "      <td>High</td>\n",
              "      <td>Home</td>\n",
              "      <td>Leigh syndrome</td>\n",
              "    </tr>\n",
              "    <tr>\n",
              "      <th>22082</th>\n",
              "      <td>normal</td>\n",
              "      <td>Singular</td>\n",
              "      <td>Female</td>\n",
              "      <td>Normal</td>\n",
              "      <td>Normal (30-60)</td>\n",
              "      <td>High</td>\n",
              "      <td>Institute</td>\n",
              "      <td>Diabetes</td>\n",
              "    </tr>\n",
              "  </tbody>\n",
              "</table>\n",
              "<p>19915 rows × 8 columns</p>\n",
              "</div>\n",
              "      <button class=\"colab-df-convert\" onclick=\"convertToInteractive('df-e9e5b0dd-3525-4b98-9302-a10d8c19fd10')\"\n",
              "              title=\"Convert this dataframe to an interactive table.\"\n",
              "              style=\"display:none;\">\n",
              "        \n",
              "  <svg xmlns=\"http://www.w3.org/2000/svg\" height=\"24px\"viewBox=\"0 0 24 24\"\n",
              "       width=\"24px\">\n",
              "    <path d=\"M0 0h24v24H0V0z\" fill=\"none\"/>\n",
              "    <path d=\"M18.56 5.44l.94 2.06.94-2.06 2.06-.94-2.06-.94-.94-2.06-.94 2.06-2.06.94zm-11 1L8.5 8.5l.94-2.06 2.06-.94-2.06-.94L8.5 2.5l-.94 2.06-2.06.94zm10 10l.94 2.06.94-2.06 2.06-.94-2.06-.94-.94-2.06-.94 2.06-2.06.94z\"/><path d=\"M17.41 7.96l-1.37-1.37c-.4-.4-.92-.59-1.43-.59-.52 0-1.04.2-1.43.59L10.3 9.45l-7.72 7.72c-.78.78-.78 2.05 0 2.83L4 21.41c.39.39.9.59 1.41.59.51 0 1.02-.2 1.41-.59l7.78-7.78 2.81-2.81c.8-.78.8-2.07 0-2.86zM5.41 20L4 18.59l7.72-7.72 1.47 1.35L5.41 20z\"/>\n",
              "  </svg>\n",
              "      </button>\n",
              "      \n",
              "  <style>\n",
              "    .colab-df-container {\n",
              "      display:flex;\n",
              "      flex-wrap:wrap;\n",
              "      gap: 12px;\n",
              "    }\n",
              "\n",
              "    .colab-df-convert {\n",
              "      background-color: #E8F0FE;\n",
              "      border: none;\n",
              "      border-radius: 50%;\n",
              "      cursor: pointer;\n",
              "      display: none;\n",
              "      fill: #1967D2;\n",
              "      height: 32px;\n",
              "      padding: 0 0 0 0;\n",
              "      width: 32px;\n",
              "    }\n",
              "\n",
              "    .colab-df-convert:hover {\n",
              "      background-color: #E2EBFA;\n",
              "      box-shadow: 0px 1px 2px rgba(60, 64, 67, 0.3), 0px 1px 3px 1px rgba(60, 64, 67, 0.15);\n",
              "      fill: #174EA6;\n",
              "    }\n",
              "\n",
              "    [theme=dark] .colab-df-convert {\n",
              "      background-color: #3B4455;\n",
              "      fill: #D2E3FC;\n",
              "    }\n",
              "\n",
              "    [theme=dark] .colab-df-convert:hover {\n",
              "      background-color: #434B5C;\n",
              "      box-shadow: 0px 1px 3px 1px rgba(0, 0, 0, 0.15);\n",
              "      filter: drop-shadow(0px 1px 2px rgba(0, 0, 0, 0.3));\n",
              "      fill: #FFFFFF;\n",
              "    }\n",
              "  </style>\n",
              "\n",
              "      <script>\n",
              "        const buttonEl =\n",
              "          document.querySelector('#df-e9e5b0dd-3525-4b98-9302-a10d8c19fd10 button.colab-df-convert');\n",
              "        buttonEl.style.display =\n",
              "          google.colab.kernel.accessAllowed ? 'block' : 'none';\n",
              "\n",
              "        async function convertToInteractive(key) {\n",
              "          const element = document.querySelector('#df-e9e5b0dd-3525-4b98-9302-a10d8c19fd10');\n",
              "          const dataTable =\n",
              "            await google.colab.kernel.invokeFunction('convertToInteractive',\n",
              "                                                     [key], {});\n",
              "          if (!dataTable) return;\n",
              "\n",
              "          const docLinkHtml = 'Like what you see? Visit the ' +\n",
              "            '<a target=\"_blank\" href=https://colab.research.google.com/notebooks/data_table.ipynb>data table notebook</a>'\n",
              "            + ' to learn more about interactive tables.';\n",
              "          element.innerHTML = '';\n",
              "          dataTable['output_type'] = 'display_data';\n",
              "          await google.colab.output.renderOutput(dataTable, element);\n",
              "          const docLink = document.createElement('div');\n",
              "          docLink.innerHTML = docLinkHtml;\n",
              "          element.appendChild(docLink);\n",
              "        }\n",
              "      </script>\n",
              "    </div>\n",
              "  </div>\n",
              "  "
            ]
          },
          "metadata": {},
          "execution_count": 12
        }
      ]
    },
    {
      "cell_type": "markdown",
      "source": [
        "Formating all \"-\", \"Not applicable\", \"Not available\", and \"No record\" into \"No\" to create a uniform response. "
      ],
      "metadata": {
        "id": "8sKXpVh0ZLS9"
      }
    },
    {
      "cell_type": "code",
      "source": [
        "train_data = train_data.replace([\"-\", \"Not applicable\", \"Not available\", \"None\", \"No record\"], \"No\")"
      ],
      "metadata": {
        "id": "65zcdlZwZLty"
      },
      "execution_count": null,
      "outputs": []
    },
    {
      "cell_type": "markdown",
      "source": [
        "Converting the binary columns from \"Yes\" and \"No\" to binary (1, 0)"
      ],
      "metadata": {
        "id": "n3DXfATqDTll"
      }
    },
    {
      "cell_type": "code",
      "source": [
        "binary_var = [\"Maternal gene\", \"Genes in mother's side\",\n",
        "              \"Inherited from father\", \"Paternal gene\",\n",
        "              \"Birth asphyxia\", \n",
        "              \"Folic acid details (peri-conceptional)\",\n",
        "              \"H/O serious maternal illness\", \n",
        "              \"H/O radiation exposure (x-ray)\",\n",
        "              \"H/O substance abuse\", \"Assisted conception IVF/ART\",\n",
        "              \"History of anomalies in previous pregnancies\",\n",
        "              \"Autopsy shows birth defect (if applicable)\",\n",
        "              ]\n",
        "\n",
        "train_data[binary_var] = train_data[binary_var].replace({\"Yes\": 1, \"No\": 0})"
      ],
      "metadata": {
        "id": "EJ-OrQTvDQBU"
      },
      "execution_count": null,
      "outputs": []
    },
    {
      "cell_type": "markdown",
      "source": [
        "Replacing 'NA' values in all binary variables with 0 since we are assuming they didn't have the gene, symptom, test, etc."
      ],
      "metadata": {
        "id": "yWcYwlhAvaQA"
      }
    },
    {
      "cell_type": "markdown",
      "source": [
        "Transforming binary variables to type \"int64\"."
      ],
      "metadata": {
        "id": "uwcyKknnTjDE"
      }
    },
    {
      "cell_type": "code",
      "source": [
        "binary = [\"Maternal gene\", \"Genes in mother's side\",\n",
        "          \"Inherited from father\", \"Paternal gene\",\n",
        "          \"Birth asphyxia\", \n",
        "          \"Folic acid details (peri-conceptional)\",\n",
        "          \"H/O serious maternal illness\", \n",
        "          \"H/O radiation exposure (x-ray)\",\n",
        "          \"H/O substance abuse\", \"Assisted conception IVF/ART\",\n",
        "          \"History of anomalies in previous pregnancies\",\n",
        "          \"Autopsy shows birth defect (if applicable)\",\n",
        "          \"Test 1\", \"Test 2\", \"Test 3\", \"Test 4\", \"Test 5\",\n",
        "          \"Symptom 1\", \"Symptom 2\", \"Symptom 3\", \"Symptom 4\", \"Symptom 5\"\n",
        "          ]\n",
        "\n",
        "# Replacing NAs with 0          \n",
        "train_data[binary] = train_data[binary].fillna(0)\n",
        "\n",
        "# Transforming into type int\n",
        "train_data[binary] = train_data[binary].astype(\"int64\")"
      ],
      "metadata": {
        "id": "6hzHdqAyTjgo"
      },
      "execution_count": null,
      "outputs": []
    },
    {
      "cell_type": "markdown",
      "source": [
        "**Exploring the Data**"
      ],
      "metadata": {
        "id": "CQ7RL9SPsLOS"
      }
    },
    {
      "cell_type": "markdown",
      "source": [
        "Summary of statistics from all the numeric variables in the dataframe."
      ],
      "metadata": {
        "id": "jPO4CP_-zxGr"
      }
    },
    {
      "cell_type": "code",
      "source": [
        "train_data.describe()"
      ],
      "metadata": {
        "colab": {
          "base_uri": "https://localhost:8080/",
          "height": 463
        },
        "id": "FYopuiaKudD3",
        "outputId": "28973bee-8dbe-4758-b32e-a02026362a36"
      },
      "execution_count": null,
      "outputs": [
        {
          "output_type": "execute_result",
          "data": {
            "text/plain": [
              "        Patient Age  Genes in mother's side  Inherited from father  \\\n",
              "count  19915.000000            19915.000000           19915.000000   \n",
              "mean       6.952599                0.595933               0.391162   \n",
              "std        4.178497                0.490723               0.488023   \n",
              "min        0.000000                0.000000               0.000000   \n",
              "25%        3.000000                0.000000               0.000000   \n",
              "50%        7.000000                1.000000               0.000000   \n",
              "75%       10.000000                1.000000               1.000000   \n",
              "max       14.000000                1.000000               1.000000   \n",
              "\n",
              "       Maternal gene  Paternal gene  Blood cell count (mcL)  Mother's age  \\\n",
              "count   19915.000000   19915.000000            19915.000000  19915.000000   \n",
              "mean        0.484158       0.433191                4.898917     34.663219   \n",
              "std         0.499762       0.495529                0.199735      8.461725   \n",
              "min         0.000000       0.000000                4.092727     18.000000   \n",
              "25%         0.000000       0.000000                4.763367     29.000000   \n",
              "50%         0.000000       0.000000                4.899456     35.000000   \n",
              "75%         1.000000       1.000000                5.033677     40.000000   \n",
              "max         1.000000       1.000000                5.609829     51.000000   \n",
              "\n",
              "       Father's age   Test 1   Test 2  ...  H/O substance abuse  \\\n",
              "count  19915.000000  19915.0  19915.0  ...         19915.000000   \n",
              "mean      41.972282      0.0      0.0  ...             0.227115   \n",
              "std       11.259310      0.0      0.0  ...             0.418978   \n",
              "min       20.000000      0.0      0.0  ...             0.000000   \n",
              "25%       34.000000      0.0      0.0  ...             0.000000   \n",
              "50%       42.000000      0.0      0.0  ...             0.000000   \n",
              "75%       49.000000      0.0      0.0  ...             0.000000   \n",
              "max       64.000000      0.0      0.0  ...             1.000000   \n",
              "\n",
              "       Assisted conception IVF/ART  \\\n",
              "count                 19915.000000   \n",
              "mean                      0.455385   \n",
              "std                       0.498018   \n",
              "min                       0.000000   \n",
              "25%                       0.000000   \n",
              "50%                       0.000000   \n",
              "75%                       1.000000   \n",
              "max                       1.000000   \n",
              "\n",
              "       History of anomalies in previous pregnancies  No. of previous abortion  \\\n",
              "count                                  19915.000000              19915.000000   \n",
              "mean                                       0.459854                  2.002712   \n",
              "std                                        0.498398                  1.343635   \n",
              "min                                        0.000000                  0.000000   \n",
              "25%                                        0.000000                  1.000000   \n",
              "50%                                        0.000000                  2.000000   \n",
              "75%                                        1.000000                  3.000000   \n",
              "max                                        1.000000                  4.000000   \n",
              "\n",
              "       White Blood cell count (thousand per microliter)     Symptom 1  \\\n",
              "count                                      19915.000000  19915.000000   \n",
              "mean                                           7.481795      0.538288   \n",
              "std                                            2.526877      0.498544   \n",
              "min                                            3.000000      0.000000   \n",
              "25%                                            5.640557      0.000000   \n",
              "50%                                            7.478060      1.000000   \n",
              "75%                                            9.287531      1.000000   \n",
              "max                                           12.000000      1.000000   \n",
              "\n",
              "          Symptom 2     Symptom 3     Symptom 4     Symptom 5  \n",
              "count  19915.000000  19915.000000  19915.000000  19915.000000  \n",
              "mean       0.497615      0.489480      0.453628      0.418930  \n",
              "std        0.500007      0.499902      0.497857      0.493396  \n",
              "min        0.000000      0.000000      0.000000      0.000000  \n",
              "25%        0.000000      0.000000      0.000000      0.000000  \n",
              "50%        0.000000      0.000000      0.000000      0.000000  \n",
              "75%        1.000000      1.000000      1.000000      1.000000  \n",
              "max        1.000000      1.000000      1.000000      1.000000  \n",
              "\n",
              "[8 rows x 28 columns]"
            ],
            "text/html": [
              "\n",
              "  <div id=\"df-3031e6d2-220b-44c8-8569-48162c213f55\">\n",
              "    <div class=\"colab-df-container\">\n",
              "      <div>\n",
              "<style scoped>\n",
              "    .dataframe tbody tr th:only-of-type {\n",
              "        vertical-align: middle;\n",
              "    }\n",
              "\n",
              "    .dataframe tbody tr th {\n",
              "        vertical-align: top;\n",
              "    }\n",
              "\n",
              "    .dataframe thead th {\n",
              "        text-align: right;\n",
              "    }\n",
              "</style>\n",
              "<table border=\"1\" class=\"dataframe\">\n",
              "  <thead>\n",
              "    <tr style=\"text-align: right;\">\n",
              "      <th></th>\n",
              "      <th>Patient Age</th>\n",
              "      <th>Genes in mother's side</th>\n",
              "      <th>Inherited from father</th>\n",
              "      <th>Maternal gene</th>\n",
              "      <th>Paternal gene</th>\n",
              "      <th>Blood cell count (mcL)</th>\n",
              "      <th>Mother's age</th>\n",
              "      <th>Father's age</th>\n",
              "      <th>Test 1</th>\n",
              "      <th>Test 2</th>\n",
              "      <th>...</th>\n",
              "      <th>H/O substance abuse</th>\n",
              "      <th>Assisted conception IVF/ART</th>\n",
              "      <th>History of anomalies in previous pregnancies</th>\n",
              "      <th>No. of previous abortion</th>\n",
              "      <th>White Blood cell count (thousand per microliter)</th>\n",
              "      <th>Symptom 1</th>\n",
              "      <th>Symptom 2</th>\n",
              "      <th>Symptom 3</th>\n",
              "      <th>Symptom 4</th>\n",
              "      <th>Symptom 5</th>\n",
              "    </tr>\n",
              "  </thead>\n",
              "  <tbody>\n",
              "    <tr>\n",
              "      <th>count</th>\n",
              "      <td>19915.000000</td>\n",
              "      <td>19915.000000</td>\n",
              "      <td>19915.000000</td>\n",
              "      <td>19915.000000</td>\n",
              "      <td>19915.000000</td>\n",
              "      <td>19915.000000</td>\n",
              "      <td>19915.000000</td>\n",
              "      <td>19915.000000</td>\n",
              "      <td>19915.0</td>\n",
              "      <td>19915.0</td>\n",
              "      <td>...</td>\n",
              "      <td>19915.000000</td>\n",
              "      <td>19915.000000</td>\n",
              "      <td>19915.000000</td>\n",
              "      <td>19915.000000</td>\n",
              "      <td>19915.000000</td>\n",
              "      <td>19915.000000</td>\n",
              "      <td>19915.000000</td>\n",
              "      <td>19915.000000</td>\n",
              "      <td>19915.000000</td>\n",
              "      <td>19915.000000</td>\n",
              "    </tr>\n",
              "    <tr>\n",
              "      <th>mean</th>\n",
              "      <td>6.952599</td>\n",
              "      <td>0.595933</td>\n",
              "      <td>0.391162</td>\n",
              "      <td>0.484158</td>\n",
              "      <td>0.433191</td>\n",
              "      <td>4.898917</td>\n",
              "      <td>34.663219</td>\n",
              "      <td>41.972282</td>\n",
              "      <td>0.0</td>\n",
              "      <td>0.0</td>\n",
              "      <td>...</td>\n",
              "      <td>0.227115</td>\n",
              "      <td>0.455385</td>\n",
              "      <td>0.459854</td>\n",
              "      <td>2.002712</td>\n",
              "      <td>7.481795</td>\n",
              "      <td>0.538288</td>\n",
              "      <td>0.497615</td>\n",
              "      <td>0.489480</td>\n",
              "      <td>0.453628</td>\n",
              "      <td>0.418930</td>\n",
              "    </tr>\n",
              "    <tr>\n",
              "      <th>std</th>\n",
              "      <td>4.178497</td>\n",
              "      <td>0.490723</td>\n",
              "      <td>0.488023</td>\n",
              "      <td>0.499762</td>\n",
              "      <td>0.495529</td>\n",
              "      <td>0.199735</td>\n",
              "      <td>8.461725</td>\n",
              "      <td>11.259310</td>\n",
              "      <td>0.0</td>\n",
              "      <td>0.0</td>\n",
              "      <td>...</td>\n",
              "      <td>0.418978</td>\n",
              "      <td>0.498018</td>\n",
              "      <td>0.498398</td>\n",
              "      <td>1.343635</td>\n",
              "      <td>2.526877</td>\n",
              "      <td>0.498544</td>\n",
              "      <td>0.500007</td>\n",
              "      <td>0.499902</td>\n",
              "      <td>0.497857</td>\n",
              "      <td>0.493396</td>\n",
              "    </tr>\n",
              "    <tr>\n",
              "      <th>min</th>\n",
              "      <td>0.000000</td>\n",
              "      <td>0.000000</td>\n",
              "      <td>0.000000</td>\n",
              "      <td>0.000000</td>\n",
              "      <td>0.000000</td>\n",
              "      <td>4.092727</td>\n",
              "      <td>18.000000</td>\n",
              "      <td>20.000000</td>\n",
              "      <td>0.0</td>\n",
              "      <td>0.0</td>\n",
              "      <td>...</td>\n",
              "      <td>0.000000</td>\n",
              "      <td>0.000000</td>\n",
              "      <td>0.000000</td>\n",
              "      <td>0.000000</td>\n",
              "      <td>3.000000</td>\n",
              "      <td>0.000000</td>\n",
              "      <td>0.000000</td>\n",
              "      <td>0.000000</td>\n",
              "      <td>0.000000</td>\n",
              "      <td>0.000000</td>\n",
              "    </tr>\n",
              "    <tr>\n",
              "      <th>25%</th>\n",
              "      <td>3.000000</td>\n",
              "      <td>0.000000</td>\n",
              "      <td>0.000000</td>\n",
              "      <td>0.000000</td>\n",
              "      <td>0.000000</td>\n",
              "      <td>4.763367</td>\n",
              "      <td>29.000000</td>\n",
              "      <td>34.000000</td>\n",
              "      <td>0.0</td>\n",
              "      <td>0.0</td>\n",
              "      <td>...</td>\n",
              "      <td>0.000000</td>\n",
              "      <td>0.000000</td>\n",
              "      <td>0.000000</td>\n",
              "      <td>1.000000</td>\n",
              "      <td>5.640557</td>\n",
              "      <td>0.000000</td>\n",
              "      <td>0.000000</td>\n",
              "      <td>0.000000</td>\n",
              "      <td>0.000000</td>\n",
              "      <td>0.000000</td>\n",
              "    </tr>\n",
              "    <tr>\n",
              "      <th>50%</th>\n",
              "      <td>7.000000</td>\n",
              "      <td>1.000000</td>\n",
              "      <td>0.000000</td>\n",
              "      <td>0.000000</td>\n",
              "      <td>0.000000</td>\n",
              "      <td>4.899456</td>\n",
              "      <td>35.000000</td>\n",
              "      <td>42.000000</td>\n",
              "      <td>0.0</td>\n",
              "      <td>0.0</td>\n",
              "      <td>...</td>\n",
              "      <td>0.000000</td>\n",
              "      <td>0.000000</td>\n",
              "      <td>0.000000</td>\n",
              "      <td>2.000000</td>\n",
              "      <td>7.478060</td>\n",
              "      <td>1.000000</td>\n",
              "      <td>0.000000</td>\n",
              "      <td>0.000000</td>\n",
              "      <td>0.000000</td>\n",
              "      <td>0.000000</td>\n",
              "    </tr>\n",
              "    <tr>\n",
              "      <th>75%</th>\n",
              "      <td>10.000000</td>\n",
              "      <td>1.000000</td>\n",
              "      <td>1.000000</td>\n",
              "      <td>1.000000</td>\n",
              "      <td>1.000000</td>\n",
              "      <td>5.033677</td>\n",
              "      <td>40.000000</td>\n",
              "      <td>49.000000</td>\n",
              "      <td>0.0</td>\n",
              "      <td>0.0</td>\n",
              "      <td>...</td>\n",
              "      <td>0.000000</td>\n",
              "      <td>1.000000</td>\n",
              "      <td>1.000000</td>\n",
              "      <td>3.000000</td>\n",
              "      <td>9.287531</td>\n",
              "      <td>1.000000</td>\n",
              "      <td>1.000000</td>\n",
              "      <td>1.000000</td>\n",
              "      <td>1.000000</td>\n",
              "      <td>1.000000</td>\n",
              "    </tr>\n",
              "    <tr>\n",
              "      <th>max</th>\n",
              "      <td>14.000000</td>\n",
              "      <td>1.000000</td>\n",
              "      <td>1.000000</td>\n",
              "      <td>1.000000</td>\n",
              "      <td>1.000000</td>\n",
              "      <td>5.609829</td>\n",
              "      <td>51.000000</td>\n",
              "      <td>64.000000</td>\n",
              "      <td>0.0</td>\n",
              "      <td>0.0</td>\n",
              "      <td>...</td>\n",
              "      <td>1.000000</td>\n",
              "      <td>1.000000</td>\n",
              "      <td>1.000000</td>\n",
              "      <td>4.000000</td>\n",
              "      <td>12.000000</td>\n",
              "      <td>1.000000</td>\n",
              "      <td>1.000000</td>\n",
              "      <td>1.000000</td>\n",
              "      <td>1.000000</td>\n",
              "      <td>1.000000</td>\n",
              "    </tr>\n",
              "  </tbody>\n",
              "</table>\n",
              "<p>8 rows × 28 columns</p>\n",
              "</div>\n",
              "      <button class=\"colab-df-convert\" onclick=\"convertToInteractive('df-3031e6d2-220b-44c8-8569-48162c213f55')\"\n",
              "              title=\"Convert this dataframe to an interactive table.\"\n",
              "              style=\"display:none;\">\n",
              "        \n",
              "  <svg xmlns=\"http://www.w3.org/2000/svg\" height=\"24px\"viewBox=\"0 0 24 24\"\n",
              "       width=\"24px\">\n",
              "    <path d=\"M0 0h24v24H0V0z\" fill=\"none\"/>\n",
              "    <path d=\"M18.56 5.44l.94 2.06.94-2.06 2.06-.94-2.06-.94-.94-2.06-.94 2.06-2.06.94zm-11 1L8.5 8.5l.94-2.06 2.06-.94-2.06-.94L8.5 2.5l-.94 2.06-2.06.94zm10 10l.94 2.06.94-2.06 2.06-.94-2.06-.94-.94-2.06-.94 2.06-2.06.94z\"/><path d=\"M17.41 7.96l-1.37-1.37c-.4-.4-.92-.59-1.43-.59-.52 0-1.04.2-1.43.59L10.3 9.45l-7.72 7.72c-.78.78-.78 2.05 0 2.83L4 21.41c.39.39.9.59 1.41.59.51 0 1.02-.2 1.41-.59l7.78-7.78 2.81-2.81c.8-.78.8-2.07 0-2.86zM5.41 20L4 18.59l7.72-7.72 1.47 1.35L5.41 20z\"/>\n",
              "  </svg>\n",
              "      </button>\n",
              "      \n",
              "  <style>\n",
              "    .colab-df-container {\n",
              "      display:flex;\n",
              "      flex-wrap:wrap;\n",
              "      gap: 12px;\n",
              "    }\n",
              "\n",
              "    .colab-df-convert {\n",
              "      background-color: #E8F0FE;\n",
              "      border: none;\n",
              "      border-radius: 50%;\n",
              "      cursor: pointer;\n",
              "      display: none;\n",
              "      fill: #1967D2;\n",
              "      height: 32px;\n",
              "      padding: 0 0 0 0;\n",
              "      width: 32px;\n",
              "    }\n",
              "\n",
              "    .colab-df-convert:hover {\n",
              "      background-color: #E2EBFA;\n",
              "      box-shadow: 0px 1px 2px rgba(60, 64, 67, 0.3), 0px 1px 3px 1px rgba(60, 64, 67, 0.15);\n",
              "      fill: #174EA6;\n",
              "    }\n",
              "\n",
              "    [theme=dark] .colab-df-convert {\n",
              "      background-color: #3B4455;\n",
              "      fill: #D2E3FC;\n",
              "    }\n",
              "\n",
              "    [theme=dark] .colab-df-convert:hover {\n",
              "      background-color: #434B5C;\n",
              "      box-shadow: 0px 1px 3px 1px rgba(0, 0, 0, 0.15);\n",
              "      filter: drop-shadow(0px 1px 2px rgba(0, 0, 0, 0.3));\n",
              "      fill: #FFFFFF;\n",
              "    }\n",
              "  </style>\n",
              "\n",
              "      <script>\n",
              "        const buttonEl =\n",
              "          document.querySelector('#df-3031e6d2-220b-44c8-8569-48162c213f55 button.colab-df-convert');\n",
              "        buttonEl.style.display =\n",
              "          google.colab.kernel.accessAllowed ? 'block' : 'none';\n",
              "\n",
              "        async function convertToInteractive(key) {\n",
              "          const element = document.querySelector('#df-3031e6d2-220b-44c8-8569-48162c213f55');\n",
              "          const dataTable =\n",
              "            await google.colab.kernel.invokeFunction('convertToInteractive',\n",
              "                                                     [key], {});\n",
              "          if (!dataTable) return;\n",
              "\n",
              "          const docLinkHtml = 'Like what you see? Visit the ' +\n",
              "            '<a target=\"_blank\" href=https://colab.research.google.com/notebooks/data_table.ipynb>data table notebook</a>'\n",
              "            + ' to learn more about interactive tables.';\n",
              "          element.innerHTML = '';\n",
              "          dataTable['output_type'] = 'display_data';\n",
              "          await google.colab.output.renderOutput(dataTable, element);\n",
              "          const docLink = document.createElement('div');\n",
              "          docLink.innerHTML = docLinkHtml;\n",
              "          element.appendChild(docLink);\n",
              "        }\n",
              "      </script>\n",
              "    </div>\n",
              "  </div>\n",
              "  "
            ]
          },
          "metadata": {},
          "execution_count": 16
        }
      ]
    },
    {
      "cell_type": "markdown",
      "source": [
        "Counting the different genetic disorder"
      ],
      "metadata": {
        "id": "8OIjMInzYFX0"
      }
    },
    {
      "cell_type": "code",
      "source": [
        "train_data[\"Disorder Subclass\"].value_counts()"
      ],
      "metadata": {
        "colab": {
          "base_uri": "https://localhost:8080/"
        },
        "id": "eOHQRwInYKBy",
        "outputId": "dd886395-3685-47e0-eff9-9f1b82a72251"
      },
      "execution_count": null,
      "outputs": [
        {
          "output_type": "execute_result",
          "data": {
            "text/plain": [
              "Leigh syndrome                         5160\n",
              "Mitochondrial myopathy                 4405\n",
              "Cystic fibrosis                        3448\n",
              "Tay-Sachs                              2833\n",
              "Diabetes                               1817\n",
              "Hemochromatosis                        1355\n",
              "Leber's hereditary optic neuropathy     648\n",
              "Alzheimer's                             152\n",
              "Cancer                                   97\n",
              "Name: Disorder Subclass, dtype: int64"
            ]
          },
          "metadata": {},
          "execution_count": 17
        }
      ]
    },
    {
      "cell_type": "markdown",
      "source": [
        "We can see that Leigh syndrome has the most instances with 5160. While Cancer has the least with only 97."
      ],
      "metadata": {
        "id": "gDtIjcvE4bAC"
      }
    },
    {
      "cell_type": "markdown",
      "source": [
        "Creating new columns to represent if the patient had a certain genetic disorder."
      ],
      "metadata": {
        "id": "AnCBGSbb4lbd"
      }
    },
    {
      "cell_type": "code",
      "source": [
        "# If the patient has Leigh syndrome\n",
        "train_data['leigh_syndrome'] = np.where(train_data['Disorder Subclass'] == \"Leigh syndrome\", 1, 0)\n",
        "\n",
        "# If the patient has Mitochondrial myopathy\n",
        "train_data['mitochondrial_myopathy'] = np.where(train_data['Disorder Subclass'] == \"Mitochondrial myopathy\", 1, 0)\n",
        "\n",
        "# If the patient has Cystic fibrosis\n",
        "train_data['cystic_fibrosis'] = np.where(train_data['Disorder Subclass'] == \"Cystic fibrosis\", 1, 0)\n",
        "\n",
        "# If the patient has Tay-Sachs\n",
        "train_data['tay_sachs'] = np.where(train_data['Disorder Subclass'] == \"Tay-Sachs\", 1, 0)\n",
        "\n",
        "# If the patient has Diabetes\n",
        "train_data['diabetes'] = np.where(train_data['Disorder Subclass'] == \"Diabetes\", 1, 0)\n",
        "\n",
        "# If the patient has Hemochromatosis\n",
        "train_data['hemochromatosis'] = np.where(train_data['Disorder Subclass'] == \"Hemochromatosis\", 1, 0)\n",
        "\n",
        "# If the patient has Leber's herditary optic neuropathy\n",
        "train_data['lebers'] = np.where(train_data['Disorder Subclass'] == \"Leber's hereditary optic neuropathy\", 1, 0)\n",
        "\n",
        "# If the patient has Alzheimer's\n",
        "train_data['alzheimers'] = np.where(train_data['Disorder Subclass'] == \"Alzheimer's\", 1, 0)\n",
        "\n",
        "# If the patient has Cancer\n",
        "train_data['cancer'] = np.where(train_data['Disorder Subclass'] == \"Cancer\", 1, 0)\n"
      ],
      "metadata": {
        "id": "VRndYwvd5sVN"
      },
      "execution_count": null,
      "outputs": []
    },
    {
      "cell_type": "markdown",
      "source": [
        "Saving edited dataframe to a CSV file"
      ],
      "metadata": {
        "id": "URkh5U0PlUZu"
      }
    },
    {
      "cell_type": "code",
      "source": [
        "train_data.to_csv('train_data.csv')"
      ],
      "metadata": {
        "id": "NFiEzMeclYSX"
      },
      "execution_count": null,
      "outputs": []
    },
    {
      "cell_type": "markdown",
      "source": [
        "**Creating a Recommendation System using Collabortative Filtering with Binary Data**"
      ],
      "metadata": {
        "id": "0MrcQjouB-0q"
      }
    },
    {
      "cell_type": "markdown",
      "source": [
        "Steps from: https://medium.com/radon-dev/item-item-collaborative-filtering-with-binary-or-unary-data-e8f0b465b2c3"
      ],
      "metadata": {
        "id": "Z7KWLiXyGvTv"
      }
    },
    {
      "cell_type": "markdown",
      "source": [
        "We will use an item-item collaborative filter recommendation system since our focus is being able to predict the diseases by what symptoms and variables are most similar to them, compared to a user-item recommendation system."
      ],
      "metadata": {
        "id": "NbxZTMx2fqne"
      }
    },
    {
      "cell_type": "markdown",
      "source": [
        "Creating a new data frame with just binary variables."
      ],
      "metadata": {
        "id": "bXiRHnrzB78M"
      }
    },
    {
      "cell_type": "code",
      "source": [
        "df = train_data[[\"Maternal gene\", \"Genes in mother's side\",\n",
        "          \"Inherited from father\", \"Paternal gene\",\n",
        "          \"Birth asphyxia\", \n",
        "          \"Folic acid details (peri-conceptional)\",\n",
        "          \"H/O serious maternal illness\", \n",
        "          \"H/O radiation exposure (x-ray)\",\n",
        "          \"H/O substance abuse\", \"Assisted conception IVF/ART\",\n",
        "          \"History of anomalies in previous pregnancies\",\n",
        "          \"Autopsy shows birth defect (if applicable)\",\n",
        "          \"Test 1\", \"Test 2\", \"Test 3\", \"Test 4\", \"Test 5\",\n",
        "          \"Symptom 1\", \"Symptom 2\", \"Symptom 3\", \"Symptom 4\", \"Symptom 5\",\n",
        "          \"leigh_syndrome\", \"mitochondrial_myopathy\", \"cystic_fibrosis\", \"tay_sachs\",\n",
        "          \"diabetes\", \"hemochromatosis\", \"lebers\", \"alzheimers\", \"cancer\"]].copy()\n"
      ],
      "metadata": {
        "id": "xnQgNwLUDynv"
      },
      "execution_count": null,
      "outputs": []
    },
    {
      "cell_type": "markdown",
      "source": [
        "Importing cosine_similarity and sparse libraries"
      ],
      "metadata": {
        "id": "pQ-FImCXFywt"
      }
    },
    {
      "cell_type": "code",
      "source": [
        "from sklearn.metrics.pairwise import cosine_similarity\n",
        "from scipy import sparse"
      ],
      "metadata": {
        "id": "kBPs1R3iFw-i"
      },
      "execution_count": null,
      "outputs": []
    },
    {
      "cell_type": "markdown",
      "source": [
        "**Item-Item Calculations**"
      ],
      "metadata": {
        "id": "yRk1rAdJF_ud"
      }
    },
    {
      "cell_type": "markdown",
      "source": [
        "Normalizing the user vectors to unit vectors"
      ],
      "metadata": {
        "id": "yfLcwOPZGLZl"
      }
    },
    {
      "cell_type": "code",
      "source": [
        "# magnitude = sqrt(x2 + y2 + z2 + ...)\n",
        "magnitude = np.sqrt(np.square(df).sum(axis=1))\n",
        "\n",
        "# unit vector = (x/ magnitude, y/magnitude, z/magnitude, ...)\n",
        "df = df.divide(magnitude, axis='index')"
      ],
      "metadata": {
        "id": "UbsayAZDGAY8"
      },
      "execution_count": null,
      "outputs": []
    },
    {
      "cell_type": "markdown",
      "source": [
        "Function to calculate the column-wise cosine similarity for a spare matrix and return a new dataframe matrix with the similarities. \n"
      ],
      "metadata": {
        "id": "qd4VWfzcG8x8"
      }
    },
    {
      "cell_type": "code",
      "source": [
        "def calculate_sim(df):\n",
        "  df_sparse = sparse.csr_matrix(df) # Dealing with the sparse data, CSR is to compress the sparse rows.\n",
        "  similarities = cosine_similarity(df_sparse.transpose())\n",
        "  sim = pd.DataFrame(data=similarities, index = df.columns, columns= df.columns)\n",
        "  return sim"
      ],
      "metadata": {
        "id": "ZhNoElhMHG69"
      },
      "execution_count": null,
      "outputs": []
    },
    {
      "cell_type": "markdown",
      "source": [
        "Creating a similarity matrix"
      ],
      "metadata": {
        "id": "_Gu7ZWLVIA3q"
      }
    },
    {
      "cell_type": "code",
      "source": [
        "df_matrix = calculate_sim(df)\n",
        "\n",
        "df_matrix\n"
      ],
      "metadata": {
        "id": "4hd4E4kHIDR2",
        "colab": {
          "base_uri": "https://localhost:8080/",
          "height": 1000
        },
        "outputId": "575c87bf-41e1-49b4-8746-1a0c71f366ef"
      },
      "execution_count": null,
      "outputs": [
        {
          "output_type": "execute_result",
          "data": {
            "text/plain": [
              "                                              Maternal gene  \\\n",
              "Maternal gene                                      1.000000   \n",
              "Genes in mother's side                             0.544954   \n",
              "Inherited from father                              0.408035   \n",
              "Paternal gene                                      0.431565   \n",
              "Birth asphyxia                                     0.313005   \n",
              "Folic acid details (peri-conceptional)             0.443936   \n",
              "H/O serious maternal illness                       0.441118   \n",
              "H/O radiation exposure (x-ray)                     0.306848   \n",
              "H/O substance abuse                                0.302404   \n",
              "Assisted conception IVF/ART                        0.433301   \n",
              "History of anomalies in previous pregnancies       0.448408   \n",
              "Autopsy shows birth defect (if applicable)         0.250035   \n",
              "Test 1                                             0.000000   \n",
              "Test 2                                             0.000000   \n",
              "Test 3                                             0.000000   \n",
              "Test 4                                             0.636860   \n",
              "Test 5                                             0.000000   \n",
              "Symptom 1                                          0.481260   \n",
              "Symptom 2                                          0.463955   \n",
              "Symptom 3                                          0.463160   \n",
              "Symptom 4                                          0.441392   \n",
              "Symptom 5                                          0.427997   \n",
              "leigh_syndrome                                     0.351247   \n",
              "mitochondrial_myopathy                             0.294685   \n",
              "cystic_fibrosis                                    0.312431   \n",
              "tay_sachs                                          0.224881   \n",
              "diabetes                                           0.235604   \n",
              "hemochromatosis                                    0.140833   \n",
              "lebers                                             0.147631   \n",
              "alzheimers                                         0.073429   \n",
              "cancer                                             0.021371   \n",
              "\n",
              "                                              Genes in mother's side  \\\n",
              "Maternal gene                                               0.544954   \n",
              "Genes in mother's side                                      1.000000   \n",
              "Inherited from father                                       0.455306   \n",
              "Paternal gene                                               0.468736   \n",
              "Birth asphyxia                                              0.349362   \n",
              "Folic acid details (peri-conceptional)                      0.495236   \n",
              "H/O serious maternal illness                                0.486044   \n",
              "H/O radiation exposure (x-ray)                              0.339181   \n",
              "H/O substance abuse                                         0.347767   \n",
              "Assisted conception IVF/ART                                 0.492372   \n",
              "History of anomalies in previous pregnancies                0.497369   \n",
              "Autopsy shows birth defect (if applicable)                  0.283141   \n",
              "Test 1                                                      0.000000   \n",
              "Test 2                                                      0.000000   \n",
              "Test 3                                                      0.000000   \n",
              "Test 4                                                      0.709699   \n",
              "Test 5                                                      0.000000   \n",
              "Symptom 1                                                   0.530149   \n",
              "Symptom 2                                                   0.513749   \n",
              "Symptom 3                                                   0.511770   \n",
              "Symptom 4                                                   0.490200   \n",
              "Symptom 5                                                   0.471463   \n",
              "leigh_syndrome                                              0.385431   \n",
              "mitochondrial_myopathy                                      0.336859   \n",
              "cystic_fibrosis                                             0.347553   \n",
              "tay_sachs                                                   0.254621   \n",
              "diabetes                                                    0.266190   \n",
              "hemochromatosis                                             0.156987   \n",
              "lebers                                                      0.161596   \n",
              "alzheimers                                                  0.085705   \n",
              "cancer                                                      0.033303   \n",
              "\n",
              "                                              Inherited from father  \\\n",
              "Maternal gene                                              0.408035   \n",
              "Genes in mother's side                                     0.455306   \n",
              "Inherited from father                                      1.000000   \n",
              "Paternal gene                                              0.439668   \n",
              "Birth asphyxia                                             0.278515   \n",
              "Folic acid details (peri-conceptional)                     0.393258   \n",
              "H/O serious maternal illness                               0.388960   \n",
              "H/O radiation exposure (x-ray)                             0.274305   \n",
              "H/O substance abuse                                        0.279321   \n",
              "Assisted conception IVF/ART                                0.386820   \n",
              "History of anomalies in previous pregnancies               0.391191   \n",
              "Autopsy shows birth defect (if applicable)                 0.226675   \n",
              "Test 1                                                     0.000000   \n",
              "Test 2                                                     0.000000   \n",
              "Test 3                                                     0.000000   \n",
              "Test 4                                                     0.566420   \n",
              "Test 5                                                     0.000000   \n",
              "Symptom 1                                                  0.423952   \n",
              "Symptom 2                                                  0.414527   \n",
              "Symptom 3                                                  0.411379   \n",
              "Symptom 4                                                  0.391318   \n",
              "Symptom 5                                                  0.384088   \n",
              "leigh_syndrome                                             0.317376   \n",
              "mitochondrial_myopathy                                     0.259842   \n",
              "cystic_fibrosis                                            0.291578   \n",
              "tay_sachs                                                  0.180661   \n",
              "diabetes                                                   0.233789   \n",
              "hemochromatosis                                            0.113730   \n",
              "lebers                                                     0.141806   \n",
              "alzheimers                                                 0.079112   \n",
              "cancer                                                     0.012929   \n",
              "\n",
              "                                              Paternal gene  Birth asphyxia  \\\n",
              "Maternal gene                                      0.431565        0.313005   \n",
              "Genes in mother's side                             0.468736        0.349362   \n",
              "Inherited from father                              0.439668        0.278515   \n",
              "Paternal gene                                      1.000000        0.290778   \n",
              "Birth asphyxia                                     0.290778        1.000000   \n",
              "Folic acid details (peri-conceptional)             0.419432        0.306895   \n",
              "H/O serious maternal illness                       0.411178        0.307389   \n",
              "H/O radiation exposure (x-ray)                     0.286643        0.214844   \n",
              "H/O substance abuse                                0.289867        0.207855   \n",
              "Assisted conception IVF/ART                        0.410081        0.301196   \n",
              "History of anomalies in previous pregnancies       0.414254        0.308977   \n",
              "Autopsy shows birth defect (if applicable)         0.239718        0.172444   \n",
              "Test 1                                             0.000000        0.000000   \n",
              "Test 2                                             0.000000        0.000000   \n",
              "Test 3                                             0.000000        0.000000   \n",
              "Test 4                                             0.596954        0.438344   \n",
              "Test 5                                             0.000000        0.000000   \n",
              "Symptom 1                                          0.452369        0.332301   \n",
              "Symptom 2                                          0.434048        0.319708   \n",
              "Symptom 3                                          0.420652        0.314809   \n",
              "Symptom 4                                          0.414621        0.304213   \n",
              "Symptom 5                                          0.397869        0.285232   \n",
              "leigh_syndrome                                     0.323275        0.223461   \n",
              "mitochondrial_myopathy                             0.276435        0.229873   \n",
              "cystic_fibrosis                                    0.302784        0.175800   \n",
              "tay_sachs                                          0.215191        0.187163   \n",
              "diabetes                                           0.225567        0.129177   \n",
              "hemochromatosis                                    0.132811        0.130664   \n",
              "lebers                                             0.150531        0.073345   \n",
              "alzheimers                                         0.080418        0.034934   \n",
              "cancer                                             0.019098        0.043379   \n",
              "\n",
              "                                              Folic acid details (peri-conceptional)  \\\n",
              "Maternal gene                                                               0.443936   \n",
              "Genes in mother's side                                                      0.495236   \n",
              "Inherited from father                                                       0.393258   \n",
              "Paternal gene                                                               0.419432   \n",
              "Birth asphyxia                                                              0.306895   \n",
              "Folic acid details (peri-conceptional)                                      1.000000   \n",
              "H/O serious maternal illness                                                0.424220   \n",
              "H/O radiation exposure (x-ray)                                              0.296805   \n",
              "H/O substance abuse                                                         0.292076   \n",
              "Assisted conception IVF/ART                                                 0.419156   \n",
              "History of anomalies in previous pregnancies                                0.435046   \n",
              "Autopsy shows birth defect (if applicable)                                  0.247276   \n",
              "Test 1                                                                      0.000000   \n",
              "Test 2                                                                      0.000000   \n",
              "Test 3                                                                      0.000000   \n",
              "Test 4                                                                      0.618908   \n",
              "Test 5                                                                      0.000000   \n",
              "Symptom 1                                                                   0.458356   \n",
              "Symptom 2                                                                   0.445554   \n",
              "Symptom 3                                                                   0.444842   \n",
              "Symptom 4                                                                   0.428070   \n",
              "Symptom 5                                                                   0.418309   \n",
              "leigh_syndrome                                                              0.328070   \n",
              "mitochondrial_myopathy                                                      0.316817   \n",
              "cystic_fibrosis                                                             0.255116   \n",
              "tay_sachs                                                                   0.263376   \n",
              "diabetes                                                                    0.180631   \n",
              "hemochromatosis                                                             0.184548   \n",
              "lebers                                                                      0.111223   \n",
              "alzheimers                                                                  0.043378   \n",
              "cancer                                                                      0.050234   \n",
              "\n",
              "                                              H/O serious maternal illness  \\\n",
              "Maternal gene                                                     0.441118   \n",
              "Genes in mother's side                                            0.486044   \n",
              "Inherited from father                                             0.388960   \n",
              "Paternal gene                                                     0.411178   \n",
              "Birth asphyxia                                                    0.307389   \n",
              "Folic acid details (peri-conceptional)                            0.424220   \n",
              "H/O serious maternal illness                                      1.000000   \n",
              "H/O radiation exposure (x-ray)                                    0.303305   \n",
              "H/O substance abuse                                               0.294501   \n",
              "Assisted conception IVF/ART                                       0.422245   \n",
              "History of anomalies in previous pregnancies                      0.428133   \n",
              "Autopsy shows birth defect (if applicable)                        0.239689   \n",
              "Test 1                                                            0.000000   \n",
              "Test 2                                                            0.000000   \n",
              "Test 3                                                            0.000000   \n",
              "Test 4                                                            0.618001   \n",
              "Test 5                                                            0.000000   \n",
              "Symptom 1                                                         0.471513   \n",
              "Symptom 2                                                         0.444831   \n",
              "Symptom 3                                                         0.440269   \n",
              "Symptom 4                                                         0.426221   \n",
              "Symptom 5                                                         0.407473   \n",
              "leigh_syndrome                                                    0.328906   \n",
              "mitochondrial_myopathy                                            0.312678   \n",
              "cystic_fibrosis                                                   0.253620   \n",
              "tay_sachs                                                         0.261685   \n",
              "diabetes                                                          0.177741   \n",
              "hemochromatosis                                                   0.179651   \n",
              "lebers                                                            0.102999   \n",
              "alzheimers                                                        0.045901   \n",
              "cancer                                                            0.049024   \n",
              "\n",
              "                                              H/O radiation exposure (x-ray)  \\\n",
              "Maternal gene                                                       0.306848   \n",
              "Genes in mother's side                                              0.339181   \n",
              "Inherited from father                                               0.274305   \n",
              "Paternal gene                                                       0.286643   \n",
              "Birth asphyxia                                                      0.214844   \n",
              "Folic acid details (peri-conceptional)                              0.296805   \n",
              "H/O serious maternal illness                                        0.303305   \n",
              "H/O radiation exposure (x-ray)                                      1.000000   \n",
              "H/O substance abuse                                                 0.208747   \n",
              "Assisted conception IVF/ART                                         0.299256   \n",
              "History of anomalies in previous pregnancies                        0.304853   \n",
              "Autopsy shows birth defect (if applicable)                          0.170224   \n",
              "Test 1                                                              0.000000   \n",
              "Test 2                                                              0.000000   \n",
              "Test 3                                                              0.000000   \n",
              "Test 4                                                              0.433034   \n",
              "Test 5                                                              0.000000   \n",
              "Symptom 1                                                           0.326068   \n",
              "Symptom 2                                                           0.308670   \n",
              "Symptom 3                                                           0.304486   \n",
              "Symptom 4                                                           0.289205   \n",
              "Symptom 5                                                           0.282393   \n",
              "leigh_syndrome                                                      0.226083   \n",
              "mitochondrial_myopathy                                              0.221035   \n",
              "cystic_fibrosis                                                     0.168557   \n",
              "tay_sachs                                                           0.179374   \n",
              "diabetes                                                            0.127565   \n",
              "hemochromatosis                                                     0.142589   \n",
              "lebers                                                              0.071947   \n",
              "alzheimers                                                          0.036027   \n",
              "cancer                                                              0.043806   \n",
              "\n",
              "                                              H/O substance abuse  \\\n",
              "Maternal gene                                            0.302404   \n",
              "Genes in mother's side                                   0.347767   \n",
              "Inherited from father                                    0.279321   \n",
              "Paternal gene                                            0.289867   \n",
              "Birth asphyxia                                           0.207855   \n",
              "Folic acid details (peri-conceptional)                   0.292076   \n",
              "H/O serious maternal illness                             0.294501   \n",
              "H/O radiation exposure (x-ray)                           0.208747   \n",
              "H/O substance abuse                                      1.000000   \n",
              "Assisted conception IVF/ART                              0.294138   \n",
              "History of anomalies in previous pregnancies             0.295919   \n",
              "Autopsy shows birth defect (if applicable)               0.172551   \n",
              "Test 1                                                   0.000000   \n",
              "Test 2                                                   0.000000   \n",
              "Test 3                                                   0.000000   \n",
              "Test 4                                                   0.431033   \n",
              "Test 5                                                   0.000000   \n",
              "Symptom 1                                                0.328506   \n",
              "Symptom 2                                                0.318424   \n",
              "Symptom 3                                                0.310029   \n",
              "Symptom 4                                                0.298997   \n",
              "Symptom 5                                                0.276900   \n",
              "leigh_syndrome                                           0.226747   \n",
              "mitochondrial_myopathy                                   0.220406   \n",
              "cystic_fibrosis                                          0.185479   \n",
              "tay_sachs                                                0.180445   \n",
              "diabetes                                                 0.124145   \n",
              "hemochromatosis                                          0.121758   \n",
              "lebers                                                   0.072746   \n",
              "alzheimers                                               0.032450   \n",
              "cancer                                                   0.051550   \n",
              "\n",
              "                                              Assisted conception IVF/ART  \\\n",
              "Maternal gene                                                    0.433301   \n",
              "Genes in mother's side                                           0.492372   \n",
              "Inherited from father                                            0.386820   \n",
              "Paternal gene                                                    0.410081   \n",
              "Birth asphyxia                                                   0.301196   \n",
              "Folic acid details (peri-conceptional)                           0.419156   \n",
              "H/O serious maternal illness                                     0.422245   \n",
              "H/O radiation exposure (x-ray)                                   0.299256   \n",
              "H/O substance abuse                                              0.294138   \n",
              "Assisted conception IVF/ART                                      1.000000   \n",
              "History of anomalies in previous pregnancies                     0.434797   \n",
              "Autopsy shows birth defect (if applicable)                       0.245571   \n",
              "Test 1                                                           0.000000   \n",
              "Test 2                                                           0.000000   \n",
              "Test 3                                                           0.000000   \n",
              "Test 4                                                           0.618701   \n",
              "Test 5                                                           0.000000   \n",
              "Symptom 1                                                        0.468062   \n",
              "Symptom 2                                                        0.451196   \n",
              "Symptom 3                                                        0.443365   \n",
              "Symptom 4                                                        0.430996   \n",
              "Symptom 5                                                        0.407796   \n",
              "leigh_syndrome                                                   0.333825   \n",
              "mitochondrial_myopathy                                           0.305088   \n",
              "cystic_fibrosis                                                  0.260000   \n",
              "tay_sachs                                                        0.264062   \n",
              "diabetes                                                         0.180004   \n",
              "hemochromatosis                                                  0.184406   \n",
              "lebers                                                           0.100028   \n",
              "alzheimers                                                       0.051000   \n",
              "cancer                                                           0.050598   \n",
              "\n",
              "                                              ...  Symptom 5  leigh_syndrome  \\\n",
              "Maternal gene                                 ...   0.427997        0.351247   \n",
              "Genes in mother's side                        ...   0.471463        0.385431   \n",
              "Inherited from father                         ...   0.384088        0.317376   \n",
              "Paternal gene                                 ...   0.397869        0.323275   \n",
              "Birth asphyxia                                ...   0.285232        0.223461   \n",
              "Folic acid details (peri-conceptional)        ...   0.418309        0.328070   \n",
              "H/O serious maternal illness                  ...   0.407473        0.328906   \n",
              "H/O radiation exposure (x-ray)                ...   0.282393        0.226083   \n",
              "H/O substance abuse                           ...   0.276900        0.226747   \n",
              "Assisted conception IVF/ART                   ...   0.407796        0.333825   \n",
              "History of anomalies in previous pregnancies  ...   0.407203        0.332078   \n",
              "Autopsy shows birth defect (if applicable)    ...   0.233119        0.184757   \n",
              "Test 1                                        ...   0.000000        0.000000   \n",
              "Test 2                                        ...   0.000000        0.000000   \n",
              "Test 3                                        ...   0.000000        0.000000   \n",
              "Test 4                                        ...   0.587030        0.475404   \n",
              "Test 5                                        ...   0.000000        0.000000   \n",
              "Symptom 1                                     ...   0.450571        0.361922   \n",
              "Symptom 2                                     ...   0.428759        0.360921   \n",
              "Symptom 3                                     ...   0.429734        0.360833   \n",
              "Symptom 4                                     ...   0.421961        0.339652   \n",
              "Symptom 5                                     ...   1.000000        0.328427   \n",
              "leigh_syndrome                                ...   0.328427        1.000000   \n",
              "mitochondrial_myopathy                        ...   0.226206        0.000000   \n",
              "cystic_fibrosis                               ...   0.400131        0.000000   \n",
              "tay_sachs                                     ...   0.116446        0.000000   \n",
              "diabetes                                      ...   0.326222        0.000000   \n",
              "hemochromatosis                               ...   0.046039        0.000000   \n",
              "lebers                                        ...   0.212385        0.000000   \n",
              "alzheimers                                    ...   0.107727        0.000000   \n",
              "cancer                                        ...   0.001262        0.000000   \n",
              "\n",
              "                                              mitochondrial_myopathy  \\\n",
              "Maternal gene                                               0.294685   \n",
              "Genes in mother's side                                      0.336859   \n",
              "Inherited from father                                       0.259842   \n",
              "Paternal gene                                               0.276435   \n",
              "Birth asphyxia                                              0.229873   \n",
              "Folic acid details (peri-conceptional)                      0.316817   \n",
              "H/O serious maternal illness                                0.312678   \n",
              "H/O radiation exposure (x-ray)                              0.221035   \n",
              "H/O substance abuse                                         0.220406   \n",
              "Assisted conception IVF/ART                                 0.305088   \n",
              "History of anomalies in previous pregnancies                0.315198   \n",
              "Autopsy shows birth defect (if applicable)                  0.179121   \n",
              "Test 1                                                      0.000000   \n",
              "Test 2                                                      0.000000   \n",
              "Test 3                                                      0.000000   \n",
              "Test 4                                                      0.453863   \n",
              "Test 5                                                      0.000000   \n",
              "Symptom 1                                                   0.320359   \n",
              "Symptom 2                                                   0.292340   \n",
              "Symptom 3                                                   0.267124   \n",
              "Symptom 4                                                   0.263258   \n",
              "Symptom 5                                                   0.226206   \n",
              "leigh_syndrome                                              0.000000   \n",
              "mitochondrial_myopathy                                      1.000000   \n",
              "cystic_fibrosis                                             0.000000   \n",
              "tay_sachs                                                   0.000000   \n",
              "diabetes                                                    0.000000   \n",
              "hemochromatosis                                             0.000000   \n",
              "lebers                                                      0.000000   \n",
              "alzheimers                                                  0.000000   \n",
              "cancer                                                      0.000000   \n",
              "\n",
              "                                              cystic_fibrosis  tay_sachs  \\\n",
              "Maternal gene                                        0.312431   0.224881   \n",
              "Genes in mother's side                               0.347553   0.254621   \n",
              "Inherited from father                                0.291578   0.180661   \n",
              "Paternal gene                                        0.302784   0.215191   \n",
              "Birth asphyxia                                       0.175800   0.187163   \n",
              "Folic acid details (peri-conceptional)               0.255116   0.263376   \n",
              "H/O serious maternal illness                         0.253620   0.261685   \n",
              "H/O radiation exposure (x-ray)                       0.168557   0.179374   \n",
              "H/O substance abuse                                  0.185479   0.180445   \n",
              "Assisted conception IVF/ART                          0.260000   0.264062   \n",
              "History of anomalies in previous pregnancies         0.255753   0.261094   \n",
              "Autopsy shows birth defect (if applicable)           0.135494   0.153454   \n",
              "Test 1                                               0.000000   0.000000   \n",
              "Test 2                                               0.000000   0.000000   \n",
              "Test 3                                               0.000000   0.000000   \n",
              "Test 4                                               0.369959   0.381479   \n",
              "Test 5                                               0.000000   0.000000   \n",
              "Symptom 1                                            0.343312   0.231336   \n",
              "Symptom 2                                            0.351498   0.193431   \n",
              "Symptom 3                                            0.365101   0.189858   \n",
              "Symptom 4                                            0.381251   0.151559   \n",
              "Symptom 5                                            0.400131   0.116446   \n",
              "leigh_syndrome                                       0.000000   0.000000   \n",
              "mitochondrial_myopathy                               0.000000   0.000000   \n",
              "cystic_fibrosis                                      1.000000   0.000000   \n",
              "tay_sachs                                            0.000000   1.000000   \n",
              "diabetes                                             0.000000   0.000000   \n",
              "hemochromatosis                                      0.000000   0.000000   \n",
              "lebers                                               0.000000   0.000000   \n",
              "alzheimers                                           0.000000   0.000000   \n",
              "cancer                                               0.000000   0.000000   \n",
              "\n",
              "                                              diabetes  hemochromatosis  \\\n",
              "Maternal gene                                 0.235604         0.140833   \n",
              "Genes in mother's side                        0.266190         0.156987   \n",
              "Inherited from father                         0.233789         0.113730   \n",
              "Paternal gene                                 0.225567         0.132811   \n",
              "Birth asphyxia                                0.129177         0.130664   \n",
              "Folic acid details (peri-conceptional)        0.180631         0.184548   \n",
              "H/O serious maternal illness                  0.177741         0.179651   \n",
              "H/O radiation exposure (x-ray)                0.127565         0.142589   \n",
              "H/O substance abuse                           0.124145         0.121758   \n",
              "Assisted conception IVF/ART                   0.180004         0.184406   \n",
              "History of anomalies in previous pregnancies  0.174241         0.185508   \n",
              "Autopsy shows birth defect (if applicable)    0.109811         0.107085   \n",
              "Test 1                                        0.000000         0.000000   \n",
              "Test 2                                        0.000000         0.000000   \n",
              "Test 3                                        0.000000         0.000000   \n",
              "Test 4                                        0.256679         0.277900   \n",
              "Test 5                                        0.000000         0.000000   \n",
              "Symptom 1                                     0.260932         0.142691   \n",
              "Symptom 2                                     0.273577         0.110874   \n",
              "Symptom 3                                     0.297604         0.090657   \n",
              "Symptom 4                                     0.300202         0.067026   \n",
              "Symptom 5                                     0.326222         0.046039   \n",
              "leigh_syndrome                                0.000000         0.000000   \n",
              "mitochondrial_myopathy                        0.000000         0.000000   \n",
              "cystic_fibrosis                               0.000000         0.000000   \n",
              "tay_sachs                                     0.000000         0.000000   \n",
              "diabetes                                      1.000000         0.000000   \n",
              "hemochromatosis                               0.000000         1.000000   \n",
              "lebers                                        0.000000         0.000000   \n",
              "alzheimers                                    0.000000         0.000000   \n",
              "cancer                                        0.000000         0.000000   \n",
              "\n",
              "                                                lebers  alzheimers    cancer  \n",
              "Maternal gene                                 0.147631    0.073429  0.021371  \n",
              "Genes in mother's side                        0.161596    0.085705  0.033303  \n",
              "Inherited from father                         0.141806    0.079112  0.012929  \n",
              "Paternal gene                                 0.150531    0.080418  0.019098  \n",
              "Birth asphyxia                                0.073345    0.034934  0.043379  \n",
              "Folic acid details (peri-conceptional)        0.111223    0.043378  0.050234  \n",
              "H/O serious maternal illness                  0.102999    0.045901  0.049024  \n",
              "H/O radiation exposure (x-ray)                0.071947    0.036027  0.043806  \n",
              "H/O substance abuse                           0.072746    0.032450  0.051550  \n",
              "Assisted conception IVF/ART                   0.100028    0.051000  0.050598  \n",
              "History of anomalies in previous pregnancies  0.110020    0.044119  0.051171  \n",
              "Autopsy shows birth defect (if applicable)    0.066910    0.022471  0.018807  \n",
              "Test 1                                        0.000000    0.000000  0.000000  \n",
              "Test 2                                        0.000000    0.000000  0.000000  \n",
              "Test 3                                        0.000000    0.000000  0.000000  \n",
              "Test 4                                        0.147559    0.071565  0.082640  \n",
              "Test 5                                        0.000000    0.000000  0.000000  \n",
              "Symptom 1                                     0.166691    0.085060  0.018531  \n",
              "Symptom 2                                     0.178209    0.090605  0.009793  \n",
              "Symptom 3                                     0.188436    0.100828  0.009426  \n",
              "Symptom 4                                     0.200106    0.102340  0.002659  \n",
              "Symptom 5                                     0.212385    0.107727  0.001262  \n",
              "leigh_syndrome                                0.000000    0.000000  0.000000  \n",
              "mitochondrial_myopathy                        0.000000    0.000000  0.000000  \n",
              "cystic_fibrosis                               0.000000    0.000000  0.000000  \n",
              "tay_sachs                                     0.000000    0.000000  0.000000  \n",
              "diabetes                                      0.000000    0.000000  0.000000  \n",
              "hemochromatosis                               0.000000    0.000000  0.000000  \n",
              "lebers                                        1.000000    0.000000  0.000000  \n",
              "alzheimers                                    0.000000    1.000000  0.000000  \n",
              "cancer                                        0.000000    0.000000  1.000000  \n",
              "\n",
              "[31 rows x 31 columns]"
            ],
            "text/html": [
              "\n",
              "  <div id=\"df-14d899d0-7ca5-4edb-9ffa-1aa5ed828136\">\n",
              "    <div class=\"colab-df-container\">\n",
              "      <div>\n",
              "<style scoped>\n",
              "    .dataframe tbody tr th:only-of-type {\n",
              "        vertical-align: middle;\n",
              "    }\n",
              "\n",
              "    .dataframe tbody tr th {\n",
              "        vertical-align: top;\n",
              "    }\n",
              "\n",
              "    .dataframe thead th {\n",
              "        text-align: right;\n",
              "    }\n",
              "</style>\n",
              "<table border=\"1\" class=\"dataframe\">\n",
              "  <thead>\n",
              "    <tr style=\"text-align: right;\">\n",
              "      <th></th>\n",
              "      <th>Maternal gene</th>\n",
              "      <th>Genes in mother's side</th>\n",
              "      <th>Inherited from father</th>\n",
              "      <th>Paternal gene</th>\n",
              "      <th>Birth asphyxia</th>\n",
              "      <th>Folic acid details (peri-conceptional)</th>\n",
              "      <th>H/O serious maternal illness</th>\n",
              "      <th>H/O radiation exposure (x-ray)</th>\n",
              "      <th>H/O substance abuse</th>\n",
              "      <th>Assisted conception IVF/ART</th>\n",
              "      <th>...</th>\n",
              "      <th>Symptom 5</th>\n",
              "      <th>leigh_syndrome</th>\n",
              "      <th>mitochondrial_myopathy</th>\n",
              "      <th>cystic_fibrosis</th>\n",
              "      <th>tay_sachs</th>\n",
              "      <th>diabetes</th>\n",
              "      <th>hemochromatosis</th>\n",
              "      <th>lebers</th>\n",
              "      <th>alzheimers</th>\n",
              "      <th>cancer</th>\n",
              "    </tr>\n",
              "  </thead>\n",
              "  <tbody>\n",
              "    <tr>\n",
              "      <th>Maternal gene</th>\n",
              "      <td>1.000000</td>\n",
              "      <td>0.544954</td>\n",
              "      <td>0.408035</td>\n",
              "      <td>0.431565</td>\n",
              "      <td>0.313005</td>\n",
              "      <td>0.443936</td>\n",
              "      <td>0.441118</td>\n",
              "      <td>0.306848</td>\n",
              "      <td>0.302404</td>\n",
              "      <td>0.433301</td>\n",
              "      <td>...</td>\n",
              "      <td>0.427997</td>\n",
              "      <td>0.351247</td>\n",
              "      <td>0.294685</td>\n",
              "      <td>0.312431</td>\n",
              "      <td>0.224881</td>\n",
              "      <td>0.235604</td>\n",
              "      <td>0.140833</td>\n",
              "      <td>0.147631</td>\n",
              "      <td>0.073429</td>\n",
              "      <td>0.021371</td>\n",
              "    </tr>\n",
              "    <tr>\n",
              "      <th>Genes in mother's side</th>\n",
              "      <td>0.544954</td>\n",
              "      <td>1.000000</td>\n",
              "      <td>0.455306</td>\n",
              "      <td>0.468736</td>\n",
              "      <td>0.349362</td>\n",
              "      <td>0.495236</td>\n",
              "      <td>0.486044</td>\n",
              "      <td>0.339181</td>\n",
              "      <td>0.347767</td>\n",
              "      <td>0.492372</td>\n",
              "      <td>...</td>\n",
              "      <td>0.471463</td>\n",
              "      <td>0.385431</td>\n",
              "      <td>0.336859</td>\n",
              "      <td>0.347553</td>\n",
              "      <td>0.254621</td>\n",
              "      <td>0.266190</td>\n",
              "      <td>0.156987</td>\n",
              "      <td>0.161596</td>\n",
              "      <td>0.085705</td>\n",
              "      <td>0.033303</td>\n",
              "    </tr>\n",
              "    <tr>\n",
              "      <th>Inherited from father</th>\n",
              "      <td>0.408035</td>\n",
              "      <td>0.455306</td>\n",
              "      <td>1.000000</td>\n",
              "      <td>0.439668</td>\n",
              "      <td>0.278515</td>\n",
              "      <td>0.393258</td>\n",
              "      <td>0.388960</td>\n",
              "      <td>0.274305</td>\n",
              "      <td>0.279321</td>\n",
              "      <td>0.386820</td>\n",
              "      <td>...</td>\n",
              "      <td>0.384088</td>\n",
              "      <td>0.317376</td>\n",
              "      <td>0.259842</td>\n",
              "      <td>0.291578</td>\n",
              "      <td>0.180661</td>\n",
              "      <td>0.233789</td>\n",
              "      <td>0.113730</td>\n",
              "      <td>0.141806</td>\n",
              "      <td>0.079112</td>\n",
              "      <td>0.012929</td>\n",
              "    </tr>\n",
              "    <tr>\n",
              "      <th>Paternal gene</th>\n",
              "      <td>0.431565</td>\n",
              "      <td>0.468736</td>\n",
              "      <td>0.439668</td>\n",
              "      <td>1.000000</td>\n",
              "      <td>0.290778</td>\n",
              "      <td>0.419432</td>\n",
              "      <td>0.411178</td>\n",
              "      <td>0.286643</td>\n",
              "      <td>0.289867</td>\n",
              "      <td>0.410081</td>\n",
              "      <td>...</td>\n",
              "      <td>0.397869</td>\n",
              "      <td>0.323275</td>\n",
              "      <td>0.276435</td>\n",
              "      <td>0.302784</td>\n",
              "      <td>0.215191</td>\n",
              "      <td>0.225567</td>\n",
              "      <td>0.132811</td>\n",
              "      <td>0.150531</td>\n",
              "      <td>0.080418</td>\n",
              "      <td>0.019098</td>\n",
              "    </tr>\n",
              "    <tr>\n",
              "      <th>Birth asphyxia</th>\n",
              "      <td>0.313005</td>\n",
              "      <td>0.349362</td>\n",
              "      <td>0.278515</td>\n",
              "      <td>0.290778</td>\n",
              "      <td>1.000000</td>\n",
              "      <td>0.306895</td>\n",
              "      <td>0.307389</td>\n",
              "      <td>0.214844</td>\n",
              "      <td>0.207855</td>\n",
              "      <td>0.301196</td>\n",
              "      <td>...</td>\n",
              "      <td>0.285232</td>\n",
              "      <td>0.223461</td>\n",
              "      <td>0.229873</td>\n",
              "      <td>0.175800</td>\n",
              "      <td>0.187163</td>\n",
              "      <td>0.129177</td>\n",
              "      <td>0.130664</td>\n",
              "      <td>0.073345</td>\n",
              "      <td>0.034934</td>\n",
              "      <td>0.043379</td>\n",
              "    </tr>\n",
              "    <tr>\n",
              "      <th>Folic acid details (peri-conceptional)</th>\n",
              "      <td>0.443936</td>\n",
              "      <td>0.495236</td>\n",
              "      <td>0.393258</td>\n",
              "      <td>0.419432</td>\n",
              "      <td>0.306895</td>\n",
              "      <td>1.000000</td>\n",
              "      <td>0.424220</td>\n",
              "      <td>0.296805</td>\n",
              "      <td>0.292076</td>\n",
              "      <td>0.419156</td>\n",
              "      <td>...</td>\n",
              "      <td>0.418309</td>\n",
              "      <td>0.328070</td>\n",
              "      <td>0.316817</td>\n",
              "      <td>0.255116</td>\n",
              "      <td>0.263376</td>\n",
              "      <td>0.180631</td>\n",
              "      <td>0.184548</td>\n",
              "      <td>0.111223</td>\n",
              "      <td>0.043378</td>\n",
              "      <td>0.050234</td>\n",
              "    </tr>\n",
              "    <tr>\n",
              "      <th>H/O serious maternal illness</th>\n",
              "      <td>0.441118</td>\n",
              "      <td>0.486044</td>\n",
              "      <td>0.388960</td>\n",
              "      <td>0.411178</td>\n",
              "      <td>0.307389</td>\n",
              "      <td>0.424220</td>\n",
              "      <td>1.000000</td>\n",
              "      <td>0.303305</td>\n",
              "      <td>0.294501</td>\n",
              "      <td>0.422245</td>\n",
              "      <td>...</td>\n",
              "      <td>0.407473</td>\n",
              "      <td>0.328906</td>\n",
              "      <td>0.312678</td>\n",
              "      <td>0.253620</td>\n",
              "      <td>0.261685</td>\n",
              "      <td>0.177741</td>\n",
              "      <td>0.179651</td>\n",
              "      <td>0.102999</td>\n",
              "      <td>0.045901</td>\n",
              "      <td>0.049024</td>\n",
              "    </tr>\n",
              "    <tr>\n",
              "      <th>H/O radiation exposure (x-ray)</th>\n",
              "      <td>0.306848</td>\n",
              "      <td>0.339181</td>\n",
              "      <td>0.274305</td>\n",
              "      <td>0.286643</td>\n",
              "      <td>0.214844</td>\n",
              "      <td>0.296805</td>\n",
              "      <td>0.303305</td>\n",
              "      <td>1.000000</td>\n",
              "      <td>0.208747</td>\n",
              "      <td>0.299256</td>\n",
              "      <td>...</td>\n",
              "      <td>0.282393</td>\n",
              "      <td>0.226083</td>\n",
              "      <td>0.221035</td>\n",
              "      <td>0.168557</td>\n",
              "      <td>0.179374</td>\n",
              "      <td>0.127565</td>\n",
              "      <td>0.142589</td>\n",
              "      <td>0.071947</td>\n",
              "      <td>0.036027</td>\n",
              "      <td>0.043806</td>\n",
              "    </tr>\n",
              "    <tr>\n",
              "      <th>H/O substance abuse</th>\n",
              "      <td>0.302404</td>\n",
              "      <td>0.347767</td>\n",
              "      <td>0.279321</td>\n",
              "      <td>0.289867</td>\n",
              "      <td>0.207855</td>\n",
              "      <td>0.292076</td>\n",
              "      <td>0.294501</td>\n",
              "      <td>0.208747</td>\n",
              "      <td>1.000000</td>\n",
              "      <td>0.294138</td>\n",
              "      <td>...</td>\n",
              "      <td>0.276900</td>\n",
              "      <td>0.226747</td>\n",
              "      <td>0.220406</td>\n",
              "      <td>0.185479</td>\n",
              "      <td>0.180445</td>\n",
              "      <td>0.124145</td>\n",
              "      <td>0.121758</td>\n",
              "      <td>0.072746</td>\n",
              "      <td>0.032450</td>\n",
              "      <td>0.051550</td>\n",
              "    </tr>\n",
              "    <tr>\n",
              "      <th>Assisted conception IVF/ART</th>\n",
              "      <td>0.433301</td>\n",
              "      <td>0.492372</td>\n",
              "      <td>0.386820</td>\n",
              "      <td>0.410081</td>\n",
              "      <td>0.301196</td>\n",
              "      <td>0.419156</td>\n",
              "      <td>0.422245</td>\n",
              "      <td>0.299256</td>\n",
              "      <td>0.294138</td>\n",
              "      <td>1.000000</td>\n",
              "      <td>...</td>\n",
              "      <td>0.407796</td>\n",
              "      <td>0.333825</td>\n",
              "      <td>0.305088</td>\n",
              "      <td>0.260000</td>\n",
              "      <td>0.264062</td>\n",
              "      <td>0.180004</td>\n",
              "      <td>0.184406</td>\n",
              "      <td>0.100028</td>\n",
              "      <td>0.051000</td>\n",
              "      <td>0.050598</td>\n",
              "    </tr>\n",
              "    <tr>\n",
              "      <th>History of anomalies in previous pregnancies</th>\n",
              "      <td>0.448408</td>\n",
              "      <td>0.497369</td>\n",
              "      <td>0.391191</td>\n",
              "      <td>0.414254</td>\n",
              "      <td>0.308977</td>\n",
              "      <td>0.435046</td>\n",
              "      <td>0.428133</td>\n",
              "      <td>0.304853</td>\n",
              "      <td>0.295919</td>\n",
              "      <td>0.434797</td>\n",
              "      <td>...</td>\n",
              "      <td>0.407203</td>\n",
              "      <td>0.332078</td>\n",
              "      <td>0.315198</td>\n",
              "      <td>0.255753</td>\n",
              "      <td>0.261094</td>\n",
              "      <td>0.174241</td>\n",
              "      <td>0.185508</td>\n",
              "      <td>0.110020</td>\n",
              "      <td>0.044119</td>\n",
              "      <td>0.051171</td>\n",
              "    </tr>\n",
              "    <tr>\n",
              "      <th>Autopsy shows birth defect (if applicable)</th>\n",
              "      <td>0.250035</td>\n",
              "      <td>0.283141</td>\n",
              "      <td>0.226675</td>\n",
              "      <td>0.239718</td>\n",
              "      <td>0.172444</td>\n",
              "      <td>0.247276</td>\n",
              "      <td>0.239689</td>\n",
              "      <td>0.170224</td>\n",
              "      <td>0.172551</td>\n",
              "      <td>0.245571</td>\n",
              "      <td>...</td>\n",
              "      <td>0.233119</td>\n",
              "      <td>0.184757</td>\n",
              "      <td>0.179121</td>\n",
              "      <td>0.135494</td>\n",
              "      <td>0.153454</td>\n",
              "      <td>0.109811</td>\n",
              "      <td>0.107085</td>\n",
              "      <td>0.066910</td>\n",
              "      <td>0.022471</td>\n",
              "      <td>0.018807</td>\n",
              "    </tr>\n",
              "    <tr>\n",
              "      <th>Test 1</th>\n",
              "      <td>0.000000</td>\n",
              "      <td>0.000000</td>\n",
              "      <td>0.000000</td>\n",
              "      <td>0.000000</td>\n",
              "      <td>0.000000</td>\n",
              "      <td>0.000000</td>\n",
              "      <td>0.000000</td>\n",
              "      <td>0.000000</td>\n",
              "      <td>0.000000</td>\n",
              "      <td>0.000000</td>\n",
              "      <td>...</td>\n",
              "      <td>0.000000</td>\n",
              "      <td>0.000000</td>\n",
              "      <td>0.000000</td>\n",
              "      <td>0.000000</td>\n",
              "      <td>0.000000</td>\n",
              "      <td>0.000000</td>\n",
              "      <td>0.000000</td>\n",
              "      <td>0.000000</td>\n",
              "      <td>0.000000</td>\n",
              "      <td>0.000000</td>\n",
              "    </tr>\n",
              "    <tr>\n",
              "      <th>Test 2</th>\n",
              "      <td>0.000000</td>\n",
              "      <td>0.000000</td>\n",
              "      <td>0.000000</td>\n",
              "      <td>0.000000</td>\n",
              "      <td>0.000000</td>\n",
              "      <td>0.000000</td>\n",
              "      <td>0.000000</td>\n",
              "      <td>0.000000</td>\n",
              "      <td>0.000000</td>\n",
              "      <td>0.000000</td>\n",
              "      <td>...</td>\n",
              "      <td>0.000000</td>\n",
              "      <td>0.000000</td>\n",
              "      <td>0.000000</td>\n",
              "      <td>0.000000</td>\n",
              "      <td>0.000000</td>\n",
              "      <td>0.000000</td>\n",
              "      <td>0.000000</td>\n",
              "      <td>0.000000</td>\n",
              "      <td>0.000000</td>\n",
              "      <td>0.000000</td>\n",
              "    </tr>\n",
              "    <tr>\n",
              "      <th>Test 3</th>\n",
              "      <td>0.000000</td>\n",
              "      <td>0.000000</td>\n",
              "      <td>0.000000</td>\n",
              "      <td>0.000000</td>\n",
              "      <td>0.000000</td>\n",
              "      <td>0.000000</td>\n",
              "      <td>0.000000</td>\n",
              "      <td>0.000000</td>\n",
              "      <td>0.000000</td>\n",
              "      <td>0.000000</td>\n",
              "      <td>...</td>\n",
              "      <td>0.000000</td>\n",
              "      <td>0.000000</td>\n",
              "      <td>0.000000</td>\n",
              "      <td>0.000000</td>\n",
              "      <td>0.000000</td>\n",
              "      <td>0.000000</td>\n",
              "      <td>0.000000</td>\n",
              "      <td>0.000000</td>\n",
              "      <td>0.000000</td>\n",
              "      <td>0.000000</td>\n",
              "    </tr>\n",
              "    <tr>\n",
              "      <th>Test 4</th>\n",
              "      <td>0.636860</td>\n",
              "      <td>0.709699</td>\n",
              "      <td>0.566420</td>\n",
              "      <td>0.596954</td>\n",
              "      <td>0.438344</td>\n",
              "      <td>0.618908</td>\n",
              "      <td>0.618001</td>\n",
              "      <td>0.433034</td>\n",
              "      <td>0.431033</td>\n",
              "      <td>0.618701</td>\n",
              "      <td>...</td>\n",
              "      <td>0.587030</td>\n",
              "      <td>0.475404</td>\n",
              "      <td>0.453863</td>\n",
              "      <td>0.369959</td>\n",
              "      <td>0.381479</td>\n",
              "      <td>0.256679</td>\n",
              "      <td>0.277900</td>\n",
              "      <td>0.147559</td>\n",
              "      <td>0.071565</td>\n",
              "      <td>0.082640</td>\n",
              "    </tr>\n",
              "    <tr>\n",
              "      <th>Test 5</th>\n",
              "      <td>0.000000</td>\n",
              "      <td>0.000000</td>\n",
              "      <td>0.000000</td>\n",
              "      <td>0.000000</td>\n",
              "      <td>0.000000</td>\n",
              "      <td>0.000000</td>\n",
              "      <td>0.000000</td>\n",
              "      <td>0.000000</td>\n",
              "      <td>0.000000</td>\n",
              "      <td>0.000000</td>\n",
              "      <td>...</td>\n",
              "      <td>0.000000</td>\n",
              "      <td>0.000000</td>\n",
              "      <td>0.000000</td>\n",
              "      <td>0.000000</td>\n",
              "      <td>0.000000</td>\n",
              "      <td>0.000000</td>\n",
              "      <td>0.000000</td>\n",
              "      <td>0.000000</td>\n",
              "      <td>0.000000</td>\n",
              "      <td>0.000000</td>\n",
              "    </tr>\n",
              "    <tr>\n",
              "      <th>Symptom 1</th>\n",
              "      <td>0.481260</td>\n",
              "      <td>0.530149</td>\n",
              "      <td>0.423952</td>\n",
              "      <td>0.452369</td>\n",
              "      <td>0.332301</td>\n",
              "      <td>0.458356</td>\n",
              "      <td>0.471513</td>\n",
              "      <td>0.326068</td>\n",
              "      <td>0.328506</td>\n",
              "      <td>0.468062</td>\n",
              "      <td>...</td>\n",
              "      <td>0.450571</td>\n",
              "      <td>0.361922</td>\n",
              "      <td>0.320359</td>\n",
              "      <td>0.343312</td>\n",
              "      <td>0.231336</td>\n",
              "      <td>0.260932</td>\n",
              "      <td>0.142691</td>\n",
              "      <td>0.166691</td>\n",
              "      <td>0.085060</td>\n",
              "      <td>0.018531</td>\n",
              "    </tr>\n",
              "    <tr>\n",
              "      <th>Symptom 2</th>\n",
              "      <td>0.463955</td>\n",
              "      <td>0.513749</td>\n",
              "      <td>0.414527</td>\n",
              "      <td>0.434048</td>\n",
              "      <td>0.319708</td>\n",
              "      <td>0.445554</td>\n",
              "      <td>0.444831</td>\n",
              "      <td>0.308670</td>\n",
              "      <td>0.318424</td>\n",
              "      <td>0.451196</td>\n",
              "      <td>...</td>\n",
              "      <td>0.428759</td>\n",
              "      <td>0.360921</td>\n",
              "      <td>0.292340</td>\n",
              "      <td>0.351498</td>\n",
              "      <td>0.193431</td>\n",
              "      <td>0.273577</td>\n",
              "      <td>0.110874</td>\n",
              "      <td>0.178209</td>\n",
              "      <td>0.090605</td>\n",
              "      <td>0.009793</td>\n",
              "    </tr>\n",
              "    <tr>\n",
              "      <th>Symptom 3</th>\n",
              "      <td>0.463160</td>\n",
              "      <td>0.511770</td>\n",
              "      <td>0.411379</td>\n",
              "      <td>0.420652</td>\n",
              "      <td>0.314809</td>\n",
              "      <td>0.444842</td>\n",
              "      <td>0.440269</td>\n",
              "      <td>0.304486</td>\n",
              "      <td>0.310029</td>\n",
              "      <td>0.443365</td>\n",
              "      <td>...</td>\n",
              "      <td>0.429734</td>\n",
              "      <td>0.360833</td>\n",
              "      <td>0.267124</td>\n",
              "      <td>0.365101</td>\n",
              "      <td>0.189858</td>\n",
              "      <td>0.297604</td>\n",
              "      <td>0.090657</td>\n",
              "      <td>0.188436</td>\n",
              "      <td>0.100828</td>\n",
              "      <td>0.009426</td>\n",
              "    </tr>\n",
              "    <tr>\n",
              "      <th>Symptom 4</th>\n",
              "      <td>0.441392</td>\n",
              "      <td>0.490200</td>\n",
              "      <td>0.391318</td>\n",
              "      <td>0.414621</td>\n",
              "      <td>0.304213</td>\n",
              "      <td>0.428070</td>\n",
              "      <td>0.426221</td>\n",
              "      <td>0.289205</td>\n",
              "      <td>0.298997</td>\n",
              "      <td>0.430996</td>\n",
              "      <td>...</td>\n",
              "      <td>0.421961</td>\n",
              "      <td>0.339652</td>\n",
              "      <td>0.263258</td>\n",
              "      <td>0.381251</td>\n",
              "      <td>0.151559</td>\n",
              "      <td>0.300202</td>\n",
              "      <td>0.067026</td>\n",
              "      <td>0.200106</td>\n",
              "      <td>0.102340</td>\n",
              "      <td>0.002659</td>\n",
              "    </tr>\n",
              "    <tr>\n",
              "      <th>Symptom 5</th>\n",
              "      <td>0.427997</td>\n",
              "      <td>0.471463</td>\n",
              "      <td>0.384088</td>\n",
              "      <td>0.397869</td>\n",
              "      <td>0.285232</td>\n",
              "      <td>0.418309</td>\n",
              "      <td>0.407473</td>\n",
              "      <td>0.282393</td>\n",
              "      <td>0.276900</td>\n",
              "      <td>0.407796</td>\n",
              "      <td>...</td>\n",
              "      <td>1.000000</td>\n",
              "      <td>0.328427</td>\n",
              "      <td>0.226206</td>\n",
              "      <td>0.400131</td>\n",
              "      <td>0.116446</td>\n",
              "      <td>0.326222</td>\n",
              "      <td>0.046039</td>\n",
              "      <td>0.212385</td>\n",
              "      <td>0.107727</td>\n",
              "      <td>0.001262</td>\n",
              "    </tr>\n",
              "    <tr>\n",
              "      <th>leigh_syndrome</th>\n",
              "      <td>0.351247</td>\n",
              "      <td>0.385431</td>\n",
              "      <td>0.317376</td>\n",
              "      <td>0.323275</td>\n",
              "      <td>0.223461</td>\n",
              "      <td>0.328070</td>\n",
              "      <td>0.328906</td>\n",
              "      <td>0.226083</td>\n",
              "      <td>0.226747</td>\n",
              "      <td>0.333825</td>\n",
              "      <td>...</td>\n",
              "      <td>0.328427</td>\n",
              "      <td>1.000000</td>\n",
              "      <td>0.000000</td>\n",
              "      <td>0.000000</td>\n",
              "      <td>0.000000</td>\n",
              "      <td>0.000000</td>\n",
              "      <td>0.000000</td>\n",
              "      <td>0.000000</td>\n",
              "      <td>0.000000</td>\n",
              "      <td>0.000000</td>\n",
              "    </tr>\n",
              "    <tr>\n",
              "      <th>mitochondrial_myopathy</th>\n",
              "      <td>0.294685</td>\n",
              "      <td>0.336859</td>\n",
              "      <td>0.259842</td>\n",
              "      <td>0.276435</td>\n",
              "      <td>0.229873</td>\n",
              "      <td>0.316817</td>\n",
              "      <td>0.312678</td>\n",
              "      <td>0.221035</td>\n",
              "      <td>0.220406</td>\n",
              "      <td>0.305088</td>\n",
              "      <td>...</td>\n",
              "      <td>0.226206</td>\n",
              "      <td>0.000000</td>\n",
              "      <td>1.000000</td>\n",
              "      <td>0.000000</td>\n",
              "      <td>0.000000</td>\n",
              "      <td>0.000000</td>\n",
              "      <td>0.000000</td>\n",
              "      <td>0.000000</td>\n",
              "      <td>0.000000</td>\n",
              "      <td>0.000000</td>\n",
              "    </tr>\n",
              "    <tr>\n",
              "      <th>cystic_fibrosis</th>\n",
              "      <td>0.312431</td>\n",
              "      <td>0.347553</td>\n",
              "      <td>0.291578</td>\n",
              "      <td>0.302784</td>\n",
              "      <td>0.175800</td>\n",
              "      <td>0.255116</td>\n",
              "      <td>0.253620</td>\n",
              "      <td>0.168557</td>\n",
              "      <td>0.185479</td>\n",
              "      <td>0.260000</td>\n",
              "      <td>...</td>\n",
              "      <td>0.400131</td>\n",
              "      <td>0.000000</td>\n",
              "      <td>0.000000</td>\n",
              "      <td>1.000000</td>\n",
              "      <td>0.000000</td>\n",
              "      <td>0.000000</td>\n",
              "      <td>0.000000</td>\n",
              "      <td>0.000000</td>\n",
              "      <td>0.000000</td>\n",
              "      <td>0.000000</td>\n",
              "    </tr>\n",
              "    <tr>\n",
              "      <th>tay_sachs</th>\n",
              "      <td>0.224881</td>\n",
              "      <td>0.254621</td>\n",
              "      <td>0.180661</td>\n",
              "      <td>0.215191</td>\n",
              "      <td>0.187163</td>\n",
              "      <td>0.263376</td>\n",
              "      <td>0.261685</td>\n",
              "      <td>0.179374</td>\n",
              "      <td>0.180445</td>\n",
              "      <td>0.264062</td>\n",
              "      <td>...</td>\n",
              "      <td>0.116446</td>\n",
              "      <td>0.000000</td>\n",
              "      <td>0.000000</td>\n",
              "      <td>0.000000</td>\n",
              "      <td>1.000000</td>\n",
              "      <td>0.000000</td>\n",
              "      <td>0.000000</td>\n",
              "      <td>0.000000</td>\n",
              "      <td>0.000000</td>\n",
              "      <td>0.000000</td>\n",
              "    </tr>\n",
              "    <tr>\n",
              "      <th>diabetes</th>\n",
              "      <td>0.235604</td>\n",
              "      <td>0.266190</td>\n",
              "      <td>0.233789</td>\n",
              "      <td>0.225567</td>\n",
              "      <td>0.129177</td>\n",
              "      <td>0.180631</td>\n",
              "      <td>0.177741</td>\n",
              "      <td>0.127565</td>\n",
              "      <td>0.124145</td>\n",
              "      <td>0.180004</td>\n",
              "      <td>...</td>\n",
              "      <td>0.326222</td>\n",
              "      <td>0.000000</td>\n",
              "      <td>0.000000</td>\n",
              "      <td>0.000000</td>\n",
              "      <td>0.000000</td>\n",
              "      <td>1.000000</td>\n",
              "      <td>0.000000</td>\n",
              "      <td>0.000000</td>\n",
              "      <td>0.000000</td>\n",
              "      <td>0.000000</td>\n",
              "    </tr>\n",
              "    <tr>\n",
              "      <th>hemochromatosis</th>\n",
              "      <td>0.140833</td>\n",
              "      <td>0.156987</td>\n",
              "      <td>0.113730</td>\n",
              "      <td>0.132811</td>\n",
              "      <td>0.130664</td>\n",
              "      <td>0.184548</td>\n",
              "      <td>0.179651</td>\n",
              "      <td>0.142589</td>\n",
              "      <td>0.121758</td>\n",
              "      <td>0.184406</td>\n",
              "      <td>...</td>\n",
              "      <td>0.046039</td>\n",
              "      <td>0.000000</td>\n",
              "      <td>0.000000</td>\n",
              "      <td>0.000000</td>\n",
              "      <td>0.000000</td>\n",
              "      <td>0.000000</td>\n",
              "      <td>1.000000</td>\n",
              "      <td>0.000000</td>\n",
              "      <td>0.000000</td>\n",
              "      <td>0.000000</td>\n",
              "    </tr>\n",
              "    <tr>\n",
              "      <th>lebers</th>\n",
              "      <td>0.147631</td>\n",
              "      <td>0.161596</td>\n",
              "      <td>0.141806</td>\n",
              "      <td>0.150531</td>\n",
              "      <td>0.073345</td>\n",
              "      <td>0.111223</td>\n",
              "      <td>0.102999</td>\n",
              "      <td>0.071947</td>\n",
              "      <td>0.072746</td>\n",
              "      <td>0.100028</td>\n",
              "      <td>...</td>\n",
              "      <td>0.212385</td>\n",
              "      <td>0.000000</td>\n",
              "      <td>0.000000</td>\n",
              "      <td>0.000000</td>\n",
              "      <td>0.000000</td>\n",
              "      <td>0.000000</td>\n",
              "      <td>0.000000</td>\n",
              "      <td>1.000000</td>\n",
              "      <td>0.000000</td>\n",
              "      <td>0.000000</td>\n",
              "    </tr>\n",
              "    <tr>\n",
              "      <th>alzheimers</th>\n",
              "      <td>0.073429</td>\n",
              "      <td>0.085705</td>\n",
              "      <td>0.079112</td>\n",
              "      <td>0.080418</td>\n",
              "      <td>0.034934</td>\n",
              "      <td>0.043378</td>\n",
              "      <td>0.045901</td>\n",
              "      <td>0.036027</td>\n",
              "      <td>0.032450</td>\n",
              "      <td>0.051000</td>\n",
              "      <td>...</td>\n",
              "      <td>0.107727</td>\n",
              "      <td>0.000000</td>\n",
              "      <td>0.000000</td>\n",
              "      <td>0.000000</td>\n",
              "      <td>0.000000</td>\n",
              "      <td>0.000000</td>\n",
              "      <td>0.000000</td>\n",
              "      <td>0.000000</td>\n",
              "      <td>1.000000</td>\n",
              "      <td>0.000000</td>\n",
              "    </tr>\n",
              "    <tr>\n",
              "      <th>cancer</th>\n",
              "      <td>0.021371</td>\n",
              "      <td>0.033303</td>\n",
              "      <td>0.012929</td>\n",
              "      <td>0.019098</td>\n",
              "      <td>0.043379</td>\n",
              "      <td>0.050234</td>\n",
              "      <td>0.049024</td>\n",
              "      <td>0.043806</td>\n",
              "      <td>0.051550</td>\n",
              "      <td>0.050598</td>\n",
              "      <td>...</td>\n",
              "      <td>0.001262</td>\n",
              "      <td>0.000000</td>\n",
              "      <td>0.000000</td>\n",
              "      <td>0.000000</td>\n",
              "      <td>0.000000</td>\n",
              "      <td>0.000000</td>\n",
              "      <td>0.000000</td>\n",
              "      <td>0.000000</td>\n",
              "      <td>0.000000</td>\n",
              "      <td>1.000000</td>\n",
              "    </tr>\n",
              "  </tbody>\n",
              "</table>\n",
              "<p>31 rows × 31 columns</p>\n",
              "</div>\n",
              "      <button class=\"colab-df-convert\" onclick=\"convertToInteractive('df-14d899d0-7ca5-4edb-9ffa-1aa5ed828136')\"\n",
              "              title=\"Convert this dataframe to an interactive table.\"\n",
              "              style=\"display:none;\">\n",
              "        \n",
              "  <svg xmlns=\"http://www.w3.org/2000/svg\" height=\"24px\"viewBox=\"0 0 24 24\"\n",
              "       width=\"24px\">\n",
              "    <path d=\"M0 0h24v24H0V0z\" fill=\"none\"/>\n",
              "    <path d=\"M18.56 5.44l.94 2.06.94-2.06 2.06-.94-2.06-.94-.94-2.06-.94 2.06-2.06.94zm-11 1L8.5 8.5l.94-2.06 2.06-.94-2.06-.94L8.5 2.5l-.94 2.06-2.06.94zm10 10l.94 2.06.94-2.06 2.06-.94-2.06-.94-.94-2.06-.94 2.06-2.06.94z\"/><path d=\"M17.41 7.96l-1.37-1.37c-.4-.4-.92-.59-1.43-.59-.52 0-1.04.2-1.43.59L10.3 9.45l-7.72 7.72c-.78.78-.78 2.05 0 2.83L4 21.41c.39.39.9.59 1.41.59.51 0 1.02-.2 1.41-.59l7.78-7.78 2.81-2.81c.8-.78.8-2.07 0-2.86zM5.41 20L4 18.59l7.72-7.72 1.47 1.35L5.41 20z\"/>\n",
              "  </svg>\n",
              "      </button>\n",
              "      \n",
              "  <style>\n",
              "    .colab-df-container {\n",
              "      display:flex;\n",
              "      flex-wrap:wrap;\n",
              "      gap: 12px;\n",
              "    }\n",
              "\n",
              "    .colab-df-convert {\n",
              "      background-color: #E8F0FE;\n",
              "      border: none;\n",
              "      border-radius: 50%;\n",
              "      cursor: pointer;\n",
              "      display: none;\n",
              "      fill: #1967D2;\n",
              "      height: 32px;\n",
              "      padding: 0 0 0 0;\n",
              "      width: 32px;\n",
              "    }\n",
              "\n",
              "    .colab-df-convert:hover {\n",
              "      background-color: #E2EBFA;\n",
              "      box-shadow: 0px 1px 2px rgba(60, 64, 67, 0.3), 0px 1px 3px 1px rgba(60, 64, 67, 0.15);\n",
              "      fill: #174EA6;\n",
              "    }\n",
              "\n",
              "    [theme=dark] .colab-df-convert {\n",
              "      background-color: #3B4455;\n",
              "      fill: #D2E3FC;\n",
              "    }\n",
              "\n",
              "    [theme=dark] .colab-df-convert:hover {\n",
              "      background-color: #434B5C;\n",
              "      box-shadow: 0px 1px 3px 1px rgba(0, 0, 0, 0.15);\n",
              "      filter: drop-shadow(0px 1px 2px rgba(0, 0, 0, 0.3));\n",
              "      fill: #FFFFFF;\n",
              "    }\n",
              "  </style>\n",
              "\n",
              "      <script>\n",
              "        const buttonEl =\n",
              "          document.querySelector('#df-14d899d0-7ca5-4edb-9ffa-1aa5ed828136 button.colab-df-convert');\n",
              "        buttonEl.style.display =\n",
              "          google.colab.kernel.accessAllowed ? 'block' : 'none';\n",
              "\n",
              "        async function convertToInteractive(key) {\n",
              "          const element = document.querySelector('#df-14d899d0-7ca5-4edb-9ffa-1aa5ed828136');\n",
              "          const dataTable =\n",
              "            await google.colab.kernel.invokeFunction('convertToInteractive',\n",
              "                                                     [key], {});\n",
              "          if (!dataTable) return;\n",
              "\n",
              "          const docLinkHtml = 'Like what you see? Visit the ' +\n",
              "            '<a target=\"_blank\" href=https://colab.research.google.com/notebooks/data_table.ipynb>data table notebook</a>'\n",
              "            + ' to learn more about interactive tables.';\n",
              "          element.innerHTML = '';\n",
              "          dataTable['output_type'] = 'display_data';\n",
              "          await google.colab.output.renderOutput(dataTable, element);\n",
              "          const docLink = document.createElement('div');\n",
              "          docLink.innerHTML = docLinkHtml;\n",
              "          element.appendChild(docLink);\n",
              "        }\n",
              "      </script>\n",
              "    </div>\n",
              "  </div>\n",
              "  "
            ]
          },
          "metadata": {},
          "execution_count": 24
        }
      ]
    },
    {
      "cell_type": "markdown",
      "source": [
        "We can see the top 5 variables most similar or related to each disease.\n",
        "\n",
        "We use 6 since the most similar will always be the variable we are looking at. "
      ],
      "metadata": {
        "id": "HgBexEFlJR79"
      }
    },
    {
      "cell_type": "markdown",
      "source": [
        "*Leigh Syndrome's Top 5 Most Similar Variables*"
      ],
      "metadata": {
        "id": "otbOZh0eJoKV"
      }
    },
    {
      "cell_type": "code",
      "source": [
        "df_matrix.loc['leigh_syndrome'].nlargest(6)"
      ],
      "metadata": {
        "colab": {
          "base_uri": "https://localhost:8080/"
        },
        "id": "JNxEhTuRJRni",
        "outputId": "49e3d92f-43fb-4e33-c5a2-edcda9944161"
      },
      "execution_count": null,
      "outputs": [
        {
          "output_type": "execute_result",
          "data": {
            "text/plain": [
              "leigh_syndrome            1.000000\n",
              "Test 4                    0.475404\n",
              "Genes in mother's side    0.385431\n",
              "Symptom 1                 0.361922\n",
              "Symptom 2                 0.360921\n",
              "Symptom 3                 0.360833\n",
              "Name: leigh_syndrome, dtype: float64"
            ]
          },
          "metadata": {},
          "execution_count": 25
        }
      ]
    },
    {
      "cell_type": "markdown",
      "source": [
        "We can see that Test 4, Genes in mother's side, Symptom 1, Symptom 3, and Sympton 2 are most related to Leigh Syndrome. So possibly if a patient had these results, they could be diagnosed with Leigh syndrome. \n",
        "\n",
        "Leigh syndrome can only be inherited through the mother, so it explains the importance of having \"genes in mother's side\" as an indicator (https://medlineplus.gov/genetics/condition/leigh-syndrome/#inheritance)."
      ],
      "metadata": {
        "id": "VxcWVEP4KAfD"
      }
    },
    {
      "cell_type": "markdown",
      "source": [
        "*Mitochondrial Myopathy's Top 5 Most Similar Variables*"
      ],
      "metadata": {
        "id": "wNTlulKtKfnf"
      }
    },
    {
      "cell_type": "code",
      "source": [
        "df_matrix.loc['mitochondrial_myopathy'].nlargest(6)"
      ],
      "metadata": {
        "colab": {
          "base_uri": "https://localhost:8080/"
        },
        "id": "a6tB5TVXKfJ6",
        "outputId": "2c7889c4-e8e1-4b35-be93-6aa908edcf00"
      },
      "execution_count": null,
      "outputs": [
        {
          "output_type": "execute_result",
          "data": {
            "text/plain": [
              "mitochondrial_myopathy                          1.000000\n",
              "Test 4                                          0.453863\n",
              "Genes in mother's side                          0.336859\n",
              "Symptom 1                                       0.320359\n",
              "Folic acid details (peri-conceptional)          0.316817\n",
              "History of anomalies in previous pregnancies    0.315198\n",
              "Name: mitochondrial_myopathy, dtype: float64"
            ]
          },
          "metadata": {},
          "execution_count": 26
        }
      ]
    },
    {
      "cell_type": "markdown",
      "source": [
        "Similar to Leigh syndrome, Mitochondrial myopathy is very similar to Test 4 and Genes in mother's side. Which makes sense since Leigh syndrome is a form of Mitochondrial myopathy (https://www.chop.edu/conditions-diseases/mitochondrial-myopathy#:~:text=Mitochondrial%20myopathies%20may%20be%20caused,found%20in%20cells'%20mitochondria).)\n",
        "\n",
        "Also both Leigh syndrome and Mitochondrial Myopathy are most often passed down through the mother, which supports \"Genes in mother's side\" being so prevalant in both diseases.\n"
      ],
      "metadata": {
        "id": "t7eE2lJULFvD"
      }
    },
    {
      "cell_type": "markdown",
      "source": [
        "*Cystic Fibrosis' Top 5 Most Similar Variables*"
      ],
      "metadata": {
        "id": "iLxjxxarMWjb"
      }
    },
    {
      "cell_type": "code",
      "source": [
        "df_matrix.loc['cystic_fibrosis'].nlargest(6)"
      ],
      "metadata": {
        "colab": {
          "base_uri": "https://localhost:8080/"
        },
        "id": "yB7rXBnBMo0-",
        "outputId": "8342ed93-a191-42de-a0eb-e77dc4447682"
      },
      "execution_count": null,
      "outputs": [
        {
          "output_type": "execute_result",
          "data": {
            "text/plain": [
              "cystic_fibrosis    1.000000\n",
              "Symptom 5          0.400131\n",
              "Symptom 4          0.381251\n",
              "Test 4             0.369959\n",
              "Symptom 3          0.365101\n",
              "Symptom 2          0.351498\n",
              "Name: cystic_fibrosis, dtype: float64"
            ]
          },
          "metadata": {},
          "execution_count": 27
        }
      ]
    },
    {
      "cell_type": "markdown",
      "source": [
        "With Cystic Fibrosis, we see that having the symptoms 2, 3, 4, and 5 and testing positive for test 4 could lead help lead to a diagnosis with a patient. Cystic Fibrosis impacts the lungs, pancreas, and other organs, there is very specific symptoms which could explain the high similarity rate (https://www.cff.org/intro-cf/about-cystic-fibrosis)."
      ],
      "metadata": {
        "id": "chw626G-M6Ww"
      }
    },
    {
      "cell_type": "markdown",
      "source": [
        "*Tay-Sachs' Top 5 Most Similar Variables*"
      ],
      "metadata": {
        "id": "syzhuEDYM8Ch"
      }
    },
    {
      "cell_type": "code",
      "source": [
        "df_matrix.loc['tay_sachs'].nlargest(6)"
      ],
      "metadata": {
        "colab": {
          "base_uri": "https://localhost:8080/"
        },
        "id": "V6lVhCAYNuav",
        "outputId": "ce90ef1e-f0ad-434b-b0ab-f390462d90b4"
      },
      "execution_count": null,
      "outputs": [
        {
          "output_type": "execute_result",
          "data": {
            "text/plain": [
              "tay_sachs                                       1.000000\n",
              "Test 4                                          0.381479\n",
              "Assisted conception IVF/ART                     0.264062\n",
              "Folic acid details (peri-conceptional)          0.263376\n",
              "H/O serious maternal illness                    0.261685\n",
              "History of anomalies in previous pregnancies    0.261094\n",
              "Name: tay_sachs, dtype: float64"
            ]
          },
          "metadata": {},
          "execution_count": 28
        }
      ]
    },
    {
      "cell_type": "markdown",
      "source": [
        "We see that having a positive test result with Test 4 could a good indicator if a patient has Tay Sachs.\n",
        "\n",
        "It is also interesting to see that it seems to relate more to events that happened while the patient was in the womb or being conceived. \n",
        "\n",
        "Tay-Sachs must be passed down through both parents, and can have a delayed onset of symptoms which may be why the test result and events of the pregnancy are more prevalent. (https://www.betterhealth.vic.gov.au/health/conditionsandtreatments/tay-sachs-disease)"
      ],
      "metadata": {
        "id": "aB-rjFlLN9_g"
      }
    },
    {
      "cell_type": "markdown",
      "source": [
        "*Diabetes' Top 5 Most Similar Variables*"
      ],
      "metadata": {
        "id": "0ws1fgEzPyB_"
      }
    },
    {
      "cell_type": "code",
      "source": [
        "df_matrix.loc['diabetes'].nlargest(6)"
      ],
      "metadata": {
        "colab": {
          "base_uri": "https://localhost:8080/"
        },
        "id": "1Cvz1CZsRrx5",
        "outputId": "77ecc1b6-b1a7-4d96-c6a0-884375a51acf"
      },
      "execution_count": null,
      "outputs": [
        {
          "output_type": "execute_result",
          "data": {
            "text/plain": [
              "diabetes                  1.000000\n",
              "Symptom 5                 0.326222\n",
              "Symptom 4                 0.300202\n",
              "Symptom 3                 0.297604\n",
              "Symptom 2                 0.273577\n",
              "Genes in mother's side    0.266190\n",
              "Name: diabetes, dtype: float64"
            ]
          },
          "metadata": {},
          "execution_count": 29
        }
      ]
    },
    {
      "cell_type": "markdown",
      "source": [
        "Symptoms 2, 3, 4, and 5 are important indicators when it comes to diagnosing diabetes.\n",
        "\n",
        "There isn't an exact known cause of childhood diabetes, genetics and family history do play a roll in a child's chances of developing diabetes, which could explain \"Genes in mother's side\". So it is important for patients and their parents to be aware of the symptoms of diabetes (https://www.mayoclinic.org/diseases-conditions/type-1-diabetes-in-children/symptoms-causes/syc-20355306)."
      ],
      "metadata": {
        "id": "KrZHJOAoR0Bc"
      }
    },
    {
      "cell_type": "markdown",
      "source": [
        "*Hemochromatosis' Top 5 Most Similar Variables*"
      ],
      "metadata": {
        "id": "2qmw-z6fSvqk"
      }
    },
    {
      "cell_type": "code",
      "source": [
        "df_matrix.loc['hemochromatosis'].nlargest(6)"
      ],
      "metadata": {
        "colab": {
          "base_uri": "https://localhost:8080/"
        },
        "id": "EYTd8NxOSvTF",
        "outputId": "9c8d7740-0014-40e5-9e7b-3bfc66e829c7"
      },
      "execution_count": null,
      "outputs": [
        {
          "output_type": "execute_result",
          "data": {
            "text/plain": [
              "hemochromatosis                                 1.000000\n",
              "Test 4                                          0.277900\n",
              "History of anomalies in previous pregnancies    0.185508\n",
              "Folic acid details (peri-conceptional)          0.184548\n",
              "Assisted conception IVF/ART                     0.184406\n",
              "H/O serious maternal illness                    0.179651\n",
              "Name: hemochromatosis, dtype: float64"
            ]
          },
          "metadata": {},
          "execution_count": 30
        }
      ]
    },
    {
      "cell_type": "markdown",
      "source": [
        "Test 4 seems to be the strongest indicator of Hemochromatosis. Usually, hemochromatosis doesn't develop until later in life and some people may never have symptoms of it at all, which could explain the small number of instances in the dataset (https://www.mayoclinic.org/diseases-conditions/hemochromatosis/symptoms-causes/syc-20351443). We also see more similarties to variables regarding previous pregnancy or events that could happen while the patient was in the womb. "
      ],
      "metadata": {
        "id": "2uwZPTBSS_-d"
      }
    },
    {
      "cell_type": "markdown",
      "source": [
        "*Leber's Top 5 Most Similar Variables*"
      ],
      "metadata": {
        "id": "vFqKTNlPS3Zq"
      }
    },
    {
      "cell_type": "code",
      "source": [
        "df_matrix.loc['lebers'].nlargest(6)"
      ],
      "metadata": {
        "colab": {
          "base_uri": "https://localhost:8080/"
        },
        "id": "gbJkkvmMTBew",
        "outputId": "0e3f456a-ec91-462d-fd67-fefa80dea241"
      },
      "execution_count": null,
      "outputs": [
        {
          "output_type": "execute_result",
          "data": {
            "text/plain": [
              "lebers       1.000000\n",
              "Symptom 5    0.212385\n",
              "Symptom 4    0.200106\n",
              "Symptom 3    0.188436\n",
              "Symptom 2    0.178209\n",
              "Symptom 1    0.166691\n",
              "Name: lebers, dtype: float64"
            ]
          },
          "metadata": {},
          "execution_count": 31
        }
      ]
    },
    {
      "cell_type": "markdown",
      "source": [
        "As we head into the diseases with the smallest amount of instances, we can see that the similarity numbers drop significantly compared to the other diseases with a higher amount of instances. \n",
        "\n",
        "In Leber's, symptoms 1, 2, 3, 4, and 5 have the most similarity, which is similar to diabetes. \n",
        "\n",
        "Leber's hereditary optic neuropathy is also a mitochondrial disease so it must be inherited through the mother. Usually onset of the disease is not until 15 years old which could explain the small number of instances in the dataset. (https://my.clevelandclinic.org/health/diseases/15620-leber-hereditary-optic-neuropathy-sudden-vision-loss)"
      ],
      "metadata": {
        "id": "nwNJSSDOTB0u"
      }
    },
    {
      "cell_type": "markdown",
      "source": [
        "*Alzheimer's Top 5 Most Similar Variables*"
      ],
      "metadata": {
        "id": "fPmKFVvtTCsG"
      }
    },
    {
      "cell_type": "code",
      "source": [
        "df_matrix.loc['alzheimers'].nlargest(6)"
      ],
      "metadata": {
        "colab": {
          "base_uri": "https://localhost:8080/"
        },
        "id": "2d1W2JRPTMev",
        "outputId": "ef6aea27-52b1-4b92-f54e-3dcb428b4b35"
      },
      "execution_count": null,
      "outputs": [
        {
          "output_type": "execute_result",
          "data": {
            "text/plain": [
              "alzheimers                1.000000\n",
              "Symptom 5                 0.107727\n",
              "Symptom 4                 0.102340\n",
              "Symptom 3                 0.100828\n",
              "Symptom 2                 0.090605\n",
              "Genes in mother's side    0.085705\n",
              "Name: alzheimers, dtype: float64"
            ]
          },
          "metadata": {},
          "execution_count": 32
        }
      ]
    },
    {
      "cell_type": "markdown",
      "source": [
        "Alzheimer's is most similar to symptoms 2, 3, 4, and 5 like Leber's or diabetes. There is also similarity regarding genes in the mother's side as well. The similarity number have become much smaller, since the number of instances has greatly decreased. \n",
        "\n",
        "Alzheimer's using occurs later in life and is usually caused by proteins built up in the brain. This could explain the small amount of instances in the dataset. (https://www.nhs.uk/conditions/alzheimers-disease/causes/#:~:text=Alzheimer's%20disease%20is%20thought%20to,form%20tangles%20within%20brain%20cells.)"
      ],
      "metadata": {
        "id": "o4UA2ycbTNNs"
      }
    },
    {
      "cell_type": "markdown",
      "source": [
        "*Cancer's Top 5 Most Similar Variables*"
      ],
      "metadata": {
        "id": "t1q2gdtbTNuI"
      }
    },
    {
      "cell_type": "code",
      "source": [
        "df_matrix.loc['cancer'].nlargest(6)"
      ],
      "metadata": {
        "colab": {
          "base_uri": "https://localhost:8080/"
        },
        "id": "1cyNRw_FTVCg",
        "outputId": "4c9a0dad-1d9d-4d82-d3ed-f25a0cd088a8"
      },
      "execution_count": null,
      "outputs": [
        {
          "output_type": "execute_result",
          "data": {
            "text/plain": [
              "cancer                                          1.000000\n",
              "Test 4                                          0.082640\n",
              "H/O substance abuse                             0.051550\n",
              "History of anomalies in previous pregnancies    0.051171\n",
              "Assisted conception IVF/ART                     0.050598\n",
              "Folic acid details (peri-conceptional)          0.050234\n",
              "Name: cancer, dtype: float64"
            ]
          },
          "metadata": {},
          "execution_count": 33
        }
      ]
    },
    {
      "cell_type": "markdown",
      "source": [
        "Lastly, we look at cancer which has the fewest number of instances in the entire dataset with only 97. So our similarity numbers are the smallest. \n",
        "\n",
        "We see that Test 4, history of substance abuse in the mother, history of anomalies in previous pregnancies, assisted conception, and folic acid details could play a part in a diagnosis of cancer. The dataset doesn't specify which type of cancer, but we know in general cancer in childhood is rare, but is the leading cause of death by disease past infancy in the United States (https://www.cancer.gov/types/childhood-cancers/child-adolescent-cancers-fact-sheet#how-common-is-cancer-in-children-and-adolescents). "
      ],
      "metadata": {
        "id": "F8aUAz5vTVdn"
      }
    },
    {
      "cell_type": "markdown",
      "source": [
        "**Decision Tree Classification**"
      ],
      "metadata": {
        "id": "ibRgLPs99LlX"
      }
    },
    {
      "cell_type": "markdown",
      "source": [
        "Implementing a decision tree using Pyspark methods."
      ],
      "metadata": {
        "id": "0wkQx5Cc9j5g"
      }
    },
    {
      "cell_type": "markdown",
      "source": [
        "Steps from: https://spark.apache.org/docs/latest/api/python/reference/api/pyspark.ml.classification.DecisionTreeClassifier.html"
      ],
      "metadata": {
        "id": "SG7PrBcl-35u"
      }
    },
    {
      "cell_type": "markdown",
      "source": [
        "Loading libraries"
      ],
      "metadata": {
        "id": "4vfqGFJG9pg4"
      }
    },
    {
      "cell_type": "code",
      "source": [
        "from pyspark.ml.feature import VectorAssembler\n",
        "from pyspark.ml.regression import LinearRegression\n",
        "from pyspark.ml.evaluation import RegressionEvaluator\n",
        "from pyspark.ml.feature import StringIndexer\n",
        "from pyspark.ml.classification import DecisionTreeClassifier\n",
        "from pyspark.ml.evaluation import MulticlassClassificationEvaluator\n",
        "from pyspark.ml.evaluation import BinaryClassificationEvaluator\n",
        "from sklearn.metrics import confusion_matrix"
      ],
      "metadata": {
        "id": "16Cp_LgV9rS5"
      },
      "execution_count": null,
      "outputs": []
    },
    {
      "cell_type": "markdown",
      "source": [
        "Importing edited CSV into Spark."
      ],
      "metadata": {
        "id": "zDhSvzQ4900o"
      }
    },
    {
      "cell_type": "code",
      "source": [
        "data = spark.read.csv(\"train_data.csv\", inferSchema=True, header=True)\n",
        "# data.show()"
      ],
      "metadata": {
        "id": "4PQWR9Ob94hV"
      },
      "execution_count": null,
      "outputs": []
    },
    {
      "cell_type": "markdown",
      "source": [
        "Counting the Genetic Disorders."
      ],
      "metadata": {
        "id": "UvG84AwTr9Vu"
      }
    },
    {
      "cell_type": "code",
      "source": [
        "data.groupBy('Disorder Subclass').count().show()"
      ],
      "metadata": {
        "colab": {
          "base_uri": "https://localhost:8080/"
        },
        "id": "hQM07Rhgr9zL",
        "outputId": "4bad40f5-5062-4a48-ab83-6de74f85592b"
      },
      "execution_count": null,
      "outputs": [
        {
          "output_type": "stream",
          "name": "stdout",
          "text": [
            "+--------------------+-----+\n",
            "|   Disorder Subclass|count|\n",
            "+--------------------+-----+\n",
            "|      Leigh syndrome| 5160|\n",
            "|            Diabetes| 1817|\n",
            "|              Cancer|   97|\n",
            "|Leber's hereditar...|  648|\n",
            "|     Hemochromatosis| 1355|\n",
            "|         Alzheimer's|  152|\n",
            "|Mitochondrial myo...| 4405|\n",
            "|           Tay-Sachs| 2833|\n",
            "|     Cystic fibrosis| 3448|\n",
            "+--------------------+-----+\n",
            "\n"
          ]
        }
      ]
    },
    {
      "cell_type": "markdown",
      "source": [
        "Showing the columns of the dataset."
      ],
      "metadata": {
        "id": "lfV75fjnCVUP"
      }
    },
    {
      "cell_type": "code",
      "source": [
        "data.columns"
      ],
      "metadata": {
        "colab": {
          "base_uri": "https://localhost:8080/"
        },
        "id": "GN6o33wwtEHZ",
        "outputId": "e24588a8-ee0c-4915-919f-824bb449e816"
      },
      "execution_count": null,
      "outputs": [
        {
          "output_type": "execute_result",
          "data": {
            "text/plain": [
              "['_c0',\n",
              " 'Patient Age',\n",
              " \"Genes in mother's side\",\n",
              " 'Inherited from father',\n",
              " 'Maternal gene',\n",
              " 'Paternal gene',\n",
              " 'Blood cell count (mcL)',\n",
              " \"Mother's age\",\n",
              " \"Father's age\",\n",
              " 'Respiratory Rate (breaths/min)',\n",
              " 'Heart Rate (rates/min',\n",
              " 'Test 1',\n",
              " 'Test 2',\n",
              " 'Test 3',\n",
              " 'Test 4',\n",
              " 'Test 5',\n",
              " 'Follow-up',\n",
              " 'Gender',\n",
              " 'Birth asphyxia',\n",
              " 'Autopsy shows birth defect (if applicable)',\n",
              " 'Place of birth',\n",
              " 'Folic acid details (peri-conceptional)',\n",
              " 'H/O serious maternal illness',\n",
              " 'H/O radiation exposure (x-ray)',\n",
              " 'H/O substance abuse',\n",
              " 'Assisted conception IVF/ART',\n",
              " 'History of anomalies in previous pregnancies',\n",
              " 'No. of previous abortion',\n",
              " 'Birth defects',\n",
              " 'White Blood cell count (thousand per microliter)',\n",
              " 'Blood test result',\n",
              " 'Symptom 1',\n",
              " 'Symptom 2',\n",
              " 'Symptom 3',\n",
              " 'Symptom 4',\n",
              " 'Symptom 5',\n",
              " 'Disorder Subclass',\n",
              " 'leigh_syndrome',\n",
              " 'mitochondrial_myopathy',\n",
              " 'cystic_fibrosis',\n",
              " 'tay_sachs',\n",
              " 'diabetes',\n",
              " 'hemochromatosis',\n",
              " 'lebers',\n",
              " 'alzheimers',\n",
              " 'cancer']"
            ]
          },
          "metadata": {},
          "execution_count": 37
        }
      ]
    },
    {
      "cell_type": "markdown",
      "source": [
        "Creating an assembler using Vector Assembler to create a new column to keep track of the independent variables."
      ],
      "metadata": {
        "id": "SYb_gKUtxLCP"
      }
    },
    {
      "cell_type": "code",
      "source": [
        "assembler = VectorAssembler(inputCols= ['Patient Age',\n",
        " \"Genes in mother's side\",\n",
        " 'Inherited from father',\n",
        " 'Maternal gene',\n",
        " 'Paternal gene',\n",
        " 'Blood cell count (mcL)',\n",
        " \"Mother's age\",\n",
        " \"Father's age\",\n",
        " 'Test 1',\n",
        " 'Test 2',\n",
        " 'Test 3',\n",
        " 'Test 4',\n",
        " 'Test 5',\n",
        " 'Birth asphyxia',\n",
        " 'Autopsy shows birth defect (if applicable)',\n",
        " 'Folic acid details (peri-conceptional)',\n",
        " 'H/O serious maternal illness',\n",
        " 'H/O radiation exposure (x-ray)',\n",
        " 'H/O substance abuse',\n",
        " 'Assisted conception IVF/ART',\n",
        " 'History of anomalies in previous pregnancies',\n",
        " 'White Blood cell count (thousand per microliter)',\n",
        " 'Symptom 1',\n",
        " 'Symptom 2',\n",
        " 'Symptom 3',\n",
        " 'Symptom 4',\n",
        " 'Symptom 5'], outputCol= \"features\")\n",
        "\n",
        "assembler"
      ],
      "metadata": {
        "colab": {
          "base_uri": "https://localhost:8080/"
        },
        "id": "EKOG7TWExLcs",
        "outputId": "98555cea-3b57-4fd3-d7f7-de21d255448c"
      },
      "execution_count": null,
      "outputs": [
        {
          "output_type": "execute_result",
          "data": {
            "text/plain": [
              "VectorAssembler_caffce28aa47"
            ]
          },
          "metadata": {},
          "execution_count": 38
        }
      ]
    },
    {
      "cell_type": "markdown",
      "source": [
        "Applying the vector assembler to the data."
      ],
      "metadata": {
        "id": "DVMgqlUmyMnR"
      }
    },
    {
      "cell_type": "code",
      "source": [
        "output = assembler.transform(data)\n",
        "output.show()"
      ],
      "metadata": {
        "colab": {
          "base_uri": "https://localhost:8080/"
        },
        "id": "KeFRjvYDyNHd",
        "outputId": "1e79a9cf-6512-42f5-b6cd-0f0895ae8d48"
      },
      "execution_count": null,
      "outputs": [
        {
          "output_type": "stream",
          "name": "stdout",
          "text": [
            "+---+-----------+----------------------+---------------------+-------------+-------------+----------------------+------------+------------+------------------------------+---------------------+------+------+------+------+------+---------+---------+--------------+------------------------------------------+--------------+--------------------------------------+----------------------------+------------------------------+-------------------+---------------------------+--------------------------------------------+------------------------+-------------+------------------------------------------------+-----------------+---------+---------+---------+---------+---------+--------------------+--------------+----------------------+---------------+---------+--------+---------------+------+----------+------+--------------------+\n",
            "|_c0|Patient Age|Genes in mother's side|Inherited from father|Maternal gene|Paternal gene|Blood cell count (mcL)|Mother's age|Father's age|Respiratory Rate (breaths/min)|Heart Rate (rates/min|Test 1|Test 2|Test 3|Test 4|Test 5|Follow-up|   Gender|Birth asphyxia|Autopsy shows birth defect (if applicable)|Place of birth|Folic acid details (peri-conceptional)|H/O serious maternal illness|H/O radiation exposure (x-ray)|H/O substance abuse|Assisted conception IVF/ART|History of anomalies in previous pregnancies|No. of previous abortion|Birth defects|White Blood cell count (thousand per microliter)|Blood test result|Symptom 1|Symptom 2|Symptom 3|Symptom 4|Symptom 5|   Disorder Subclass|leigh_syndrome|mitochondrial_myopathy|cystic_fibrosis|tay_sachs|diabetes|hemochromatosis|lebers|alzheimers|cancer|            features|\n",
            "+---+-----------+----------------------+---------------------+-------------+-------------+----------------------+------------+------------+------------------------------+---------------------+------+------+------+------+------+---------+---------+--------------+------------------------------------------+--------------+--------------------------------------+----------------------------+------------------------------+-------------------+---------------------------+--------------------------------------------+------------------------+-------------+------------------------------------------------+-----------------+---------+---------+---------+---------+---------+--------------------+--------------+----------------------+---------------+---------+--------+---------------+------+----------+------+--------------------+\n",
            "|  0|          2|                     1|                    0|            1|            0|     4.760603085632425|          35|          42|                Normal (30-60)|               Normal|     0|     0|     0|     1|     0|     High|  Unknown|             0|                                         0|     Institute|                                     0|                           0|                             0|                  0|                          0|                                           1|                       2|      Unknown|                               9.857562482195815|          Unknown|        1|        1|        1|        1|        1|Leber's hereditar...|             0|                     0|              0|        0|       0|              0|     1|         0|     0|(27,[0,1,3,5,6,7,...|\n",
            "|  1|          4|                     1|                    1|            0|            0|     4.910669059571037|          35|          23|                     Tachypnea|               Normal|     0|     0|     0|     1|     0|     High|  Unknown|             0|                                         0|       Unknown|                                     1|                           1|                             0|                  0|                          0|                                           1|                       2|     Multiple|                               5.522559926086473|           normal|        1|        0|        1|        1|        0|     Cystic fibrosis|             0|                     0|              1|        0|       0|              0|     0|         0|     0|(27,[0,1,2,5,6,7,...|\n",
            "|  2|          6|                     1|                    0|            0|            0|    4.8932974275730095|          41|          22|                Normal (30-60)|          Tachycardia|     0|     0|     0|     1|     0|      Low|  Unknown|             0|                                         0|       Unknown|                                     1|                           0|                             1|                  0|                          1|                                           1|                       4|     Singular|                               7.478060260377747|           normal|        0|        1|        1|        1|        1|            Diabetes|             0|                     0|              0|        0|       1|              0|     0|         0|     0|(27,[0,1,5,6,7,11...|\n",
            "|  3|         12|                     1|                    0|            1|            0|     4.705280392049416|          21|          42|                     Tachypnea|               Normal|     0|     0|     0|     1|     0|     High|     Male|             0|                                         0|     Institute|                                     0|                           1|                             0|                  0|                          0|                                           1|                       1|     Singular|                               7.919320981493317|     inconclusive|        0|        0|        1|        0|        0|      Leigh syndrome|             1|                     0|              0|        0|       0|              0|     0|         0|     0|(27,[0,1,3,5,6,7,...|\n",
            "|  4|         11|                     1|                    0|            0|            1|     4.720702714375907|          32|          42|                     Tachypnea|          Tachycardia|     0|     0|     0|     1|     0|      Low|     Male|             0|                                         0|     Institute|                                     0|                           1|                             0|                  0|                          1|                                           0|                       4|     Multiple|                               4.098210272243849|          Unknown|        0|        0|        0|        0|        0|              Cancer|             0|                     0|              0|        0|       0|              0|     0|         0|     1|(27,[0,1,4,5,6,7,...|\n",
            "|  5|         14|                     1|                    0|            1|            0|    5.1031884409228745|          35|          42|                       Unknown|               Normal|     0|     0|     0|     1|     0|      Low|   Female|             0|                                         0|     Institute|                                     0|                           0|                             0|                  0|                          0|                                           0|                       0|     Multiple|                               10.27223038958957|           normal|        1|        0|        0|        1|        0|     Cystic fibrosis|             0|                     0|              1|        0|       0|              0|     0|         0|     0|(27,[0,1,3,5,6,7,...|\n",
            "|  6|          3|                     1|                    0|            1|            1|     4.901079650369585|          35|          63|                Normal (30-60)|              Unknown|     0|     0|     0|     1|     0|      Low|     Male|             0|                                         0|          Home|                                     0|                           1|                             0|                  0|                          1|                                           0|                       3|     Multiple|                               6.825974323855865|           normal|        0|        0|        0|        0|        0|           Tay-Sachs|             0|                     0|              0|        1|       0|              0|     0|         0|     0|(27,[0,1,3,4,5,6,...|\n",
            "|  7|          3|                     0|                    0|            1|            1|     4.964816114066661|          40|          42|                     Tachypnea|               Normal|     0|     0|     0|     1|     0|      Low|  Unknown|             0|                                         0|          Home|                                     1|                           1|                             0|                  0|                          0|                                           1|                       1|     Singular|                               9.836351500269854|     inconclusive|        0|        0|        1|        0|        0|           Tay-Sachs|             0|                     0|              0|        1|       0|              0|     0|         0|     0|(27,[0,3,4,5,6,7,...|\n",
            "|  8|         11|                     0|                    0|            1|            0|      5.20905799917528|          45|          44|                     Tachypnea|          Tachycardia|     0|     0|     0|     1|     0|      Low|     Male|             1|                                         0|     Institute|                                     1|                           1|                             0|                  0|                          0|                                           1|                       0|     Multiple|                               6.669552178444405|slightly abnormal|        1|        1|        1|        0|        1|      Leigh syndrome|             1|                     0|              0|        0|       0|              0|     0|         0|     0|(27,[0,3,5,6,7,11...|\n",
            "|  9|          4|                     0|                    1|            1|            1|     4.752271706141302|          44|          42|                     Tachypnea|          Tachycardia|     0|     0|     0|     1|     0|      Low|     Male|             0|                                         0|     Institute|                                     1|                           0|                             0|                  0|                          1|                                           1|                       1|     Multiple|                               6.397701725889903|         abnormal|        0|        0|        1|        1|        1|            Diabetes|             0|                     0|              0|        0|       1|              0|     0|         0|     0|(27,[0,2,3,4,5,6,...|\n",
            "| 10|          6|                     1|                    0|            0|            0|     4.750824479564964|          35|          42|                     Tachypnea|              Unknown|     0|     0|     0|     0|     0|      Low|     Male|             0|                                         0|          Home|                                     0|                           1|                             1|                  0|                          1|                                           0|                       1|     Singular|                               5.957320885489781|         abnormal|        1|        0|        0|        0|        0|     Hemochromatosis|             0|                     0|              0|        0|       0|              1|     0|         0|     0|(27,[0,1,5,6,7,16...|\n",
            "| 11|          7|                     0|                    0|            0|            1|     4.848794611734611|          35|          42|                Normal (30-60)|          Tachycardia|     0|     0|     0|     1|     0|      Low|     Male|             1|                                         0|       Unknown|                                     1|                           1|                             0|                  0|                          0|                                           1|                       2|     Multiple|                               8.409691490046477|slightly abnormal|        0|        1|        1|        1|        1|     Cystic fibrosis|             0|                     0|              1|        0|       0|              0|     0|         0|     0|(27,[0,4,5,6,7,11...|\n",
            "| 12|          1|                     1|                    1|            0|            0|     4.612265043442273|          50|          56|                Normal (30-60)|          Tachycardia|     0|     0|     0|     1|     0|     High|     Male|             0|                                         0|          Home|                                     1|                           0|                             1|                  0|                          1|                                           1|                       0|     Singular|                               7.995114895176054|slightly abnormal|        1|        1|        0|        1|        0|      Leigh syndrome|             1|                     0|              0|        0|       0|              0|     0|         0|     0|(27,[0,1,2,5,6,7,...|\n",
            "| 13|          0|                     1|                    0|            0|            1|     4.807778109357083|          28|          42|                       Unknown|              Unknown|     0|     0|     0|     1|     0|      Low|Ambiguous|             0|                                         0|       Unknown|                                     0|                           0|                             0|                  0|                          0|                                           1|                       4|     Multiple|                                 8.4405926789641|         abnormal|        0|        1|        1|        0|        0|      Leigh syndrome|             1|                     0|              0|        0|       0|              0|     0|         0|     0|(27,[1,4,5,6,7,11...|\n",
            "| 14|          6|                     1|                    0|            1|            0|    4.6204199246334365|          41|          20|                     Tachypnea|          Tachycardia|     0|     0|     0|     1|     0|     High|     Male|             0|                                         0|          Home|                                     1|                           1|                             1|                  0|                          0|                                           0|                       3|     Multiple|                                             3.0|slightly abnormal|        1|        0|        1|        0|        1|      Leigh syndrome|             1|                     0|              0|        0|       0|              0|     0|         0|     0|(27,[0,1,3,5,6,7,...|\n",
            "| 15|          0|                     0|                    0|            0|            0|     4.918570062585027|          30|          24|                Normal (30-60)|          Tachycardia|     0|     0|     0|     0|     0|     High|   Female|             0|                                         0|          Home|                                     1|                           0|                             0|                  0|                          0|                                           1|                       2|     Multiple|                               7.478060260377747|           normal|        0|        0|        0|        0|        1|Mitochondrial myo...|             0|                     1|              0|        0|       0|              0|     0|         0|     0|(27,[5,6,7,15,20,...|\n",
            "| 16|          0|                     1|                    1|            0|            0|     4.798520070262021|          35|          57|                Normal (30-60)|              Unknown|     0|     0|     0|     1|     0|      Low|Ambiguous|             0|                                         0|     Institute|                                     1|                           0|                             0|                  0|                          0|                                           1|                       4|     Multiple|                               7.478060260377747|           normal|        1|        1|        1|        0|        1|     Cystic fibrosis|             0|                     0|              1|        0|       0|              0|     0|         0|     0|(27,[1,2,5,6,7,11...|\n",
            "| 17|          7|                     0|                    0|            0|            0|     4.952457287335472|          24|          24|                     Tachypnea|               Normal|     0|     0|     0|     1|     0|     High|   Female|             0|                                         0|          Home|                                     0|                           1|                             0|                  0|                          0|                                           0|                       1|      Unknown|                              10.031078036107456|     inconclusive|        1|        1|        0|        1|        1|     Cystic fibrosis|             0|                     0|              1|        0|       0|              0|     0|         0|     0|(27,[0,5,6,7,11,1...|\n",
            "| 18|         10|                     1|                    1|            1|            0|     4.751452120063155|          40|          57|                Normal (30-60)|          Tachycardia|     0|     0|     0|     1|     0|      Low|Ambiguous|             0|                                         1|     Institute|                                     0|                           0|                             1|                  0|                          1|                                           1|                       3|     Singular|                               9.382406549695704|         abnormal|        1|        1|        0|        0|        0|Mitochondrial myo...|             0|                     1|              0|        0|       0|              0|     0|         0|     0|(27,[0,1,2,3,5,6,...|\n",
            "| 19|          6|                     0|                    1|            1|            1|     4.876895547860267|          36|          48|                     Tachypnea|               Normal|     0|     0|     0|     1|     0|      Low|Ambiguous|             0|                                         1|     Institute|                                     1|                           1|                             0|                  0|                          1|                                           0|                       1|     Singular|                              7.3704773067331875|           normal|        1|        0|        0|        0|        0|     Hemochromatosis|             0|                     0|              0|        0|       0|              1|     0|         0|     0|(27,[0,2,3,4,5,6,...|\n",
            "+---+-----------+----------------------+---------------------+-------------+-------------+----------------------+------------+------------+------------------------------+---------------------+------+------+------+------+------+---------+---------+--------------+------------------------------------------+--------------+--------------------------------------+----------------------------+------------------------------+-------------------+---------------------------+--------------------------------------------+------------------------+-------------+------------------------------------------------+-----------------+---------+---------+---------+---------+---------+--------------------+--------------+----------------------+---------------+---------+--------+---------------+------+----------+------+--------------------+\n",
            "only showing top 20 rows\n",
            "\n"
          ]
        }
      ]
    },
    {
      "cell_type": "markdown",
      "source": [
        "**Leigh Syndrome Decision Tree**"
      ],
      "metadata": {
        "id": "-pjEpyvsuHVy"
      }
    },
    {
      "cell_type": "markdown",
      "source": [
        "We will focus on creating a decision tree for Leigh Syndrome."
      ],
      "metadata": {
        "id": "1hOlZE-ir2Oh"
      }
    },
    {
      "cell_type": "code",
      "source": [
        "output.select(\"features\", \"leigh_syndrome\").show()"
      ],
      "metadata": {
        "colab": {
          "base_uri": "https://localhost:8080/"
        },
        "id": "mGMGtp-BayWB",
        "outputId": "fe012bd7-421d-4e75-b344-1e11a45fa2dc"
      },
      "execution_count": null,
      "outputs": [
        {
          "output_type": "stream",
          "name": "stdout",
          "text": [
            "+--------------------+--------------+\n",
            "|            features|leigh_syndrome|\n",
            "+--------------------+--------------+\n",
            "|(27,[0,1,3,5,6,7,...|             0|\n",
            "|(27,[0,1,2,5,6,7,...|             0|\n",
            "|(27,[0,1,5,6,7,11...|             0|\n",
            "|(27,[0,1,3,5,6,7,...|             1|\n",
            "|(27,[0,1,4,5,6,7,...|             0|\n",
            "|(27,[0,1,3,5,6,7,...|             0|\n",
            "|(27,[0,1,3,4,5,6,...|             0|\n",
            "|(27,[0,3,4,5,6,7,...|             0|\n",
            "|(27,[0,3,5,6,7,11...|             1|\n",
            "|(27,[0,2,3,4,5,6,...|             0|\n",
            "|(27,[0,1,5,6,7,16...|             0|\n",
            "|(27,[0,4,5,6,7,11...|             0|\n",
            "|(27,[0,1,2,5,6,7,...|             1|\n",
            "|(27,[1,4,5,6,7,11...|             1|\n",
            "|(27,[0,1,3,5,6,7,...|             1|\n",
            "|(27,[5,6,7,15,20,...|             0|\n",
            "|(27,[1,2,5,6,7,11...|             0|\n",
            "|(27,[0,5,6,7,11,1...|             0|\n",
            "|(27,[0,1,2,3,5,6,...|             0|\n",
            "|(27,[0,2,3,4,5,6,...|             0|\n",
            "+--------------------+--------------+\n",
            "only showing top 20 rows\n",
            "\n"
          ]
        }
      ]
    },
    {
      "cell_type": "markdown",
      "source": [
        "We will create a model using the two columns to represent all the features and the disorder subclasses."
      ],
      "metadata": {
        "id": "kGujT2LcHEgV"
      }
    },
    {
      "cell_type": "code",
      "source": [
        "model_df = output.select(\"features\", \"leigh_syndrome\")"
      ],
      "metadata": {
        "id": "p9gRwO2ebOIo"
      },
      "execution_count": null,
      "outputs": []
    },
    {
      "cell_type": "code",
      "source": [
        "# model_df.show()"
      ],
      "metadata": {
        "id": "XNQhU77PbXBI"
      },
      "execution_count": null,
      "outputs": []
    },
    {
      "cell_type": "markdown",
      "source": [
        "Splitting edited data into training and testing data.\n",
        "\n",
        "70% of the original data in training dataframe and 30% in testing dataframe, we will also set the seed to 1000 to have consistent results. "
      ],
      "metadata": {
        "id": "uAYrxefPbgCU"
      }
    },
    {
      "cell_type": "code",
      "source": [
        "training_df, test_df = model_df.randomSplit([0.7, 0.3], 1000)"
      ],
      "metadata": {
        "id": "oVxki1TSbfcE"
      },
      "execution_count": null,
      "outputs": []
    },
    {
      "cell_type": "markdown",
      "source": [
        "Count of training data."
      ],
      "metadata": {
        "id": "e1KJM7L3b8eV"
      }
    },
    {
      "cell_type": "code",
      "source": [
        "training_df.count()"
      ],
      "metadata": {
        "colab": {
          "base_uri": "https://localhost:8080/"
        },
        "id": "-pHFGgagbv2e",
        "outputId": "75a768df-9fdf-47ba-c38f-1bd956c773c1"
      },
      "execution_count": null,
      "outputs": [
        {
          "output_type": "execute_result",
          "data": {
            "text/plain": [
              "13973"
            ]
          },
          "metadata": {},
          "execution_count": 44
        }
      ]
    },
    {
      "cell_type": "markdown",
      "source": [
        "Count of test data. "
      ],
      "metadata": {
        "id": "CXLdEuUJb97m"
      }
    },
    {
      "cell_type": "code",
      "source": [
        "test_df.count()"
      ],
      "metadata": {
        "colab": {
          "base_uri": "https://localhost:8080/"
        },
        "id": "uUDuWdlNb5lX",
        "outputId": "f7c943eb-f21b-4a3a-b2ca-9cb907090564"
      },
      "execution_count": null,
      "outputs": [
        {
          "output_type": "execute_result",
          "data": {
            "text/plain": [
              "5942"
            ]
          },
          "metadata": {},
          "execution_count": 45
        }
      ]
    },
    {
      "cell_type": "markdown",
      "source": [
        "We will build the Decision Tree Classifer using libraries previously imported libraries and the training dataframe."
      ],
      "metadata": {
        "id": "WehsCDXtcMGq"
      }
    },
    {
      "cell_type": "code",
      "source": [
        "df_classifier = DecisionTreeClassifier(labelCol = \"leigh_syndrome\").fit(training_df)"
      ],
      "metadata": {
        "id": "InKu4XdWcW4y"
      },
      "execution_count": null,
      "outputs": []
    },
    {
      "cell_type": "markdown",
      "source": [
        "We will also create predictions using the test dataframe we created."
      ],
      "metadata": {
        "id": "XEAPZhc14DGH"
      }
    },
    {
      "cell_type": "code",
      "source": [
        "df_predictions = df_classifier.transform(test_df)"
      ],
      "metadata": {
        "id": "LfUzyNVvdVDT"
      },
      "execution_count": null,
      "outputs": []
    },
    {
      "cell_type": "markdown",
      "source": [
        "Showing the predictions within the dataframe."
      ],
      "metadata": {
        "id": "97Ry4KlT4LVt"
      }
    },
    {
      "cell_type": "code",
      "source": [
        "df_predictions.show()"
      ],
      "metadata": {
        "colab": {
          "base_uri": "https://localhost:8080/"
        },
        "id": "nfYwF51id2Y2",
        "outputId": "59cbc288-c7ed-4e7b-ba51-5c9094c9db9f"
      },
      "execution_count": null,
      "outputs": [
        {
          "output_type": "stream",
          "name": "stdout",
          "text": [
            "+--------------------+--------------+---------------+--------------------+----------+\n",
            "|            features|leigh_syndrome|  rawPrediction|         probability|prediction|\n",
            "+--------------------+--------------+---------------+--------------------+----------+\n",
            "|(27,[0,1,2,3,4,5,...|             1|[9366.0,3249.0]|[0.74244946492271...|       0.0|\n",
            "|(27,[0,1,2,3,4,5,...|             0|[9366.0,3249.0]|[0.74244946492271...|       0.0|\n",
            "|(27,[0,1,2,3,4,5,...|             0|  [549.0,195.0]|[0.73790322580645...|       0.0|\n",
            "|(27,[0,1,2,3,4,5,...|             0|[9366.0,3249.0]|[0.74244946492271...|       0.0|\n",
            "|(27,[0,1,2,3,4,5,...|             0|[9366.0,3249.0]|[0.74244946492271...|       0.0|\n",
            "|(27,[0,1,2,3,4,5,...|             0|[9366.0,3249.0]|[0.74244946492271...|       0.0|\n",
            "|(27,[0,1,2,3,4,5,...|             0|[9366.0,3249.0]|[0.74244946492271...|       0.0|\n",
            "|(27,[0,1,2,3,4,5,...|             0|[9366.0,3249.0]|[0.74244946492271...|       0.0|\n",
            "|(27,[0,1,2,3,4,5,...|             0|[9366.0,3249.0]|[0.74244946492271...|       0.0|\n",
            "|(27,[0,1,2,3,4,5,...|             1|[9366.0,3249.0]|[0.74244946492271...|       0.0|\n",
            "|(27,[0,1,2,3,4,5,...|             0|[9366.0,3249.0]|[0.74244946492271...|       0.0|\n",
            "|(27,[0,1,2,3,4,5,...|             0|[9366.0,3249.0]|[0.74244946492271...|       0.0|\n",
            "|(27,[0,1,2,3,4,5,...|             0|[9366.0,3249.0]|[0.74244946492271...|       0.0|\n",
            "|(27,[0,1,2,3,4,5,...|             1|[9366.0,3249.0]|[0.74244946492271...|       0.0|\n",
            "|(27,[0,1,2,3,4,5,...|             0|[9366.0,3249.0]|[0.74244946492271...|       0.0|\n",
            "|(27,[0,1,2,3,4,5,...|             0|[9366.0,3249.0]|[0.74244946492271...|       0.0|\n",
            "|(27,[0,1,2,3,4,5,...|             1|[9366.0,3249.0]|[0.74244946492271...|       0.0|\n",
            "|(27,[0,1,2,3,4,5,...|             1|[9366.0,3249.0]|[0.74244946492271...|       0.0|\n",
            "|(27,[0,1,2,3,4,5,...|             0|[9366.0,3249.0]|[0.74244946492271...|       0.0|\n",
            "|(27,[0,1,2,3,4,5,...|             1|[9366.0,3249.0]|[0.74244946492271...|       0.0|\n",
            "+--------------------+--------------+---------------+--------------------+----------+\n",
            "only showing top 20 rows\n",
            "\n"
          ]
        }
      ]
    },
    {
      "cell_type": "markdown",
      "source": [
        "*Evaluating the model*"
      ],
      "metadata": {
        "id": "rWkJ5kq_4Vsi"
      }
    },
    {
      "cell_type": "markdown",
      "source": [
        "First, we look at the accuracy of the model using libraries previously imported."
      ],
      "metadata": {
        "id": "F4iaEuky4YXl"
      }
    },
    {
      "cell_type": "code",
      "source": [
        "df_accuracy = MulticlassClassificationEvaluator(labelCol=\"leigh_syndrome\",\n",
        "                                                metricName= \"accuracy\").evaluate(df_predictions)\n",
        "df_accuracy                      "
      ],
      "metadata": {
        "colab": {
          "base_uri": "https://localhost:8080/"
        },
        "id": "JOtPxHrf-NxA",
        "outputId": "66c7a93b-c36a-43fd-97de-376ae50c5da1"
      },
      "execution_count": null,
      "outputs": [
        {
          "output_type": "execute_result",
          "data": {
            "text/plain": [
              "0.7440255806125884"
            ]
          },
          "metadata": {},
          "execution_count": 49
        }
      ]
    },
    {
      "cell_type": "markdown",
      "source": [
        "The accuracy of the model is the number of correct predictions over the total number of predictions (TP + TN/ TP + TN + FP + FN)\n",
        "\n",
        "This model about 74% accurate for predicting Leigh syndrome."
      ],
      "metadata": {
        "id": "Y50eq4bH4d5d"
      }
    },
    {
      "cell_type": "markdown",
      "source": [
        "Now, the precision of the model"
      ],
      "metadata": {
        "id": "3uprCEzp4sXa"
      }
    },
    {
      "cell_type": "code",
      "source": [
        "df_precision = MulticlassClassificationEvaluator(labelCol = \"leigh_syndrome\",\n",
        "                                                 metricName = \"weightedPrecision\").evaluate(df_predictions)\n",
        "\n",
        "df_precision"
      ],
      "metadata": {
        "colab": {
          "base_uri": "https://localhost:8080/"
        },
        "id": "2Oy6y7R_eqDk",
        "outputId": "a106a74f-55ff-4c3e-f477-12a8d8258d0d"
      },
      "execution_count": null,
      "outputs": [
        {
          "output_type": "execute_result",
          "data": {
            "text/plain": [
              "0.6232965419750084"
            ]
          },
          "metadata": {},
          "execution_count": 50
        }
      ]
    },
    {
      "cell_type": "markdown",
      "source": [
        "Weighted precision focuses on how many times the patient was correctly diagnosed with leigh syndrome, and ignores the instances where the patient was not diagnosed with leigh syndrome. (TP/ TP + FP)\n",
        "\n",
        "The weighted precision of the model is about 62%, which is not very high. "
      ],
      "metadata": {
        "id": "WJC1AOpZ4-rN"
      }
    },
    {
      "cell_type": "markdown",
      "source": [
        "We will look at the important variables that go into this prediction."
      ],
      "metadata": {
        "id": "M2H_B6Vm5NTw"
      }
    },
    {
      "cell_type": "code",
      "source": [
        "df_classifier.featureImportances"
      ],
      "metadata": {
        "colab": {
          "base_uri": "https://localhost:8080/"
        },
        "id": "PJW6IzyDfQlg",
        "outputId": "40743e5a-0fc9-4509-c2fb-68566ca7416f"
      },
      "execution_count": null,
      "outputs": [
        {
          "output_type": "execute_result",
          "data": {
            "text/plain": [
              "SparseVector(27, {0: 0.2124, 2: 0.167, 5: 0.1897, 6: 0.2386, 16: 0.1924})"
            ]
          },
          "metadata": {},
          "execution_count": 51
        }
      ]
    },
    {
      "cell_type": "markdown",
      "source": [
        "The features that are important in this model are the user ID, patient age, paternal gene, blood cell count, mother's age, test 4, follow up, Folic acid details (peri-conceptional), H/O substance abuse, and Assisted conception IVF/ART."
      ],
      "metadata": {
        "id": "wYM0D0Mb6a53"
      }
    },
    {
      "cell_type": "markdown",
      "source": [
        "Lastly, we will look at the AUC for our model.\n",
        "\n",
        "The area under the ROC curve to measure the performance across all possible classification thresholds. "
      ],
      "metadata": {
        "id": "HVVbvuhm7nli"
      }
    },
    {
      "cell_type": "code",
      "source": [
        "df_auc = MulticlassClassificationEvaluator(labelCol = \"leigh_syndrome\").evaluate(df_predictions)\n",
        "df_auc"
      ],
      "metadata": {
        "colab": {
          "base_uri": "https://localhost:8080/"
        },
        "id": "851pgnBzfQOf",
        "outputId": "d3bbc6ab-aba8-4cc8-d560-ce3a284685c4"
      },
      "execution_count": null,
      "outputs": [
        {
          "output_type": "execute_result",
          "data": {
            "text/plain": [
              "0.6370771199003631"
            ]
          },
          "metadata": {},
          "execution_count": 52
        }
      ]
    },
    {
      "cell_type": "markdown",
      "source": [
        "The AUC of this model is only about 64%, which is also not very high. Possibly the use of different variables or a larger amount of instances may improve this model. "
      ],
      "metadata": {
        "id": "Wn1CKtON8HC5"
      }
    },
    {
      "cell_type": "markdown",
      "source": [
        "Following the steps used to create the decision tree for Leigh Syndrome, we will apply it to the other genetic disorder subclasses. "
      ],
      "metadata": {
        "id": "Kh_Nli6FvZad"
      }
    },
    {
      "cell_type": "markdown",
      "source": [
        "**Mitochondrial Myopathy Decision Tree**"
      ],
      "metadata": {
        "id": "25E-NNyduRLP"
      }
    },
    {
      "cell_type": "code",
      "source": [
        "model_df1 = output.select(\"features\", \"mitochondrial_myopathy\")"
      ],
      "metadata": {
        "id": "vG2zYDkrvnhV"
      },
      "execution_count": null,
      "outputs": []
    },
    {
      "cell_type": "code",
      "source": [
        "training_df1, test_df1 = model_df1.randomSplit([0.7, 0.3], 1000)"
      ],
      "metadata": {
        "id": "mrgJjU2Hwt2Y"
      },
      "execution_count": null,
      "outputs": []
    },
    {
      "cell_type": "code",
      "source": [
        "df_classifier1 = DecisionTreeClassifier(labelCol = \"mitochondrial_myopathy\").fit(training_df1)"
      ],
      "metadata": {
        "id": "Drj2MtLJxUjm"
      },
      "execution_count": null,
      "outputs": []
    },
    {
      "cell_type": "code",
      "source": [
        "df_predictions1 = df_classifier1.transform(test_df1)"
      ],
      "metadata": {
        "id": "iioqG07dyYiD"
      },
      "execution_count": null,
      "outputs": []
    },
    {
      "cell_type": "code",
      "source": [
        "df_accuracy1 = MulticlassClassificationEvaluator(labelCol=\"mitochondrial_myopathy\",\n",
        "                                                metricName= \"accuracy\").evaluate(df_predictions1)\n",
        "\n",
        "df_accuracy1"
      ],
      "metadata": {
        "colab": {
          "base_uri": "https://localhost:8080/"
        },
        "id": "8bcOv6eUy8ez",
        "outputId": "fed78499-34e6-47fd-dd94-c5f48d02d319"
      },
      "execution_count": null,
      "outputs": [
        {
          "output_type": "execute_result",
          "data": {
            "text/plain": [
              "0.776001346348031"
            ]
          },
          "metadata": {},
          "execution_count": 57
        }
      ]
    },
    {
      "cell_type": "markdown",
      "source": [
        "The accuracy of this model is about 78% for being able to predict Mitochondrial Myopathy."
      ],
      "metadata": {
        "id": "petVeFY9sJb2"
      }
    },
    {
      "cell_type": "code",
      "source": [
        "df_precision1 = MulticlassClassificationEvaluator(labelCol = \"mitochondrial_myopathy\",\n",
        "                                                 metricName = \"weightedPrecision\").evaluate(df_predictions1)\n",
        "\n",
        "df_precision1"
      ],
      "metadata": {
        "colab": {
          "base_uri": "https://localhost:8080/"
        },
        "id": "ROwS3Dfr0SsC",
        "outputId": "51c6269b-1438-41e5-b1c6-c48005357dc7"
      },
      "execution_count": null,
      "outputs": [
        {
          "output_type": "execute_result",
          "data": {
            "text/plain": [
              "0.6021780895339567"
            ]
          },
          "metadata": {},
          "execution_count": 59
        }
      ]
    },
    {
      "cell_type": "markdown",
      "source": [
        "The weighted precision of this model is about 60%. "
      ],
      "metadata": {
        "id": "KcXQJfnCsWqg"
      }
    },
    {
      "cell_type": "code",
      "source": [
        "df_classifier1.featureImportances"
      ],
      "metadata": {
        "colab": {
          "base_uri": "https://localhost:8080/"
        },
        "id": "5Bk93vxP1Rdy",
        "outputId": "87e6ce54-5ebb-4a83-c46c-451e88c3ffec"
      },
      "execution_count": null,
      "outputs": [
        {
          "output_type": "execute_result",
          "data": {
            "text/plain": [
              "SparseVector(27, {})"
            ]
          },
          "metadata": {},
          "execution_count": 61
        }
      ]
    },
    {
      "cell_type": "markdown",
      "source": [
        "There are no remarkable features in this model. This could be changed with more instances of the disease in the dataset."
      ],
      "metadata": {
        "id": "G8T4G5UHuTkA"
      }
    },
    {
      "cell_type": "code",
      "source": [
        "df_auc1 = MulticlassClassificationEvaluator(labelCol = \"mitochondrial_myopathy\").evaluate(df_predictions1)\n",
        "df_auc1"
      ],
      "metadata": {
        "colab": {
          "base_uri": "https://localhost:8080/"
        },
        "id": "Qf1bc3JDAYOQ",
        "outputId": "5b931b6c-ead5-40fd-a23a-ab1847851737"
      },
      "execution_count": null,
      "outputs": [
        {
          "output_type": "execute_result",
          "data": {
            "text/plain": [
              "0.6781279651304407"
            ]
          },
          "metadata": {},
          "execution_count": 62
        }
      ]
    },
    {
      "cell_type": "markdown",
      "source": [
        "The AUC of this model is about 68%. \n",
        "\n",
        "This model could use improvements whether it is a larger amount of instances or focusing on different features. "
      ],
      "metadata": {
        "id": "SjMOBcn_vCyB"
      }
    },
    {
      "cell_type": "markdown",
      "source": [
        "**Cystic Fibrosis Decision Tree**"
      ],
      "metadata": {
        "id": "Nhn5W2UHuhJS"
      }
    },
    {
      "cell_type": "code",
      "source": [
        "model_df2 = output.select(\"features\", \"cystic_fibrosis\")"
      ],
      "metadata": {
        "id": "1B-rg9kyvtui"
      },
      "execution_count": null,
      "outputs": []
    },
    {
      "cell_type": "code",
      "source": [
        "training_df2, test_df2 = model_df2.randomSplit([0.7, 0.3], 1000)"
      ],
      "metadata": {
        "id": "djTDHmonwwf3"
      },
      "execution_count": null,
      "outputs": []
    },
    {
      "cell_type": "code",
      "source": [
        "df_classifier2 = DecisionTreeClassifier(labelCol = \"cystic_fibrosis\").fit(training_df2)"
      ],
      "metadata": {
        "id": "_sc0FDaxxcpw"
      },
      "execution_count": null,
      "outputs": []
    },
    {
      "cell_type": "code",
      "source": [
        "df_predictions2 = df_classifier2.transform(test_df2)"
      ],
      "metadata": {
        "id": "rIPvOs2hyc7r"
      },
      "execution_count": null,
      "outputs": []
    },
    {
      "cell_type": "code",
      "source": [
        "df_accuracy2 = MulticlassClassificationEvaluator(labelCol=\"cystic_fibrosis\",\n",
        "                                                metricName= \"accuracy\").evaluate(df_predictions2)\n",
        "\n",
        "df_accuracy2"
      ],
      "metadata": {
        "colab": {
          "base_uri": "https://localhost:8080/"
        },
        "id": "dzqROs4VzD-i",
        "outputId": "86dfa1b4-fefa-49c1-eb7e-46337f25c174"
      },
      "execution_count": null,
      "outputs": [
        {
          "output_type": "execute_result",
          "data": {
            "text/plain": [
              "0.8197576573544261"
            ]
          },
          "metadata": {},
          "execution_count": 67
        }
      ]
    },
    {
      "cell_type": "markdown",
      "source": [
        "The accuracy of this model is about 82% for being able to predict patients with Cystic Fibrosis."
      ],
      "metadata": {
        "id": "gMaPeVARwC6I"
      }
    },
    {
      "cell_type": "code",
      "source": [
        "df_precision2 = MulticlassClassificationEvaluator(labelCol = \"cystic_fibrosis\",\n",
        "                                                 metricName = \"weightedPrecision\").evaluate(df_predictions2)\n",
        "\n",
        "df_precision2"
      ],
      "metadata": {
        "colab": {
          "base_uri": "https://localhost:8080/"
        },
        "id": "hMlh7ogT0bOR",
        "outputId": "2f230961-8a86-42cd-f6bb-897b016f8841"
      },
      "execution_count": null,
      "outputs": [
        {
          "output_type": "execute_result",
          "data": {
            "text/plain": [
              "0.6720026167912166"
            ]
          },
          "metadata": {},
          "execution_count": 68
        }
      ]
    },
    {
      "cell_type": "markdown",
      "source": [
        "The weighted precision of this model is about 67%. "
      ],
      "metadata": {
        "id": "KuL-UDJPwNpp"
      }
    },
    {
      "cell_type": "code",
      "source": [
        "df_classifier2.featureImportances"
      ],
      "metadata": {
        "colab": {
          "base_uri": "https://localhost:8080/"
        },
        "id": "ik1b4uoS1T-W",
        "outputId": "cfcb22ac-1e40-484d-92af-0f3f27150e97"
      },
      "execution_count": null,
      "outputs": [
        {
          "output_type": "execute_result",
          "data": {
            "text/plain": [
              "SparseVector(27, {})"
            ]
          },
          "metadata": {},
          "execution_count": 69
        }
      ]
    },
    {
      "cell_type": "markdown",
      "source": [
        "There are no remarkable features in this model. This could be changed with more instances of the disease in the dataset. "
      ],
      "metadata": {
        "id": "j-_2uhibyFu-"
      }
    },
    {
      "cell_type": "code",
      "source": [
        "df_auc2 = MulticlassClassificationEvaluator(labelCol = \"cystic_fibrosis\").evaluate(df_predictions2)\n",
        "df_auc2"
      ],
      "metadata": {
        "colab": {
          "base_uri": "https://localhost:8080/"
        },
        "id": "2TBRgGPtCOTy",
        "outputId": "0e9f1894-6b36-4794-b605-f2664383f977"
      },
      "execution_count": null,
      "outputs": [
        {
          "output_type": "execute_result",
          "data": {
            "text/plain": [
              "0.7385627576016665"
            ]
          },
          "metadata": {},
          "execution_count": 70
        }
      ]
    },
    {
      "cell_type": "markdown",
      "source": [
        "The AUC of this model is about 74%. \n",
        "\n",
        "This model is acceptable, but could use some improvements. This could come from a larger sample size or possibility of more features. "
      ],
      "metadata": {
        "id": "heLrsy69wjO9"
      }
    },
    {
      "cell_type": "markdown",
      "source": [
        "**Tay-Sachs Decision Tree**"
      ],
      "metadata": {
        "id": "tGsyImcNunhA"
      }
    },
    {
      "cell_type": "code",
      "source": [
        "model_df3 = output.select(\"features\", \"tay_sachs\")"
      ],
      "metadata": {
        "id": "qOBtCtCOvzcs"
      },
      "execution_count": null,
      "outputs": []
    },
    {
      "cell_type": "code",
      "source": [
        "training_df3, test_df3 = model_df3.randomSplit([0.7, 0.3], 1000)"
      ],
      "metadata": {
        "id": "EeAmJL1Hwz68"
      },
      "execution_count": null,
      "outputs": []
    },
    {
      "cell_type": "code",
      "source": [
        "df_classifier3 = DecisionTreeClassifier(labelCol = \"tay_sachs\").fit(training_df3)"
      ],
      "metadata": {
        "id": "WkSFv-bzxjeN"
      },
      "execution_count": null,
      "outputs": []
    },
    {
      "cell_type": "code",
      "source": [
        "df_predictions3 = df_classifier3.transform(test_df3)"
      ],
      "metadata": {
        "id": "goZ1Dtx6yfHp"
      },
      "execution_count": null,
      "outputs": []
    },
    {
      "cell_type": "code",
      "source": [
        "df_accuracy3 = MulticlassClassificationEvaluator(labelCol=\"tay_sachs\",\n",
        "                                                metricName= \"accuracy\").evaluate(df_predictions3)\n",
        "\n",
        "df_accuracy3"
      ],
      "metadata": {
        "colab": {
          "base_uri": "https://localhost:8080/"
        },
        "id": "EjRBg4fuzPsC",
        "outputId": "308416aa-01aa-46b3-ed9f-0d0efe965f41"
      },
      "execution_count": null,
      "outputs": [
        {
          "output_type": "execute_result",
          "data": {
            "text/plain": [
              "0.8608212722988893"
            ]
          },
          "metadata": {},
          "execution_count": 75
        }
      ]
    },
    {
      "cell_type": "markdown",
      "source": [
        "The accuracy of this model is 86% for predicting Tay-Sachs."
      ],
      "metadata": {
        "id": "eH-16dOby4Mu"
      }
    },
    {
      "cell_type": "code",
      "source": [
        "df_precision3 = MulticlassClassificationEvaluator(labelCol = \"tay_sachs\",\n",
        "                                                 metricName = \"weightedPrecision\").evaluate(df_predictions3)\n",
        "\n",
        "df_precision3"
      ],
      "metadata": {
        "colab": {
          "base_uri": "https://localhost:8080/"
        },
        "id": "pn5KSxGl0llV",
        "outputId": "5fa6aee0-5556-4281-e691-0b424b0c22cc"
      },
      "execution_count": null,
      "outputs": [
        {
          "output_type": "execute_result",
          "data": {
            "text/plain": [
              "0.7410132628422785"
            ]
          },
          "metadata": {},
          "execution_count": 139
        }
      ]
    },
    {
      "cell_type": "markdown",
      "source": [
        "The weighted precision of this model is 74%."
      ],
      "metadata": {
        "id": "tmJ8cIh3zyFZ"
      }
    },
    {
      "cell_type": "code",
      "source": [
        "df_classifier3.featureImportances"
      ],
      "metadata": {
        "colab": {
          "base_uri": "https://localhost:8080/"
        },
        "id": "iXluvJAP1hat",
        "outputId": "965183fe-0fb8-4929-f2b7-3e5bafbc571f"
      },
      "execution_count": null,
      "outputs": [
        {
          "output_type": "execute_result",
          "data": {
            "text/plain": [
              "SparseVector(27, {})"
            ]
          },
          "metadata": {},
          "execution_count": 198
        }
      ]
    },
    {
      "cell_type": "markdown",
      "source": [
        "No remarkable features in this model. "
      ],
      "metadata": {
        "id": "5-sS_Cj736qe"
      }
    },
    {
      "cell_type": "code",
      "source": [
        "df_auc3 = MulticlassClassificationEvaluator(labelCol = \"tay_sachs\").evaluate(df_predictions3)\n",
        "df_auc3"
      ],
      "metadata": {
        "colab": {
          "base_uri": "https://localhost:8080/"
        },
        "id": "aDB3bL7JCWE-",
        "outputId": "da17b969-d069-46ed-f6c7-ef58020e1f43"
      },
      "execution_count": null,
      "outputs": [
        {
          "output_type": "execute_result",
          "data": {
            "text/plain": [
              "0.7964367925854786"
            ]
          },
          "metadata": {},
          "execution_count": 142
        }
      ]
    },
    {
      "cell_type": "markdown",
      "source": [
        "The AUC of this model is 80%. This model is very good for predicting patients with Tay-Sachs."
      ],
      "metadata": {
        "id": "3jci_GZwz5go"
      }
    },
    {
      "cell_type": "markdown",
      "source": [
        "**Diabetes Decision Tree**"
      ],
      "metadata": {
        "id": "13_KJPG3uqo-"
      }
    },
    {
      "cell_type": "code",
      "source": [
        "model_df4 = output.select(\"features\", \"diabetes\")"
      ],
      "metadata": {
        "id": "mQC-_507v4ec"
      },
      "execution_count": null,
      "outputs": []
    },
    {
      "cell_type": "code",
      "source": [
        "training_df4, test_df4 = model_df4.randomSplit([0.7, 0.3], 1000)"
      ],
      "metadata": {
        "id": "u8xxHtsNw5QZ"
      },
      "execution_count": null,
      "outputs": []
    },
    {
      "cell_type": "code",
      "source": [
        "df_classifier4 = DecisionTreeClassifier(labelCol = \"diabetes\").fit(training_df4)"
      ],
      "metadata": {
        "id": "9kqOYvfaxq__"
      },
      "execution_count": null,
      "outputs": []
    },
    {
      "cell_type": "code",
      "source": [
        "df_predictions4 = df_classifier4.transform(test_df4)"
      ],
      "metadata": {
        "id": "wZbFyKQbyiwj"
      },
      "execution_count": null,
      "outputs": []
    },
    {
      "cell_type": "code",
      "source": [
        "df_accuracy4 = MulticlassClassificationEvaluator(labelCol=\"diabetes\",\n",
        "                                                metricName= \"accuracy\").evaluate(df_predictions4)\n",
        "\n",
        "df_accuracy4"
      ],
      "metadata": {
        "colab": {
          "base_uri": "https://localhost:8080/"
        },
        "id": "1UyLPxszzYoQ",
        "outputId": "844777a6-7251-4e6d-a006-5376f61d9c2a"
      },
      "execution_count": null,
      "outputs": [
        {
          "output_type": "execute_result",
          "data": {
            "text/plain": [
              "0.9097946819252777"
            ]
          },
          "metadata": {},
          "execution_count": 149
        }
      ]
    },
    {
      "cell_type": "markdown",
      "source": [
        "The accuracy of this model is 90%, which is very high. "
      ],
      "metadata": {
        "id": "qFi6nZq60SKU"
      }
    },
    {
      "cell_type": "code",
      "source": [
        "df_precision4 = MulticlassClassificationEvaluator(labelCol = \"diabetes\",\n",
        "                                                 metricName = \"weightedPrecision\").evaluate(df_predictions4)\n",
        "\n",
        "df_precision4"
      ],
      "metadata": {
        "colab": {
          "base_uri": "https://localhost:8080/"
        },
        "id": "-QUllB_30rnz",
        "outputId": "d9f3dca5-adb1-40d2-eb9e-712dbd35dfda"
      },
      "execution_count": null,
      "outputs": [
        {
          "output_type": "execute_result",
          "data": {
            "text/plain": [
              "0.8277263632595172"
            ]
          },
          "metadata": {},
          "execution_count": 150
        }
      ]
    },
    {
      "cell_type": "markdown",
      "source": [
        "The weighted precision is about 83%. "
      ],
      "metadata": {
        "id": "W9OhDT950Yl1"
      }
    },
    {
      "cell_type": "code",
      "source": [
        "df_classifier4.featureImportances"
      ],
      "metadata": {
        "colab": {
          "base_uri": "https://localhost:8080/"
        },
        "id": "icpzxSURDEVM",
        "outputId": "96aa4e88-d263-4c9f-957d-02fe67185168"
      },
      "execution_count": null,
      "outputs": [
        {
          "output_type": "execute_result",
          "data": {
            "text/plain": [
              "SparseVector(27, {})"
            ]
          },
          "metadata": {},
          "execution_count": 199
        }
      ]
    },
    {
      "cell_type": "markdown",
      "source": [
        "No remarkable features in this model."
      ],
      "metadata": {
        "id": "ejiSGJxH4APZ"
      }
    },
    {
      "cell_type": "code",
      "source": [
        "df_auc4 = MulticlassClassificationEvaluator(labelCol = \"diabetes\").evaluate(df_predictions4)\n",
        "df_auc4"
      ],
      "metadata": {
        "colab": {
          "base_uri": "https://localhost:8080/"
        },
        "id": "_q00Mg7sCfA1",
        "outputId": "6ecf3441-9559-47a7-afcb-1f5c679a80c1"
      },
      "execution_count": null,
      "outputs": [
        {
          "output_type": "execute_result",
          "data": {
            "text/plain": [
              "0.86682235644837"
            ]
          },
          "metadata": {},
          "execution_count": 200
        }
      ]
    },
    {
      "cell_type": "markdown",
      "source": [
        "The AUC of this model is 87%, which is very good. "
      ],
      "metadata": {
        "id": "0gu4nMlq0fPr"
      }
    },
    {
      "cell_type": "markdown",
      "source": [
        "**Hemochromatosis Decision Tree**"
      ],
      "metadata": {
        "id": "4LosDZh3uyz_"
      }
    },
    {
      "cell_type": "code",
      "source": [
        "model_df5 = output.select(\"features\", \"hemochromatosis\")"
      ],
      "metadata": {
        "id": "ZUplch3Kv8Ov"
      },
      "execution_count": null,
      "outputs": []
    },
    {
      "cell_type": "code",
      "source": [
        "training_df5, test_df5 = model_df5.randomSplit([0.7, 0.3], 1000)"
      ],
      "metadata": {
        "id": "6wMoCxlAw72D"
      },
      "execution_count": null,
      "outputs": []
    },
    {
      "cell_type": "code",
      "source": [
        "df_classifier5 = DecisionTreeClassifier(labelCol = \"hemochromatosis\").fit(training_df5)"
      ],
      "metadata": {
        "id": "BeliUW6JxxHc"
      },
      "execution_count": null,
      "outputs": []
    },
    {
      "cell_type": "code",
      "source": [
        "df_predictions5 = df_classifier5.transform(test_df5)"
      ],
      "metadata": {
        "id": "vPeGmWTZynGS"
      },
      "execution_count": null,
      "outputs": []
    },
    {
      "cell_type": "code",
      "source": [
        "df_accuracy5 = MulticlassClassificationEvaluator(labelCol=\"hemochromatosis\",\n",
        "                                                metricName= \"accuracy\").evaluate(df_predictions5)\n",
        "\n",
        "df_accuracy5"
      ],
      "metadata": {
        "colab": {
          "base_uri": "https://localhost:8080/"
        },
        "id": "Ep7DPn6uzgvK",
        "outputId": "e104b963-6f90-436a-9448-68be23c747f4"
      },
      "execution_count": null,
      "outputs": [
        {
          "output_type": "execute_result",
          "data": {
            "text/plain": [
              "0.9348704140020195"
            ]
          },
          "metadata": {},
          "execution_count": 160
        }
      ]
    },
    {
      "cell_type": "markdown",
      "source": [
        "The accuracy of this model is 93% when predicting Hemochromatosis"
      ],
      "metadata": {
        "id": "6uS3QMAo1s2l"
      }
    },
    {
      "cell_type": "code",
      "source": [
        "df_precision5 = MulticlassClassificationEvaluator(labelCol = \"hemochromatosis\",\n",
        "                                                 metricName = \"weightedPrecision\").evaluate(df_predictions5)\n",
        "\n",
        "df_precision5"
      ],
      "metadata": {
        "colab": {
          "base_uri": "https://localhost:8080/"
        },
        "id": "qZOUUn0i0x_m",
        "outputId": "af52dbe3-d015-41ba-e39d-e85a266b3b25"
      },
      "execution_count": null,
      "outputs": [
        {
          "output_type": "execute_result",
          "data": {
            "text/plain": [
              "0.8739826909763073"
            ]
          },
          "metadata": {},
          "execution_count": 161
        }
      ]
    },
    {
      "cell_type": "markdown",
      "source": [
        "The weighted precision of this model is 87%. "
      ],
      "metadata": {
        "id": "KvG3oC8J10Eu"
      }
    },
    {
      "cell_type": "code",
      "source": [
        "df_classifier5.featureImportances"
      ],
      "metadata": {
        "colab": {
          "base_uri": "https://localhost:8080/"
        },
        "id": "xpnQWNb7DHy4",
        "outputId": "ed93fd58-69bf-428b-d772-61c45de2087b"
      },
      "execution_count": null,
      "outputs": [
        {
          "output_type": "execute_result",
          "data": {
            "text/plain": [
              "SparseVector(27, {})"
            ]
          },
          "metadata": {},
          "execution_count": 201
        }
      ]
    },
    {
      "cell_type": "markdown",
      "source": [
        "No remarkable features. "
      ],
      "metadata": {
        "id": "xbWSxI1d4w1y"
      }
    },
    {
      "cell_type": "code",
      "source": [
        "df_auc5 = MulticlassClassificationEvaluator(labelCol = \"hemochromatosis\").evaluate(df_predictions5)\n",
        "df_auc5"
      ],
      "metadata": {
        "colab": {
          "base_uri": "https://localhost:8080/"
        },
        "id": "Wk5sHEmLCjvy",
        "outputId": "383bb047-db13-46f5-984d-cdec8537402c"
      },
      "execution_count": null,
      "outputs": [
        {
          "output_type": "execute_result",
          "data": {
            "text/plain": [
              "0.9034017830357864"
            ]
          },
          "metadata": {},
          "execution_count": 164
        }
      ]
    },
    {
      "cell_type": "markdown",
      "source": [
        "The AUC of this model is 90%, which is very good. "
      ],
      "metadata": {
        "id": "POW8SAqL17fD"
      }
    },
    {
      "cell_type": "markdown",
      "source": [
        "**Leber's Hereditary Optic Neuropathy Decision Tree**"
      ],
      "metadata": {
        "id": "xIxK9oUNu4DP"
      }
    },
    {
      "cell_type": "code",
      "source": [
        "model_df6 = output.select(\"features\", \"lebers\")"
      ],
      "metadata": {
        "id": "Gc6-PG7cwBwE"
      },
      "execution_count": null,
      "outputs": []
    },
    {
      "cell_type": "code",
      "source": [
        "training_df6, test_df6 = model_df6.randomSplit([0.7, 0.3], 1000)"
      ],
      "metadata": {
        "id": "IqccFKwXw_q-"
      },
      "execution_count": null,
      "outputs": []
    },
    {
      "cell_type": "code",
      "source": [
        "df_classifier6 = DecisionTreeClassifier(labelCol = \"lebers\").fit(training_df6)"
      ],
      "metadata": {
        "id": "OEKModFZx3H_"
      },
      "execution_count": null,
      "outputs": []
    },
    {
      "cell_type": "code",
      "source": [
        "df_predictions6 = df_classifier6.transform(test_df6)"
      ],
      "metadata": {
        "id": "alJslC98ytnh"
      },
      "execution_count": null,
      "outputs": []
    },
    {
      "cell_type": "code",
      "source": [
        "df_accuracy6 = MulticlassClassificationEvaluator(labelCol=\"lebers\",\n",
        "                                                metricName= \"accuracy\").evaluate(df_predictions6)\n",
        "\n",
        "df_accuracy6"
      ],
      "metadata": {
        "colab": {
          "base_uri": "https://localhost:8080/"
        },
        "id": "drGtW54Zzpht",
        "outputId": "4bea58a5-ccb5-4a91-bcf0-d8a8591bb7d9"
      },
      "execution_count": null,
      "outputs": [
        {
          "output_type": "execute_result",
          "data": {
            "text/plain": [
              "0.9678559407606866"
            ]
          },
          "metadata": {},
          "execution_count": 171
        }
      ]
    },
    {
      "cell_type": "markdown",
      "source": [
        "The accuracy of this model is 97% when prediciting Leber's. "
      ],
      "metadata": {
        "id": "V2GLmcPy2LfC"
      }
    },
    {
      "cell_type": "code",
      "source": [
        "df_precision6 = MulticlassClassificationEvaluator(labelCol = \"lebers\",\n",
        "                                                 metricName = \"weightedPrecision\").evaluate(df_predictions6)\n",
        "\n",
        "df_precision6"
      ],
      "metadata": {
        "colab": {
          "base_uri": "https://localhost:8080/"
        },
        "id": "nGsOVilS04Vo",
        "outputId": "79a6f69e-a543-41f1-bf40-01c11cda5030"
      },
      "execution_count": null,
      "outputs": [
        {
          "output_type": "execute_result",
          "data": {
            "text/plain": [
              "0.9367451220657538"
            ]
          },
          "metadata": {},
          "execution_count": 173
        }
      ]
    },
    {
      "cell_type": "markdown",
      "source": [
        "The weighted precision of this model is about 94%."
      ],
      "metadata": {
        "id": "fUKz8abn2Ril"
      }
    },
    {
      "cell_type": "code",
      "source": [
        "df_classifier6.featureImportances"
      ],
      "metadata": {
        "colab": {
          "base_uri": "https://localhost:8080/"
        },
        "id": "Rsv5jpBJDLZQ",
        "outputId": "460940e5-c68e-4965-ea5d-7f78ad5aafda"
      },
      "execution_count": null,
      "outputs": [
        {
          "output_type": "execute_result",
          "data": {
            "text/plain": [
              "SparseVector(27, {})"
            ]
          },
          "metadata": {},
          "execution_count": 174
        }
      ]
    },
    {
      "cell_type": "markdown",
      "source": [
        "No remarkable features. "
      ],
      "metadata": {
        "id": "Rb7xI7Kc5A_H"
      }
    },
    {
      "cell_type": "code",
      "source": [
        "df_auc6 = MulticlassClassificationEvaluator(labelCol = \"lebers\").evaluate(df_predictions6)\n",
        "df_auc6"
      ],
      "metadata": {
        "colab": {
          "base_uri": "https://localhost:8080/"
        },
        "id": "pLKFa6etCpR_",
        "outputId": "f5bd79be-d602-46ad-b585-8ee611598874"
      },
      "execution_count": null,
      "outputs": [
        {
          "output_type": "execute_result",
          "data": {
            "text/plain": [
              "0.952046440659319"
            ]
          },
          "metadata": {},
          "execution_count": 175
        }
      ]
    },
    {
      "cell_type": "markdown",
      "source": [
        "The AUC of this model is 95%. As the number of instances decrease, we notice the evaluation measures for the models increase. "
      ],
      "metadata": {
        "id": "HzLLfjvV2Zao"
      }
    },
    {
      "cell_type": "markdown",
      "source": [
        "**Alzheimer's Decision Tree**"
      ],
      "metadata": {
        "id": "dufr__KzvOpo"
      }
    },
    {
      "cell_type": "code",
      "source": [
        "model_df7 = output.select(\"features\", \"alzheimers\")"
      ],
      "metadata": {
        "id": "MwyZTd5ZwHm_"
      },
      "execution_count": null,
      "outputs": []
    },
    {
      "cell_type": "code",
      "source": [
        "training_df7, test_df7 = model_df7.randomSplit([0.7, 0.3], 1000)"
      ],
      "metadata": {
        "id": "RzyKue9MxCfm"
      },
      "execution_count": null,
      "outputs": []
    },
    {
      "cell_type": "code",
      "source": [
        "df_classifier7 = DecisionTreeClassifier(labelCol = \"alzheimers\").fit(training_df7)"
      ],
      "metadata": {
        "id": "3NDwd9JMyCVO"
      },
      "execution_count": null,
      "outputs": []
    },
    {
      "cell_type": "code",
      "source": [
        "df_predictions7 = df_classifier7.transform(test_df7)"
      ],
      "metadata": {
        "id": "pnyYjOnDyyv1"
      },
      "execution_count": null,
      "outputs": []
    },
    {
      "cell_type": "code",
      "source": [
        "df_accuracy7 = MulticlassClassificationEvaluator(labelCol=\"alzheimers\",\n",
        "                                                metricName= \"accuracy\").evaluate(df_predictions7)\n",
        "\n",
        "df_accuracy7"
      ],
      "metadata": {
        "colab": {
          "base_uri": "https://localhost:8080/"
        },
        "id": "U-zgXjyDzxfT",
        "outputId": "87da4eea-aa25-4a6a-ea95-c30555fb38a9"
      },
      "execution_count": null,
      "outputs": [
        {
          "output_type": "execute_result",
          "data": {
            "text/plain": [
              "0.9909121507909795"
            ]
          },
          "metadata": {},
          "execution_count": 180
        }
      ]
    },
    {
      "cell_type": "markdown",
      "source": [
        "The accuracy of this model is 99%. This is due to the small amount of instances in the dataset."
      ],
      "metadata": {
        "id": "mNCNkCMQ2o-a"
      }
    },
    {
      "cell_type": "code",
      "source": [
        "df_precision7 = MulticlassClassificationEvaluator(labelCol = \"alzheimers\",\n",
        "                                                 metricName = \"weightedPrecision\").evaluate(df_predictions7)\n",
        "\n",
        "df_precision7"
      ],
      "metadata": {
        "colab": {
          "base_uri": "https://localhost:8080/"
        },
        "id": "-8MUQ2EF09N_",
        "outputId": "80c3cc61-7ce1-4bce-ec35-bc5c9d4b6ac0"
      },
      "execution_count": null,
      "outputs": [
        {
          "output_type": "execute_result",
          "data": {
            "text/plain": [
              "0.9819068905852049"
            ]
          },
          "metadata": {},
          "execution_count": 181
        }
      ]
    },
    {
      "cell_type": "markdown",
      "source": [
        "The weighted precision of the model is 98%. "
      ],
      "metadata": {
        "id": "u7pcFr9C2xyo"
      }
    },
    {
      "cell_type": "code",
      "source": [
        "df_classifier7.featureImportances"
      ],
      "metadata": {
        "colab": {
          "base_uri": "https://localhost:8080/"
        },
        "id": "wY9hzz0ODO-t",
        "outputId": "49f932e8-8357-41a5-897f-037943a72fc2"
      },
      "execution_count": null,
      "outputs": [
        {
          "output_type": "execute_result",
          "data": {
            "text/plain": [
              "SparseVector(27, {})"
            ]
          },
          "metadata": {},
          "execution_count": 183
        }
      ]
    },
    {
      "cell_type": "markdown",
      "source": [
        "No remarkable features. "
      ],
      "metadata": {
        "id": "mMdTIPzE5E5Z"
      }
    },
    {
      "cell_type": "code",
      "source": [
        "df_auc7 = MulticlassClassificationEvaluator(labelCol = \"alzheimers\").evaluate(df_predictions7)\n",
        "df_auc7"
      ],
      "metadata": {
        "colab": {
          "base_uri": "https://localhost:8080/"
        },
        "id": "01CppHMRCxtP",
        "outputId": "9edd229d-267f-43d4-d621-11201eb50220"
      },
      "execution_count": null,
      "outputs": [
        {
          "output_type": "execute_result",
          "data": {
            "text/plain": [
              "0.9863889676850865"
            ]
          },
          "metadata": {},
          "execution_count": 184
        }
      ]
    },
    {
      "cell_type": "markdown",
      "source": [
        "The AUC of the model is 98%. As previously mentioned, the evaluaters of the models have increased as the number of instances has decreased. We would most likely get more accurate models with more instances of these diseases.  "
      ],
      "metadata": {
        "id": "tBXsRCfh22qg"
      }
    },
    {
      "cell_type": "markdown",
      "source": [
        "**Cancer Decision Tree**"
      ],
      "metadata": {
        "id": "g-vEQs6ZvSEd"
      }
    },
    {
      "cell_type": "code",
      "source": [
        "model_df8 = output.select(\"features\", \"cancer\")"
      ],
      "metadata": {
        "id": "xh9LCxRTuupT"
      },
      "execution_count": null,
      "outputs": []
    },
    {
      "cell_type": "code",
      "source": [
        "training_df8, test_df8 = model_df8.randomSplit([0.7, 0.3], 1000)"
      ],
      "metadata": {
        "id": "zeGVVhS_xGGn"
      },
      "execution_count": null,
      "outputs": []
    },
    {
      "cell_type": "code",
      "source": [
        "df_classifier8 = DecisionTreeClassifier(labelCol = \"cancer\").fit(training_df8)"
      ],
      "metadata": {
        "id": "CiRBs2jiyHuR"
      },
      "execution_count": null,
      "outputs": []
    },
    {
      "cell_type": "code",
      "source": [
        "df_predictions8 = df_classifier8.transform(test_df8)"
      ],
      "metadata": {
        "id": "BYlZDhR9y1XG"
      },
      "execution_count": null,
      "outputs": []
    },
    {
      "cell_type": "code",
      "source": [
        "df_accuracy8 = MulticlassClassificationEvaluator(labelCol=\"cancer\",\n",
        "                                                metricName= \"accuracy\").evaluate(df_predictions8)\n",
        "\n",
        "df_accuracy8"
      ],
      "metadata": {
        "colab": {
          "base_uri": "https://localhost:8080/"
        },
        "id": "-LdLPfEJz358",
        "outputId": "0bb675c9-322c-4422-ac5c-92c886002222"
      },
      "execution_count": null,
      "outputs": [
        {
          "output_type": "execute_result",
          "data": {
            "text/plain": [
              "0.9947829013800067"
            ]
          },
          "metadata": {},
          "execution_count": 189
        }
      ]
    },
    {
      "cell_type": "markdown",
      "source": [
        "The accuracy of the model is 99% for predicting Cancer."
      ],
      "metadata": {
        "id": "tqS0-fG93Kvl"
      }
    },
    {
      "cell_type": "code",
      "source": [
        "df_precision8 = MulticlassClassificationEvaluator(labelCol = \"cancer\",\n",
        "                                                 metricName = \"weightedPrecision\").evaluate(df_predictions8)\n",
        "\n",
        "df_precision8"
      ],
      "metadata": {
        "colab": {
          "base_uri": "https://localhost:8080/"
        },
        "id": "uufX3LtC1IWb",
        "outputId": "c29e9d44-0db5-408a-a7d4-330b855ac021"
      },
      "execution_count": null,
      "outputs": [
        {
          "output_type": "execute_result",
          "data": {
            "text/plain": [
              "0.9895930208780241"
            ]
          },
          "metadata": {},
          "execution_count": 190
        }
      ]
    },
    {
      "cell_type": "markdown",
      "source": [
        "The weighted precision of the model is also 99%. "
      ],
      "metadata": {
        "id": "gWFXNCfB3P4v"
      }
    },
    {
      "cell_type": "code",
      "source": [
        "df_classifier8.featureImportances"
      ],
      "metadata": {
        "colab": {
          "base_uri": "https://localhost:8080/"
        },
        "id": "q5Q8s3JM1k_e",
        "outputId": "c2ae0bf6-b94b-453c-a49a-2cad8bb6fbca"
      },
      "execution_count": null,
      "outputs": [
        {
          "output_type": "execute_result",
          "data": {
            "text/plain": [
              "SparseVector(27, {})"
            ]
          },
          "metadata": {},
          "execution_count": 191
        }
      ]
    },
    {
      "cell_type": "markdown",
      "source": [
        "No remarkable features. "
      ],
      "metadata": {
        "id": "f0i8vU7A5HrI"
      }
    },
    {
      "cell_type": "code",
      "source": [
        "df_auc8 = MulticlassClassificationEvaluator(labelCol = \"cancer\").evaluate(df_predictions8)\n",
        "df_auc8"
      ],
      "metadata": {
        "colab": {
          "base_uri": "https://localhost:8080/"
        },
        "id": "0GA0gc5EC53m",
        "outputId": "30baa13e-0aaf-43ec-ab97-398b1c0db008"
      },
      "execution_count": null,
      "outputs": [
        {
          "output_type": "execute_result",
          "data": {
            "text/plain": [
              "0.9921811743958862"
            ]
          },
          "metadata": {},
          "execution_count": 192
        }
      ]
    },
    {
      "cell_type": "markdown",
      "source": [
        "The AUC of the model is 99%. \n",
        "\n",
        "We are more likely to get a better model with less overfitting with more instances of the diseases. "
      ],
      "metadata": {
        "id": "w_L2uog83VFQ"
      }
    },
    {
      "cell_type": "markdown",
      "source": [
        "Overall, the models could be improved with more instances of the diseases with could come from data collection or simulated instances to create better predictions. "
      ],
      "metadata": {
        "id": "YNAmEe4R5KQ1"
      }
    },
    {
      "cell_type": "markdown",
      "source": [
        "**Resources:**\n",
        "\n",
        "https://medium.com/radon-dev/item-item-collaborative-filtering-with-binary-or-unary-data-e8f0b465b2c3\n",
        "\n",
        "https://academic.oup.com/bioinformatics/article/34/22/3907/5026663\n",
        "\n",
        "https://towardsdatascience.com/recommender-systems-item-customer-collaborative-filtering-ff0c8f41ae8a\n",
        "\n",
        "\n",
        "https://medium.com/analytics-vidhya/linear-regression-and-decision-tree-implementation-using-pyspark-bfcd93dee86\n",
        "\n",
        "https://python.plainenglish.io/decision-trees-random-forests-in-pyspark-d07546e4fa7d\n",
        "\n",
        "https://spark.apache.org/docs/latest/api/python/reference/api/pyspark.ml.classification.DecisionTreeClassifier.html\n",
        "\n",
        "https://www.datatechnotes.com/2021/06/pyspark-decision-tree-classification.html\n",
        "\n",
        "https://towardsdatascience.com/choosing-performance-metrics-61b40819eae1\n",
        "\n"
      ],
      "metadata": {
        "id": "86kTM9eV9tju"
      }
    }
  ]
}